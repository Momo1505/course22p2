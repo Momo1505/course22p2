{
 "cells": [
  {
   "cell_type": "code",
   "execution_count": 1,
   "id": "534aafd9-2e33-46f4-b53d-59fbb4ed2b81",
   "metadata": {},
   "outputs": [],
   "source": [
    "import pickle,gzip,math,os,time,shutil,torch,matplotlib as mpl, numpy as np\n",
    "from pathlib import Path\n",
    "from torch import tensor\n",
    "from fastcore.test import test_close\n",
    "torch.manual_seed(42)\n",
    "\n",
    "mpl.rcParams['image.cmap'] = 'gray'\n",
    "torch.set_printoptions(precision=2, linewidth=125, sci_mode=False)\n",
    "np.set_printoptions(precision=2, linewidth=125)\n",
    "\n",
    "path_data = Path('../data')\n",
    "path_gz = path_data/'mnist.pkl.gz'\n",
    "with gzip.open(path_gz, 'rb') as f: ((x_train, y_train), (x_valid, y_valid), _) = pickle.load(f, encoding='latin-1')\n",
    "x_train, y_train, x_valid, y_valid = map(tensor, [x_train, y_train, x_valid, y_valid])"
   ]
  },
  {
   "cell_type": "markdown",
   "id": "7961f246-8c09-4d95-a33d-0af297149325",
   "metadata": {},
   "source": [
    "# Model with linear layer"
   ]
  },
  {
   "cell_type": "code",
   "execution_count": 2,
   "id": "407fa089-7ee8-4572-bf0d-fa3df5e00b06",
   "metadata": {},
   "outputs": [
    {
     "data": {
      "text/plain": [
       "(torch.Size([50000, 784]), torch.Size([50000]))"
      ]
     },
     "execution_count": 2,
     "metadata": {},
     "output_type": "execute_result"
    }
   ],
   "source": [
    "x_train.shape,y_train.shape"
   ]
  },
  {
   "cell_type": "code",
   "execution_count": 3,
   "id": "4738c92f-5cbd-4e5f-a50f-1ff2076bf366",
   "metadata": {},
   "outputs": [],
   "source": [
    "n_hidden_activations = 50\n",
    "n_features = x_train.shape[1]\n",
    "n_labels = y_train.max() + 1"
   ]
  },
  {
   "cell_type": "code",
   "execution_count": 77,
   "id": "8f1802d3-f62b-4e57-8bfd-3c17dd2e2c0b",
   "metadata": {},
   "outputs": [],
   "source": [
    "w_layer_1 = torch.randn(n_features,n_hidden_activations)\n",
    "bias_layer_1 = torch.zeros(n_hidden_activations)\n",
    "w_layer_2 = torch.randn(n_hidden_activations,1)\n",
    "bias_layer_2 = torch.zeros(1)"
   ]
  },
  {
   "cell_type": "code",
   "execution_count": 5,
   "id": "67952090-3fd5-4472-bd05-9072c2204886",
   "metadata": {},
   "outputs": [
    {
     "data": {
      "text/plain": [
       "tensor([ 0.48,  0.29, -0.32, -0.30,  0.24,  0.08, -0.15])"
      ]
     },
     "execution_count": 5,
     "metadata": {},
     "output_type": "execute_result"
    }
   ],
   "source": [
    "a = torch.rand(7) -0.5\n",
    "a"
   ]
  },
  {
   "cell_type": "code",
   "execution_count": 6,
   "id": "533d5f35-48d3-4f46-9d6a-7e3b40c1f97b",
   "metadata": {},
   "outputs": [],
   "source": [
    "def relu(x):\n",
    "    return x.clamp_min(0.)"
   ]
  },
  {
   "cell_type": "code",
   "execution_count": 7,
   "id": "7a75191d-6182-43a8-a434-5ec3b1f47f9e",
   "metadata": {},
   "outputs": [],
   "source": [
    "def linear(x,weight,bias):\n",
    "    return x@weight + bias"
   ]
  },
  {
   "cell_type": "code",
   "execution_count": 12,
   "id": "7b621717-ceaf-4bc9-a5c0-0f98eb6028e4",
   "metadata": {},
   "outputs": [],
   "source": [
    "def model(x_batch):\n",
    "    l1 = linear(x_batch,w_layer_1,bias_layer_1)\n",
    "    out1 = relu(l1)\n",
    "    out = linear(out1,w_layer_2,bias_layer_2)\n",
    "    return out"
   ]
  },
  {
   "cell_type": "code",
   "execution_count": 13,
   "id": "a27bf63c-9a2a-42cc-b575-894e0e99de65",
   "metadata": {},
   "outputs": [
    {
     "data": {
      "text/plain": [
       "torch.Size([50000, 1])"
      ]
     },
     "execution_count": 13,
     "metadata": {},
     "output_type": "execute_result"
    }
   ],
   "source": [
    "res = model(x_train)\n",
    "res.shape"
   ]
  },
  {
   "cell_type": "markdown",
   "id": "f98dcfa8-aa9a-4440-a28b-475e059cff0c",
   "metadata": {},
   "source": [
    "# Loss function"
   ]
  },
  {
   "cell_type": "code",
   "execution_count": 14,
   "id": "847ffb25-503d-49e0-9407-60490c59ed99",
   "metadata": {},
   "outputs": [
    {
     "data": {
      "text/plain": [
       "torch.Size([50000, 1])"
      ]
     },
     "execution_count": 14,
     "metadata": {},
     "output_type": "execute_result"
    }
   ],
   "source": [
    "(res - y_train[...,None]).shape"
   ]
  },
  {
   "cell_type": "code",
   "execution_count": 22,
   "id": "a5a1608d-6732-45c4-b410-5538cc2b7a0b",
   "metadata": {},
   "outputs": [],
   "source": [
    "def mse(predictions, target):\n",
    "    return (predictions - target[...,None]).pow(2).mean()"
   ]
  },
  {
   "cell_type": "code",
   "execution_count": 15,
   "id": "4537d68c-148f-46ed-b2e9-1c66d693fb12",
   "metadata": {},
   "outputs": [],
   "source": [
    "def linear_grad(X,out,w,b):\n",
    "    X.gradient = out.gradient@w.T\n",
    "    w.gradient = X.T@out.gradient\n",
    "    b.gradient = out.gradient.sum(0)"
   ]
  },
  {
   "cell_type": "code",
   "execution_count": 114,
   "id": "2795bf0e-8a5d-48a4-898c-eecea91ad655",
   "metadata": {},
   "outputs": [],
   "source": [
    "def forward_and_backward(X,Y):\n",
    "    l1 = linear(X,w_layer_1,bias_layer_1)\n",
    "    out1 = relu(l1)\n",
    "    out = linear(out1,w_layer_2,bias_layer_2)\n",
    "    diff = (out - Y[...,None])\n",
    "    loss = diff.pow(2).mean\n",
    "    \n",
    "    # backward\n",
    "    out.gradient = 2. * diff /X.shape[0]\n",
    "    linear_grad(out1,out,w_layer_2,bias_layer_2)\n",
    "    l1.gradient = (out1>0).float() * out1.gradient\n",
    "    linear_grad(X,l1,w_layer_1,bias_layer_1)"
   ]
  },
  {
   "cell_type": "code",
   "execution_count": 115,
   "id": "cf613078-ed83-49d5-9312-94cd14242120",
   "metadata": {},
   "outputs": [],
   "source": [
    "forward_and_backward(x_train,y_train)"
   ]
  },
  {
   "cell_type": "code",
   "execution_count": 116,
   "id": "4103e946-0744-42a7-97a5-3760c8a35334",
   "metadata": {},
   "outputs": [],
   "source": [
    "def get_grad(x):\n",
    "    return x.gradient.clone()"
   ]
  },
  {
   "cell_type": "code",
   "execution_count": 117,
   "id": "eb3c8965-41d3-4aa5-8a18-e88bd5f3dd91",
   "metadata": {},
   "outputs": [],
   "source": [
    "chunks = w_layer_2,bias_layer_2,w_layer_1,bias_layer_1,x_train\n",
    "grads = w2g,b2g,w1g,b1g,ig = tuple(map(get_grad,chunks))"
   ]
  },
  {
   "cell_type": "code",
   "execution_count": 118,
   "id": "aa4da60d-11c7-42ac-8761-9768016bbc47",
   "metadata": {},
   "outputs": [],
   "source": [
    "def make_grad(x):\n",
    "    return x.clone().requires_grad_(True)\n",
    "ptgrads = w22,b22,w12,b12,xt2 = tuple(map(make_grad,chunks))"
   ]
  },
  {
   "cell_type": "code",
   "execution_count": 119,
   "id": "621bb428-1baa-4d88-9c8d-171563f2f310",
   "metadata": {},
   "outputs": [],
   "source": [
    "def forward(X,y):\n",
    "    l1 = X@w12+b12\n",
    "    out1 = relu(l1)\n",
    "    out = out1@w22+b22\n",
    "    return mse(out,y)"
   ]
  },
  {
   "cell_type": "code",
   "execution_count": 120,
   "id": "2206f92d-704d-46ba-86d3-92825c4edcee",
   "metadata": {},
   "outputs": [],
   "source": [
    "loss = forward(x_train,y_train)\n",
    "loss.backward()"
   ]
  },
  {
   "cell_type": "markdown",
   "id": "ea179022-2f9f-427c-8cda-689e0710a22d",
   "metadata": {},
   "source": [
    "### Refactoring into classes"
   ]
  },
  {
   "cell_type": "code",
   "execution_count": 121,
   "id": "d2995908-cd80-4d24-99ae-867cf87495f7",
   "metadata": {},
   "outputs": [],
   "source": [
    "class Relu():\n",
    "    def __call__(self,inp):\n",
    "        self.inp = inp\n",
    "        self.out = inp.clamp_min(0.0)\n",
    "        return self.out\n",
    "    def backward(self):\n",
    "        self.inp.g = (self.inp>0.).float() * self.out.g "
   ]
  },
  {
   "cell_type": "code",
   "execution_count": 122,
   "id": "dcefd488-bdf9-409e-86f9-0201fa0c5665",
   "metadata": {},
   "outputs": [],
   "source": [
    "class Linear():\n",
    "    def __init__(self, w, b): self.w,self.b = w,b\n",
    "    \n",
    "    def __call__(self,inp):\n",
    "        self.inp = inp\n",
    "        self.out = inp@self.w + self.b\n",
    "        return self.out\n",
    "    def backward(self):\n",
    "        self.inp.g = self.out.g@self.w.T\n",
    "        self.w.g = self.inp.T@self.out.g\n",
    "        self.b.g = self.out.g.sum(0)"
   ]
  },
  {
   "cell_type": "code",
   "execution_count": 123,
   "id": "f23ca8d7-fe62-4fdd-80fa-8b7c282516bb",
   "metadata": {},
   "outputs": [],
   "source": [
    "class Mse():\n",
    "    def __call__(self,inp,targ):\n",
    "        self.inp = inp\n",
    "        self.targ = targ\n",
    "        self.out = mse(inp,targ)\n",
    "        return self.out\n",
    "    def backward(self):\n",
    "        self.inp.g = 2. * (self.inp.squeeze() - self.targ).unsqueeze(-1) / self.targ.shape[0]"
   ]
  },
  {
   "cell_type": "code",
   "execution_count": 124,
   "id": "26d557a7-66f4-46f3-ae4d-00df412ddcb4",
   "metadata": {},
   "outputs": [],
   "source": [
    "class Model():\n",
    "    def __init__(self,w1,b1,w2,b2):\n",
    "        self.layers = [Linear(w1,b1),Relu(),Linear(w2,b2)]\n",
    "        self.loss = Mse()\n",
    "        \n",
    "    def __call__(self,x,targ):\n",
    "        for layer in self.layers:\n",
    "            x = layer(x)\n",
    "        return self.loss(x,targ)\n",
    "    def backward(self):\n",
    "        self.loss.backward()\n",
    "        for layer in reversed(self.layers):\n",
    "            layer.backward()"
   ]
  },
  {
   "cell_type": "code",
   "execution_count": 125,
   "id": "05815d9e-5119-486e-a16e-16fa20d34c68",
   "metadata": {},
   "outputs": [],
   "source": [
    "model = Model(w_layer_1, bias_layer_1, w_layer_2, bias_layer_2)"
   ]
  },
  {
   "cell_type": "code",
   "execution_count": 126,
   "id": "a00b52a0-6449-430a-a085-a338283db1bc",
   "metadata": {},
   "outputs": [
    {
     "data": {
      "text/plain": [
       "torch.Size([784, 50])"
      ]
     },
     "execution_count": 126,
     "metadata": {},
     "output_type": "execute_result"
    }
   ],
   "source": [
    "w_layer_1.shape"
   ]
  },
  {
   "cell_type": "code",
   "execution_count": 127,
   "id": "acfa4818-2cf4-4a61-a438-9b8d95c34325",
   "metadata": {},
   "outputs": [],
   "source": [
    "loss = model(x_train, y_train)"
   ]
  },
  {
   "cell_type": "code",
   "execution_count": 128,
   "id": "e91ea503-bc3f-41b2-8b0c-4b77337b7ed1",
   "metadata": {},
   "outputs": [],
   "source": [
    "model.backward()"
   ]
  },
  {
   "cell_type": "code",
   "execution_count": 129,
   "id": "614cfe30-d2c2-41bf-8ece-659da3719fb7",
   "metadata": {},
   "outputs": [],
   "source": [
    "test_close(w2g, w_layer_2.g, eps=0.01)\n",
    "test_close(b2g, bias_layer_2.g, eps=0.01)\n",
    "test_close(w1g, w_layer_1.g, eps=0.01)\n",
    "test_close(b1g, bias_layer_1.g, eps=0.01)\n",
    "test_close(ig, x_train.g, eps=0.01)"
   ]
  },
  {
   "cell_type": "code",
   "execution_count": null,
   "id": "d07e6a82-53e3-47ee-bc89-64a9b46ca0f0",
   "metadata": {},
   "outputs": [],
   "source": []
  }
 ],
 "metadata": {
  "kernelspec": {
   "display_name": "Python 3 (ipykernel)",
   "language": "python",
   "name": "python3"
  },
  "language_info": {
   "codemirror_mode": {
    "name": "ipython",
    "version": 3
   },
   "file_extension": ".py",
   "mimetype": "text/x-python",
   "name": "python",
   "nbconvert_exporter": "python",
   "pygments_lexer": "ipython3",
   "version": "3.9.13"
  }
 },
 "nbformat": 4,
 "nbformat_minor": 5
}
