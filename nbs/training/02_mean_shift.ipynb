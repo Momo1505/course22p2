{
 "cells": [
  {
   "cell_type": "code",
   "execution_count": 1,
   "id": "d9979a2a-b74a-489b-8d25-2313c24fb990",
   "metadata": {},
   "outputs": [],
   "source": [
    "import math, matplotlib.pyplot as plt, operator, torch\n",
    "from functools import partial \n",
    "from torch import tensor"
   ]
  },
  {
   "cell_type": "code",
   "execution_count": 2,
   "id": "b82268c9-3559-4adf-be68-d6e235576d17",
   "metadata": {},
   "outputs": [],
   "source": [
    "torch.manual_seed(42)\n",
    "torch.set_printoptions(precision=3, linewidth=140, sci_mode=False)"
   ]
  },
  {
   "cell_type": "markdown",
   "id": "59e00160-1cb7-4b74-bea5-dc9040e66779",
   "metadata": {},
   "source": [
    "### Create the data"
   ]
  },
  {
   "cell_type": "code",
   "execution_count": 3,
   "id": "ebd2b392-60ee-48ca-a9c4-181afe4d21b9",
   "metadata": {},
   "outputs": [],
   "source": [
    "n_clusters = 6\n",
    "n_samples = 250"
   ]
  },
  {
   "cell_type": "code",
   "execution_count": 4,
   "id": "03e85e5a-d9e5-4ab6-a088-eeb8906a5c62",
   "metadata": {},
   "outputs": [],
   "source": [
    "centroids = torch.rand(n_clusters,2)*70-30"
   ]
  },
  {
   "cell_type": "code",
   "execution_count": 5,
   "id": "f55f2072-e5e6-4d1f-a98d-119f5e4223eb",
   "metadata": {},
   "outputs": [],
   "source": [
    "from torch.distributions.multivariate_normal import MultivariateNormal"
   ]
  },
  {
   "cell_type": "code",
   "execution_count": 6,
   "id": "1170c822-6403-43f1-a04f-fd085d08df49",
   "metadata": {},
   "outputs": [],
   "source": [
    "def sample(m,n_samples=n_samples):\n",
    "    return MultivariateNormal(m,torch.diag(tensor([5.,5.]))).sample((n_samples,))"
   ]
  },
  {
   "cell_type": "code",
   "execution_count": 60,
   "id": "9b1ecceb-791d-4082-ac9c-cda6d38b4a4b",
   "metadata": {},
   "outputs": [
    {
     "data": {
      "text/plain": [
       "torch.Size([1500, 2])"
      ]
     },
     "execution_count": 60,
     "metadata": {},
     "output_type": "execute_result"
    }
   ],
   "source": [
    "data = torch.cat(([sample(m) for m in centroids]),dim=0)\n",
    "data.shape"
   ]
  },
  {
   "cell_type": "markdown",
   "id": "6fdcf40a-1c55-427a-a4e4-3c48b779df53",
   "metadata": {},
   "source": [
    "### Plotting the data and centroids"
   ]
  },
  {
   "cell_type": "code",
   "execution_count": 8,
   "id": "bbbbd76d-8ac1-422a-b18b-b25a5cbb34ce",
   "metadata": {},
   "outputs": [],
   "source": [
    "def plot_data(centroids, data, n_samples, ax=None):\n",
    "    if ax is None: \n",
    "        _,ax = plt.subplots()\n",
    "    for i,centroid in enumerate(centroids):\n",
    "        samples = data[i*n_samples:(i+1)*n_samples]\n",
    "        ax.scatter(samples[:,0],samples[:,1],s=1)\n",
    "        ax.plot(*centroid, markersize=10, marker=\"x\", color='k', mew=5)\n",
    "        ax.plot(*centroid, markersize=5, marker=\"x\", color='m', mew=2)"
   ]
  },
  {
   "cell_type": "code",
   "execution_count": 9,
   "id": "76373ed6-00b7-4341-9e58-12027471d48b",
   "metadata": {},
   "outputs": [
    {
     "data": {
      "image/png": "[encoded data removed]",
      "text/plain": [
       "<Figure size 432x288 with 1 Axes>"
      ]
     },
     "metadata": {
      "needs_background": "light"
     },
     "output_type": "display_data"
    }
   ],
   "source": [
    "plot_data(centroids, data, n_samples)"
   ]
  },
  {
   "cell_type": "code",
   "execution_count": 10,
   "id": "959920e7-0689-4798-84ba-30cd5ce8758f",
   "metadata": {},
   "outputs": [],
   "source": [
    "def gaussian(d, bw): \n",
    "    return torch.exp(-0.5*((d/bw))**2) / (bw*math.sqrt(2*math.pi))"
   ]
  },
  {
   "cell_type": "code",
   "execution_count": 11,
   "id": "187a914d-9c1b-4e71-ab4d-5efa1fe94ef5",
   "metadata": {},
   "outputs": [
    {
     "data": {
      "text/plain": [
       "(torch.Size([2]), torch.Size([1500, 2]))"
      ]
     },
     "execution_count": 11,
     "metadata": {},
     "output_type": "execute_result"
    }
   ],
   "source": [
    "X = data.clone()\n",
    "x = X[0]\n",
    "x.shape,X.shape"
   ]
  },
  {
   "cell_type": "code",
   "execution_count": 12,
   "id": "3e22f641-4644-4545-9c65-ebd28357b430",
   "metadata": {},
   "outputs": [
    {
     "data": {
      "text/plain": [
       "tensor([0.000, 3.899, 4.834, 3.726, 6.273, 4.122, 6.560, 6.002])"
      ]
     },
     "execution_count": 12,
     "metadata": {},
     "output_type": "execute_result"
    }
   ],
   "source": [
    "dist = (x-X).pow(2).sum(1).sqrt()\n",
    "dist[:8]"
   ]
  },
  {
   "cell_type": "code",
   "execution_count": 13,
   "id": "31ed7f9d-6448-4f4d-a32a-65e3d7d65bad",
   "metadata": {},
   "outputs": [
    {
     "data": {
      "text/plain": [
       "torch.Size([1500])"
      ]
     },
     "execution_count": 13,
     "metadata": {},
     "output_type": "execute_result"
    }
   ],
   "source": [
    "weights = gaussian(dist, 2.5)\n",
    "weights.shape"
   ]
  },
  {
   "cell_type": "code",
   "execution_count": 14,
   "id": "7e76ff81-838b-44d1-9f00-cc80344789ac",
   "metadata": {},
   "outputs": [
    {
     "data": {
      "text/plain": [
       "tensor([483.806, 508.394])"
      ]
     },
     "execution_count": 14,
     "metadata": {},
     "output_type": "execute_result"
    }
   ],
   "source": [
    "(weights[:,None] * X).sum(0)"
   ]
  },
  {
   "cell_type": "code",
   "execution_count": 15,
   "id": "b26c5ac3-a8f7-4e3a-a051-e37d1e7ec314",
   "metadata": {},
   "outputs": [],
   "source": [
    "def one_update(X):\n",
    "    for i,x in enumerate(X):\n",
    "        dist = (x-X).pow(2).sum(1).sqrt()\n",
    "        weights = gaussian(dist, 2.5)\n",
    "        X[i] = (weights[:,None] * X).sum(0)/weights.sum()\n",
    "    return X"
   ]
  },
  {
   "cell_type": "code",
   "execution_count": 16,
   "id": "0a72caf2-b163-43b6-bc2e-007d1f317d67",
   "metadata": {},
   "outputs": [],
   "source": [
    "def mean_shift(data,n_iter=5):\n",
    "    X = data.clone()\n",
    "    for _ in range(n_iter):\n",
    "        X = one_update(X)\n",
    "    return X"
   ]
  },
  {
   "cell_type": "code",
   "execution_count": 17,
   "id": "57faa8d4-b4d4-4375-87e9-1c3e7aff3bf1",
   "metadata": {},
   "outputs": [
    {
     "name": "stdout",
     "output_type": "stream",
     "text": [
      "CPU times: user 662 ms, sys: 0 ns, total: 662 ms\n",
      "Wall time: 662 ms\n"
     ]
    }
   ],
   "source": [
    "%time X=mean_shift(data)"
   ]
  },
  {
   "cell_type": "code",
   "execution_count": 18,
   "id": "cd3f4493-9b62-4595-b7e0-867e63abb3c1",
   "metadata": {},
   "outputs": [
    {
     "data": {
      "image/png": "[encoded data removed]",
      "text/plain": [
       "<Figure size 432x288 with 1 Axes>"
      ]
     },
     "metadata": {
      "needs_background": "light"
     },
     "output_type": "display_data"
    }
   ],
   "source": [
    "plot_data(centroids+2, X, n_samples)"
   ]
  },
  {
   "cell_type": "markdown",
   "id": "6d61d179-6e3b-4c7f-afa8-859f078e24f8",
   "metadata": {},
   "source": [
    "### Animation"
   ]
  },
  {
   "cell_type": "code",
   "execution_count": 19,
   "id": "8a15244b-380d-4dc3-8d69-3142832f8aaa",
   "metadata": {},
   "outputs": [],
   "source": [
    "from matplotlib.animation import FuncAnimation\n",
    "from IPython.display import HTML"
   ]
  },
  {
   "cell_type": "code",
   "execution_count": 20,
   "id": "cc30c788-0339-4f6d-a9eb-907a0ad8c8fa",
   "metadata": {},
   "outputs": [],
   "source": [
    "def do_one(d):\n",
    "    x = None\n",
    "    if d:\n",
    "        x= one_update(X)\n",
    "    ax.clear()\n",
    "    plot_data(centroids+2, X, n_samples, ax=ax)"
   ]
  },
  {
   "cell_type": "code",
   "execution_count": 21,
   "id": "f114ec35-e330-4e21-ada1-07ee45301197",
   "metadata": {},
   "outputs": [
    {
     "data": {
      "text/html": [
       "\n",
       "<link rel=\"stylesheet\"\n",
       "href=\"https://maxcdn.bootstrapcdn.com/font-awesome/4.4.0/css/font-awesome.min.css\">\n",
       "<script language=\"javascript\">\n",
       "  function isInternetExplorer() {\n",
       "    ua = navigator.userAgent;\n",
       "    /* MSIE used to detect old browsers and Trident used to newer ones*/\n",
       "    return ua.indexOf(\"MSIE \") > -1 || ua.indexOf(\"Trident/\") > -1;\n",
       "  }\n",
       "\n",
       "  /* Define the Animation class */\n",
       "  function Animation(frames, img_id, slider_id, interval, loop_select_id){\n",
       "    this.img_id = img_id;\n",
       "    this.slider_id = slider_id;\n",
       "    this.loop_select_id = loop_select_id;\n",
       "    this.interval = interval;\n",
       "    this.current_frame = 0;\n",
       "    this.direction = 0;\n",
       "    this.timer = null;\n",
       "    this.frames = new Array(frames.length);\n",
       "\n",
       "    for (var i=0; i<frames.length; i++)\n",
       "    {\n",
       "     this.frames[i] = new Image();\n",
       "     this.frames[i].src = frames[i];\n",
       "    }\n",
       "    var slider = document.getElementById(this.slider_id);\n",
       "    slider.max = this.frames.length - 1;\n",
       "    if (isInternetExplorer()) {\n",
       "        // switch from oninput to onchange because IE <= 11 does not conform\n",
       "        // with W3C specification. It ignores oninput and onchange behaves\n",
       "        // like oninput. In contrast, Microsoft Edge behaves correctly.\n",
       "        slider.setAttribute('onchange', slider.getAttribute('oninput'));\n",
       "        slider.setAttribute('oninput', null);\n",
       "    }\n",
       "    this.set_frame(this.current_frame);\n",
       "  }\n",
       "\n",
       "  Animation.prototype.get_loop_state = function(){\n",
       "    var button_group = document[this.loop_select_id].state;\n",
       "    for (var i = 0; i < button_group.length; i++) {\n",
       "        var button = button_group[i];\n",
       "        if (button.checked) {\n",
       "            return button.value;\n",
       "        }\n",
       "    }\n",
       "    return undefined;\n",
       "  }\n",
       "\n",
       "  Animation.prototype.set_frame = function(frame){\n",
       "    this.current_frame = frame;\n",
       "    document.getElementById(this.img_id).src =\n",
       "            this.frames[this.current_frame].src;\n",
       "    document.getElementById(this.slider_id).value = this.current_frame;\n",
       "  }\n",
       "\n",
       "  Animation.prototype.next_frame = function()\n",
       "  {\n",
       "    this.set_frame(Math.min(this.frames.length - 1, this.current_frame + 1));\n",
       "  }\n",
       "\n",
       "  Animation.prototype.previous_frame = function()\n",
       "  {\n",
       "    this.set_frame(Math.max(0, this.current_frame - 1));\n",
       "  }\n",
       "\n",
       "  Animation.prototype.first_frame = function()\n",
       "  {\n",
       "    this.set_frame(0);\n",
       "  }\n",
       "\n",
       "  Animation.prototype.last_frame = function()\n",
       "  {\n",
       "    this.set_frame(this.frames.length - 1);\n",
       "  }\n",
       "\n",
       "  Animation.prototype.slower = function()\n",
       "  {\n",
       "    this.interval /= 0.7;\n",
       "    if(this.direction > 0){this.play_animation();}\n",
       "    else if(this.direction < 0){this.reverse_animation();}\n",
       "  }\n",
       "\n",
       "  Animation.prototype.faster = function()\n",
       "  {\n",
       "    this.interval *= 0.7;\n",
       "    if(this.direction > 0){this.play_animation();}\n",
       "    else if(this.direction < 0){this.reverse_animation();}\n",
       "  }\n",
       "\n",
       "  Animation.prototype.anim_step_forward = function()\n",
       "  {\n",
       "    this.current_frame += 1;\n",
       "    if(this.current_frame < this.frames.length){\n",
       "      this.set_frame(this.current_frame);\n",
       "    }else{\n",
       "      var loop_state = this.get_loop_state();\n",
       "      if(loop_state == \"loop\"){\n",
       "        this.first_frame();\n",
       "      }else if(loop_state == \"reflect\"){\n",
       "        this.last_frame();\n",
       "        this.reverse_animation();\n",
       "      }else{\n",
       "        this.pause_animation();\n",
       "        this.last_frame();\n",
       "      }\n",
       "    }\n",
       "  }\n",
       "\n",
       "  Animation.prototype.anim_step_reverse = function()\n",
       "  {\n",
       "    this.current_frame -= 1;\n",
       "    if(this.current_frame >= 0){\n",
       "      this.set_frame(this.current_frame);\n",
       "    }else{\n",
       "      var loop_state = this.get_loop_state();\n",
       "      if(loop_state == \"loop\"){\n",
       "        this.last_frame();\n",
       "      }else if(loop_state == \"reflect\"){\n",
       "        this.first_frame();\n",
       "        this.play_animation();\n",
       "      }else{\n",
       "        this.pause_animation();\n",
       "        this.first_frame();\n",
       "      }\n",
       "    }\n",
       "  }\n",
       "\n",
       "  Animation.prototype.pause_animation = function()\n",
       "  {\n",
       "    this.direction = 0;\n",
       "    if (this.timer){\n",
       "      clearInterval(this.timer);\n",
       "      this.timer = null;\n",
       "    }\n",
       "  }\n",
       "\n",
       "  Animation.prototype.play_animation = function()\n",
       "  {\n",
       "    this.pause_animation();\n",
       "    this.direction = 1;\n",
       "    var t = this;\n",
       "    if (!this.timer) this.timer = setInterval(function() {\n",
       "        t.anim_step_forward();\n",
       "    }, this.interval);\n",
       "  }\n",
       "\n",
       "  Animation.prototype.reverse_animation = function()\n",
       "  {\n",
       "    this.pause_animation();\n",
       "    this.direction = -1;\n",
       "    var t = this;\n",
       "    if (!this.timer) this.timer = setInterval(function() {\n",
       "        t.anim_step_reverse();\n",
       "    }, this.interval);\n",
       "  }\n",
       "</script>\n",
       "\n",
       "<style>\n",
       ".animation {\n",
       "    display: inline-block;\n",
       "    text-align: center;\n",
       "}\n",
       "input[type=range].anim-slider {\n",
       "    width: 374px;\n",
       "    margin-left: auto;\n",
       "    margin-right: auto;\n",
       "}\n",
       ".anim-buttons {\n",
       "    margin: 8px 0px;\n",
       "}\n",
       ".anim-buttons button {\n",
       "    padding: 0;\n",
       "    width: 36px;\n",
       "}\n",
       ".anim-state label {\n",
       "    margin-right: 8px;\n",
       "}\n",
       ".anim-state input {\n",
       "    margin: 0;\n",
       "    vertical-align: middle;\n",
       "}\n",
       "</style>\n",
       "\n",
       "<div class=\"animation\">\n",
       "  <img id=\"_anim_img3aa6fad5f0004d28b67c53d966a95d87\">\n",
       "  <div class=\"anim-controls\">\n",
       "    <input id=\"_anim_slider3aa6fad5f0004d28b67c53d966a95d87\" type=\"range\" class=\"anim-slider\"\n",
       "           name=\"points\" min=\"0\" max=\"1\" step=\"1\" value=\"0\"\n",
       "           oninput=\"anim3aa6fad5f0004d28b67c53d966a95d87.set_frame(parseInt(this.value));\">\n",
       "    <div class=\"anim-buttons\">\n",
       "      <button title=\"Decrease speed\" aria-label=\"Decrease speed\" onclick=\"anim3aa6fad5f0004d28b67c53d966a95d87.slower()\">\n",
       "          <i class=\"fa fa-minus\"></i></button>\n",
       "      <button title=\"First frame\" aria-label=\"First frame\" onclick=\"anim3aa6fad5f0004d28b67c53d966a95d87.first_frame()\">\n",
       "        <i class=\"fa fa-fast-backward\"></i></button>\n",
       "      <button title=\"Previous frame\" aria-label=\"Previous frame\" onclick=\"anim3aa6fad5f0004d28b67c53d966a95d87.previous_frame()\">\n",
       "          <i class=\"fa fa-step-backward\"></i></button>\n",
       "      <button title=\"Play backwards\" aria-label=\"Play backwards\" onclick=\"anim3aa6fad5f0004d28b67c53d966a95d87.reverse_animation()\">\n",
       "          <i class=\"fa fa-play fa-flip-horizontal\"></i></button>\n",
       "      <button title=\"Pause\" aria-label=\"Pause\" onclick=\"anim3aa6fad5f0004d28b67c53d966a95d87.pause_animation()\">\n",
       "          <i class=\"fa fa-pause\"></i></button>\n",
       "      <button title=\"Play\" aria-label=\"Play\" onclick=\"anim3aa6fad5f0004d28b67c53d966a95d87.play_animation()\">\n",
       "          <i class=\"fa fa-play\"></i></button>\n",
       "      <button title=\"Next frame\" aria-label=\"Next frame\" onclick=\"anim3aa6fad5f0004d28b67c53d966a95d87.next_frame()\">\n",
       "          <i class=\"fa fa-step-forward\"></i></button>\n",
       "      <button title=\"Last frame\" aria-label=\"Last frame\" onclick=\"anim3aa6fad5f0004d28b67c53d966a95d87.last_frame()\">\n",
       "          <i class=\"fa fa-fast-forward\"></i></button>\n",
       "      <button title=\"Increase speed\" aria-label=\"Increase speed\" onclick=\"anim3aa6fad5f0004d28b67c53d966a95d87.faster()\">\n",
       "          <i class=\"fa fa-plus\"></i></button>\n",
       "    </div>\n",
       "    <form title=\"Repetition mode\" aria-label=\"Repetition mode\" action=\"#n\" name=\"_anim_loop_select3aa6fad5f0004d28b67c53d966a95d87\"\n",
       "          class=\"anim-state\">\n",
       "      <input type=\"radio\" name=\"state\" value=\"once\" id=\"_anim_radio1_3aa6fad5f0004d28b67c53d966a95d87\"\n",
       "             checked>\n",
       "      <label for=\"_anim_radio1_3aa6fad5f0004d28b67c53d966a95d87\">Once</label>\n",
       "      <input type=\"radio\" name=\"state\" value=\"loop\" id=\"_anim_radio2_3aa6fad5f0004d28b67c53d966a95d87\"\n",
       "             >\n",
       "      <label for=\"_anim_radio2_3aa6fad5f0004d28b67c53d966a95d87\">Loop</label>\n",
       "      <input type=\"radio\" name=\"state\" value=\"reflect\" id=\"_anim_radio3_3aa6fad5f0004d28b67c53d966a95d87\"\n",
       "             >\n",
       "      <label for=\"_anim_radio3_3aa6fad5f0004d28b67c53d966a95d87\">Reflect</label>\n",
       "    </form>\n",
       "  </div>\n",
       "</div>\n",
       "\n",
       "\n",
       "<script language=\"javascript\">\n",
       "  /* Instantiate the Animation class. */\n",
       "  /* The IDs given should match those used in the template above. */\n",
       "  (function() {\n",
       "    var img_id = \"_anim_img3aa6fad5f0004d28b67c53d966a95d87\";\n",
       "    var slider_id = \"_anim_slider3aa6fad5f0004d28b67c53d966a95d87\";\n",
       "    var loop_select_id = \"_anim_loop_select3aa6fad5f0004d28b67c53d966a95d87\";\n",
       "    var frames = new Array(5);\n",
       "    \n",
       "  frames[0] = \"data:image/png;base64,iVBORw0KGgoAAAANSUhEUgAAAbAAAAEgCAYAAADVKCZpAAAAOXRFWHRTb2Z0d2FyZQBNYXRwbG90\\\n",
       "bGliIHZlcnNpb24zLjUuMiwgaHR0cHM6Ly9tYXRwbG90bGliLm9yZy8qNh9FAAAACXBIWXMAAAsT\\\n",
       "AAALEwEAmpwYAABP4ElEQVR4nO3deXxU1f3/8dch+0L2EBIgJGwiRhYJKCiSKO5UkUp/UmzdWhSt\\\n",
       "pVgXrP0KtHWpWq22iOKCtlpsUYyIO5qwiCxB9n1JyErIHpLJzvn9cefezAwhJAgkk3yejwePJHNn\\\n",
       "OReRN59zPvdcpbVGCCGEcDfd2nsAQgghxOmQABNCCOGWJMCEEEK4JQkwIYQQbkkCTAghhFuSABNC\\\n",
       "COGWJMCEEEK4JQkwIYQQbkkCTAghhFuSABNCCOGWJMCEEEK4JQkwIYQQbkkCTAghhFuSABNCCOGW\\\n",
       "JMCEEEK4JQkwIYQQbkkCTAghhFuSABNCCOGWJMCEEEK4JQkwIYQQbkkCTAghhFuSABNCCOGWJMCE\\\n",
       "EEK4JQkwIYQQbkkCTAghhFuSABNCCOGWJMCEEEK4JQkwIYQQbkkCTAghhFuSABNCCOGWJMCEEEK4\\\n",
       "JQkwIYQQbkkCTAghhFuSABNCCOGWPNt7AGdLRESEjouLa+9hCCGEW9m0aVOR1jqyvcfRGp02wOLi\\\n",
       "4khPT2/vYQghhFtRSh1u7zG0lkwhCiGEcEsSYEIIIdySBJgQQgi3JAEmhBDCLUmACSGEcEsSYEII\\\n",
       "IdySBFhXVlUM371kfBVCCDcjAdaVbXkXvn7C+CqEEG5GAqwrG34bXPUn42tLWqrUpIoTQrQTCbCu\\\n",
       "LCAcLp1pfG1JS5XamaziJAyFEG3QabeSEmeQWaE1V6m1dKytzDAEI1iFEKIFEmCdXVWxEQzDbzt1\\\n",
       "pXUyZqXW1mNtdSbDUAjR6ckUYmdnVjUbXmv99JzjVN6PmdZr62tbO6UphBBIBdb5mdVMnc15eq65\\\n",
       "ysx8rM4GK59peo/TndaTKUEhxFkkAdbZmVVNVTF4+zcF2oaFRkjV2SD5MeMxM3DGP3pid2JrOhXt\\\n",
       "gVhcA+Hh4c5TglXFFK98jfDx90iFJYQ4IzrkFKJSykMptVkptdz+c7xSar1S6oBS6r9KKe/2HqPb\\\n",
       "OWF6Trt8BQZdDwOvhoQpTc91XONKfRpSn2p+atEefnN/MY6hFyawb98+p8/ct+wFht76R+Y+MO1c\\\n",
       "nbEQopPrqBXYTGA3EGT/+a/Ai1rr95VSrwJ3Awvaa3Cdwuh7wDugqUqqKoav/gD7v4K4yyByZtPj\\\n",
       "rtOKeZshYjB8/7LxeMItcDCVuZsjmbdsNwDJycmkfrqUQVXr2BdwCcm/f4u8Y5p5i76E2LnMnTv3\\\n",
       "3J+zEKJT6XAVmFKqN3AD8Ib9ZwVcAXxgf8o7wKR2GVxn4lqRbXnXCK+BVztPF1rrWBrGz4a+Y43n\\\n",
       "ZX9vHK+vgq/+wNy3PmfesoPWy/Ly8khOGsen8x8jOTmJvPwj1rF58+Yx9w+PyHVfQogfpcMFGPB3\\\n",
       "4BHguP3ncKBMa91g/zkH6NUO4+rczF05Jr3qvEZlPj76Hhg9HVDG49r+1SuA4sSHeX2b8x+lSUzC\\\n",
       "Vh7AxMXV2Mp8meTyb47XX19I8crXZCsr0eGVVNXx2sqDlFTVtfdQhIsOFWBKqYnAUa31ptN8/XSl\\\n",
       "VLpSKr2wsPAMj66TKdwP700xvkLzLeyunYobFsLh74xjMcPs62W3EH7eaFLXbSUmuidghNdMZvIi\\\n",
       "LxJHHC/yIjOZaYVYTEQwqV9/aTR0ODaLSEUmOqAl6dk8/fkelqRnt/dQhIsOFWDApcCNSqlM4H2M\\\n",
       "qcOXgBCllLle1xvIbe7FWuuFWutErXViZGTkuRiv+zLXu776w8mfs2Gh/RqyhUaoZK8zHu+XBP5h\\\n",
       "xus/fwhSn2ZQr3BS/3YXMd0VaaSRSSZxxLGIRcQRRyaZpJFGTHRPUr/+kkGl3xjv69jGL5sLiw5o\\\n",
       "SmIfHrtuMBOGREkl1sF0qADTWj+mte6ttY4DbgW+1VpPA1KBW+xPux34uJ2G2HmMugf8I+DCqS1c\\\n",
       "tOzQqbhhIRxKg7D+cN3zRqdiWD/jsZXPwJZ3GTThDhZOH0sZZcxjntPHzWMeZZSx8PU3GFS1Dlb+\\\n",
       "1XqdpbWbCwvxI7VmWtB8DsA94/uzYleBVGIdTEftQnT1KPC+UuovwGbgzXYej3urKoavZoOtCFY9\\\n",
       "BUX7m445Xng8+h6wlcD2JRB7qfF4yUHY8YFxTVnJIeOxkL5QuJ99n9/I9IV7CSGEOcxx+sg5zGEW\\\n",
       "s5g+fbrRnTj+UUBZ14ix5V2jjV+Ic8CcFgQjnByVVNWxJD0bW10DL31zwHrOlMQ+gFGRmc+ZktiH\\\n",
       "sAC5qqe9dKgKzJHWOk1rPdH+/SGt9Wit9QCt9RStdW17j89tVRVDyr1GaIX1h/gkGPuA0Q4/6Pqm\\\n",
       "Cqhwv/G8/V8ZQbX3U6MDEQBtPGf4L8DTD8oOs++bt0l+eS95xzRJJFnThndypzWdmESS0Z14/ST2\\\n",
       "9brFuIA6ILxp6vDzh5qmLIU4iyYMiSL5vEgmDIk64VhTuCkeu24wV8b7AxAW4M094/sTFuDNkvRs\\\n",
       "/rJ0wwnVmDR8nFvuUoGJUznVpr2O13OZ7fIxI4ypvIFXG4+BUVlB0xpZcB/wC4PqEoi7HOLGYXUi\\\n",
       "5qyDhmqKbZD8jo28Y8aUYwopAKSRRhllzGIWSSRZj+flHyE5aTzbtu9w3rGjqsiYknS8uFqIM8Sx\\\n",
       "alqxq4DUvYUM7Z2Lv7enVUmVVNVRXFnLZQMiGD8okifmzGHuVx+yMi2VQYMGWe81IriaY/+ZxaGA\\\n",
       "X8P4P1uPm+Fnq2uw3td8XKq1M08CrLM41b6DrttEDboediwxru1KuMW4eLmuynhOXRWExIJvKJRn\\\n",
       "w9jfgpef8T511cYFzJmroecwqCwiPH4Ev078inmpNuvjUkghprvi3f/Xl+n/zSLlWIrTcH597TAj\\\n",
       "vMB5u6uACFkDEyflOnXXlqm8d9Zm8NI3B7DVNXD72HgAbHWNTlOJS9KzWbg6A4Adn7zB1mVvAPYL\\\n",
       "81ONENu3bx8333AN5UUFPPv0X/Dz9mDu3LmUVNVhq2tg5pUDAaz3dfzedbpS/DgSYJ1FS7ciqSo2\\\n",
       "Qmn8bONaroBwo1lj5V+NjkKAXqPgi4dh1K8BBRvfOPF9Vj4DvUcb35vt9AAZ3zL3ck8IOZ95Hxk7\\\n",
       "ccR0V6Te7s+gYQNI9S0ieXE38oqPATDn5vOZ+4/3msbmWDm2tOnvmbg1jHBrTRVOI/7eHiesU7VM\\\n",
       "WV/N6cCSqjr8vT2c1reKK2t5/7UX2PpJ01J7Xl4eycnJLFy4kF/9ejpH8vOsY/PmGQ1L0cm/4KVv\\\n",
       "DvDYdYOZktjH6X3N9z6TZB2uA6+BiTZq6VYkG14zwsqcmvvupaZ9D80uwpR7jLWujDQj5Eb9GnxD\\\n",
       "jOdrIGON8X19jfG1e4zx1cPH+Np7NHMfuI05D/2GmGAvI7x6hUPP4Qya/DipK74mJronc+68hrn/\\\n",
       "Xn16rfPSZt/lmS3toJ3WqVoTDjcOj+GyARGUVtXy4tf7ml2nCgvwxqfRxq7Uj5wen8QkbHk2Jk6c\\\n",
       "SE2+rZkL81/nynh/ayyO62WO359Jcn2aVGCdi2M3377PHCoV+78866ubGjPA2HVjw2vGtGB1KWR9\\\n",
       "BzcugOJDsOU9qLdBxEDj5Vn2iqtor/E1sAc01hmdjABF+yBnA3MvTOKB6T6ER/QwjqW/DgOvZtDo\\\n",
       "6Wxbt4rw7M+MzkZznHU2Y1qzNdOGcsNLYXfj8F4YfzD1CRVIc5VJSVUdf1m+izUHilhjFGz4e3sA\\\n",
       "ztN7JVV1dPPrzsMv/4c3H7uTwoJ868L8m7iJecxjDnOIIw4wpsp7RseQmprKgNhoBsTS4jjOJMeq\\\n",
       "sauSAOtMzAolc01TSF0606iovP2dGzjMEPAOML5+/7KxNhY7Cl4eYYSXpy8MvA6rcjObOQC8AoyA\\\n",
       "8gmGhhqoKTMeLzpA+Pnj4Mp5cPBryN5gfOaWdwmvqzIqwX1fwOG1cPBbowK86k8nVo7NTReeybs/\\\n",
       "C7fk2P7u7+3B05/vwd/b02n60HGta9ZV51mvS91byMXxodQ1HMfb04MJQ6II9TeCxbxIubiyjoWr\\\n",
       "DzHzygGsWZVGcnIyaXlp3MRN1oX5QNOF+TExfPTpl6Tme+ARWsmKXQVWYLXUqn8mmJVdVyYB5o5O\\\n",
       "thZkhtKg642mDPPngHDjsc8fMhoyLv1d0zrY108Ya2NmY8d3LxnXfJUcgojzjWDrHmNc63XFXNjy\\\n",
       "L+iZACNuh09mNlVmviHgGwxlh6EiB7LXQvIfnMdqtcfbK8LGOuOzm6uo5GaYohlmtTFhSBTLtuQx\\\n",
       "88oBVviYxzYdLrV/LaOkqo6wAG/rmK2ukZe+Ma57nP6vdJ67ZRgAy7bk8dI3+7lsgPH/08db8rhx\\\n",
       "+Cj+9vJ8pt5yM/OYZ4UXNF2Yv+DlRSzYbCN172HWHSomda+xhZ3rdWPi7FBad86W5cTERJ2ent7e\\\n",
       "wzg7zOC56k+t/8v9vSlGJRQxEO780ggw1yC0Au1RY7px18dGIJkGXg3TljS9zqykwAjGwTfC0rsh\\\n",
       "MAqufgr2LIPcTdBjCPiHG92OO5YYU5YF25qqr+bOQRo2uqTWTru9tvIgT3++h5lXDiQ9s4TvDhZz\\\n",
       "af9wEuNCeembA/SPDOBgYRXJ50Xyx4lD+O/GbNYdLKKoso5RcaGk7SukvLqBuHB/Mott9A3zZ/x5\\\n",
       "kfh6duOrXQVkFtu4KLiab/52P92K66x9PU2ZZDKLWRwP9yZw8p9JGjWUC2KC8fP24PaxcSd0SIL7\\\n",
       "tNIrpTZprRPbexytIRWYOzqdtaCrn4LSDOMC5pR7jfWv5t63rgpQcGSbEV6+wVBTblwPdvVTxvPM\\\n",
       "ppDEX4OHN4QPNNrsD35tvKbsMKx+tmka0+xY9PY3pixX/tWovPpfceJOHI5rd1J5dTmt2SFjSmIf\\\n",
       "h4qqge8OGluffXewmAtigrlsQDgxIX7U1DeSurcQW9121meUWO+zan8R5dXGzS3CArxpPK45XGLj\\\n",
       "k615lNrquTg+FP/qo6x4/rccKznKJCZZF+Y7roElkURKcQos/T+Oxf6ThQeLeey6wVZAOZ4LSCv9\\\n",
       "2SAB5o5O5y/3SHvlZTZxbHjNuDGl41qZ2fCx8pmmcArpCxtfh+E/N94DsKYAFcZzPP2MUBrzW6Mt\\\n",
       "P2oonH+jsf5VU2aE3wU3N938EpwrK7PyM9fuMteceFsX0SWcbNqtpKqO3y7ezJoDRdjqGpl11SCr\\\n",
       "6aK6rpGtOeUM621UQGsOON/NILvERpCvJxU1Rmj1CfXjqvOj+HLXEX7IKqO7r9HMUWqrJ9Tfi7W7\\\n",
       "DnNk0QM0HDPe51QX5lcUH+Wzv97L6AffZFRcmDWdOSWxD7a6Bmx1jdw4PKbZ8xI/jgRYVxIQbgSD\\\n",
       "644cTpWcfUo5IAwmPm9sKVV22Ni816yUEm4xqimzCaOxzpgKrKsyfu5/hbEGVlNmTFn+v8VGZfX1\\\n",
       "E8brBl1vBOnVTxmh6Lh2B1bTh1RgXUtL04dL0rNZc8DoeN10uISDhUbDxIQhUew/Wsn6jBL8vT14\\\n",
       "4IqBrDtURHZJNXnlNYT6e5FXblz60SfUuBh/W24FVXWNVhV2rKYRX69uDOrRnW255Xj4BREw9GrK\\\n",
       "v1tsfX4KKQSGRhJ55Rwqv55PSnmK0/gCh11DXq0X//h2v9M6mL+3p73RxEMqr7NAAqyrMkPIdY0p\\\n",
       "YYpRmSVMMX7e95kRKHGXGT9//YQRft7+kPRHowIb94gRWAlTjClCx0A039/fYdrTsZV/2hLnitIM\\\n",
       "WLOhRNbAuoyWpg+NaqaRTYdLWHOgmDkf72TNgSK+3GlUUX1C/azgWJ9hNHFc2j+cP01KYNmWXEqr\\\n",
       "6knde5Ts0mou7R/O768+jxe+3kdMsA9f7iqgvLqBosqmLVZjJ9xOFlgh5hEYRsiUv+AR2ovEC//J\\\n",
       "yhcfwFZmfN6QG+4i4Sd30zc8gMPFVUwf1++ESlIqr7NDAqyrOVV3n2NgRc5sfr2tqtCYZgzrB1P/\\\n",
       "11RdmcEGRugMv635XTbMtTTzqyPzeea04snGKTqdlnZ7DwvwZtZVg6zHiytrWXOgiMJjRujEhPhx\\\n",
       "2yV9mTAkivrGHaw5UMwFvYJZsauA28fG8/v/bSG7tBqAC3oFc1HfUN791cXGBy/Zyv825RDi11St\\\n",
       "XXtBFHm9f8vmED/2rkwhaurTeIT2ItjPk8ShQxj87Du8MfsORl1zCxHjb2N9RgkFFbVkFtvw9/a0\\\n",
       "KkhpdT+7JMC6mlM1gLged11vu3QmpD5tfF9yyNj012wIMfdSNJ93srCMHGhUXj9mnKLTcfzL3uwy\\\n",
       "BOdqzHELqPBAH0bFhfGPb/fzx4lD6B8ZSElVHSP7hjKybxjmbh3rDhUzeUQvvj9YRE2Dxs/LeQOi\\\n",
       "3DIj2Hy8ulldiQcKq/ghq4xf/up3HL/tV3xzyEZ+RQ1Bvl78a10WADfMfZcL+/dm4apD1th6h/rx\\\n",
       "x4lDzvZvlbCTADsNDaWllC9dSvDkyXiGhrb3cNqmuQaQtuxHCMaF0XU2oxX+6qecN+N1nEJsSwi5\\\n",
       "jkG6ELuM5ta+mpt6c32eGWx/+9lw3lmbgbkzx0vfHGD6uH7szCvnotgQUvcWklFURU2DxtdTUVpV\\\n",
       "b20jtSQ9m99ffR7e3+5nYFR3Fq46RP/IAOszDxXZGDewB/lb9lit+ea1YmsOFNPNtxyAvmH+/JBV\\\n",
       "xmPXDaZ/ZGCbzlWcPgmw01C+dClHn3segPC7727n0fxI5v3BHLsRHY85horjz9f8+cT3cg2dtoSQ\\\n",
       "XLjcZTW39tXc1NvJ1siWpGdbG/rOvHIgj103mNX7C/nuYLHVuDE6LoxSWx3l1Q38a91hQgO82ZZT\\\n",
       "RureQh67bjCL7hxNSVUd+wuOkbq3kO6+HvQK8eXBqwYRF2EE2oQhUVbjyLIteQyJDqKm4ThKwYNX\\\n",
       "ncfGzJJTrnWd7d05uhoJsNMQPHmy01e343jdlXnfrxO6EXHemspsrjhZyPzYC49lyrDLam2jg+Mu\\\n",
       "HGareliANxOGRLFqX6G98jH2RpwwJIq/LN9FZKAP2Zty8PXyIMDbk/LqBnqF+AKa1L2FXDYgAltd\\\n",
       "g7Vjx99+NpwJL6RRUlXPsZpGNmaWcFHfUKYk9rEqJyMw95N8XqTVODJuYIl1zAy65qosaeo4syTA\\\n",
       "ToNnaKh7V16ueyYOvLr5666G39b0HDOczMfBObRcw66tISZThl3WqRodHKfd7hnf32l9bEpiH55I\\\n",
       "2dF0MfO6YmtvxL/9bDi/XbwZgENFVVaDxg0Xxlj3A9t0uJSXvjnApsNljOwbwu1j43njl6N48H9b\\\n",
       "uHxghNMuGuZtXEAz88qB3Dg8hqG9cwFlhZe55ubYSt+WcxVtIwHWlThWXuC8Z2JzgeN43Vhz62Nm\\\n",
       "aNXZAA39kuUaLnHGuU67OVYxS9KzrfDqHxnI5YMirS7G3/9vC2sOFJF8XiQPXGFchD8kujv3JhkB\\\n",
       "kp5ZyncHi4nq7mPfpb6IbTnl/HHiEKaOjm12Tc68/5i51mVuFuz4nAlDorikX4FUWedAhwowpZQv\\\n",
       "sArwwRjbB1rrOUqpeOB9IBzYBPxCa33izXw6oTPaMNLcFGDkKYKmpcrIrMTMXebHPwr9k2UaUJxR\\\n",
       "rtNujlXMlMQ+rNpnrHeFBng5dTGm7i0k+bxI/vaz4daF0ENigvjt4h+obzxuXS9W09AIgK9nN/vW\\\n",
       "U9tYn1Fq7aDxl+W7+OPEIVb3IxibApvTjiZz02Bp0jh3OlSAAbXAFVrrSqWUF7BGKfU58CDwotb6\\\n",
       "faXUq8DdwIL2HOi5ciYaRqwQvGYinldx5gKmue7DlqYOZYNecRpONu1mTi3+aVKCteZkcgw9M1hs\\\n",
       "dY18vCWXzGIbAJcNCGdk3zBG9Anhz5/uYmRsKP/blEPTnZs1f1m+yz4duMsKQoCXvtnf7O4a0qRx\\\n",
       "bnWoANPG1viV9h+97L80cAXwc/vj7wBz6QQB1prq6kw0jDiHYDtO7UmnoTiDWgoL19ALC/DG39uD\\\n",
       "zGIbIX5e3Dgsht9dNciqkpIG96Ckqo7+PQKdmjBKbXWAUYGZn2d2OjY3RShNGudWhwowAKWUB8Y0\\\n",
       "4QBgPnAQKNNaN9ifkgP0aqfhtehUgeR63LW6au71Z6Jh5Kx3TbY2mKTTUJxBbQ2LKYl9rAaLXqF+\\\n",
       "J0zxOYZe//GB1mOL7hwNQGhi03rYyaYHpUnjHNNad8hfQAiQClwGHHB4vA+w4ySvmQ6kA+mxsbH6\\\n",
       "XCt64w2967zBuuiNN6zH6ktKdNEbb1hfHY87HnN8/eHp05seKypq/rNO8ni7qCzSes3fja9CdGDF\\\n",
       "lbX61bQDuriytr2H0mEB6boDZEBrfnVrLtQ6Aq11GUaAjQFClFJmtdgbyD3JaxZqrRO11omRkZHn\\\n",
       "ZqAOgidPpsfDDzlVOmaVZVZWPR5+iMArrqD4zTcBo/Iyq63gyZMJGH85VStXUb50KXPnzmXo0KHs\\\n",
       "27ePhtJSit98k4bSUvbt28fQoUOZO3fuOT/HZplrYbKuJTo4s0JqroIqqarjtZUHrUYN0fF1qABT\\\n",
       "SkUqpULs3/sBVwG7MYLMfiMpbgc+bpcBOnAMFJM53WcGUkNpKcdt1YTddSfHbcZ+a+F3303lt99a\\\n",
       "oeb4XgAxzzxDxP3388wHHzBv3jzy8vJITk5m0yuvcPS559n0yiskJyeTl5fHvHnzOk6ICeHmzDUu\\\n",
       "s1FDuIH2LgEdfwFDgc3ANmAH8IT98X7ABuAAsATwOdV7jRw5srUV82k51XSh1lof+etf9a7zBut9\\\n",
       "V17Z4tTh0Zf/oXedN1gfffkfWmutH/7JTzRG84r1KyYqSr917bU6JirqhGNz5sw5q+cqhDs53WlC\\\n",
       "mV404EZTiB2qiUNrvQ0Y0czjh4DR535EJzIbLQKvuAKg2enC4zYb3fz9sW36wXhNTi4B4y9voYlC\\\n",
       "W1+Li4t5Lz3d6egkJpFWkMZdX3xBCCFMYpJ1N1iA1xcuZFpoKPG//KX7bS4sxBl2uq3s0oDhfjpU\\\n",
       "gLkDM6SqNmwg5plnnALDDKjjtmqOPvc8viOGA+A7fLjTc5uCrppu/n4EjBtH9Y4dBE2ciEe3biy9\\\n",
       "/34mz59PXn4+k5jETGZyEzcxj3nMYQ5xxAHGXWJjYmJYet99NCx4lfLAwBM6Ft1653whToO0sncd\\\n",
       "EmBt5DdyJN3CQq1GC8fAMNfAGkpL6ebvR0NxMTWbt+B/0QhK330P0ARNnMhxWzUR99/H8WobRfPn\\\n",
       "4z9mDLbvv6dytFFkBv37XZbefz+Tnn+etLI0buIm4ohjEYsAyCSTNNLoGRxMamoq/SIjKe/Zs9kK\\\n",
       "r1PtnC9EK0gl1XUoY8qz80lMTNTpLlNxp8uxismbPZuqlavw6hdP3HvvnbSqaSgtpfTddwHF8Zpq\\\n",
       "St58C8AKK69+8fiNGEHFh0sJmfZzvGNi8Bs5ksKXXsa7XzyeISF85+/Pzb/6lVN4AdzJnWSSyXv3\\\n",
       "3MPPX3211WOXCkwIcSpKqU1a68T2HkdrSAXWCo5VTNTs2RTYv7oGghFaRqV1vLqGkrfewqtvLAGX\\\n",
       "XWY9p/HYMboFB1N/KANdVw9A5Zo1xL76KgXPPIPt+++pLzjC/j17ubfgCCGEMIc5Tp8zhznMYha/\\\n",
       "f/99ht99N0NGjTrp2N1+53whhDiJDtVG31E5Xt/lEx9P7Guv4RMff8LzypcupWj+fIrmv0LN7t0A\\\n",
       "1B/Ooi4jA/+xYwCo3bGD4+XGXVx9hpwPHh40HM4i69fT8erVG/8xY6iYNo0783IpsNlIIok44sgk\\\n",
       "06q84ogjiSSOlJdz5dVXn3CdmBBCdAVSgZ1CS1NwjsfAaN4ImfZz6jIyCP7pLdQdPszx+nqO22yE\\\n",
       "/uKX1OzazfGyMvxGjSJg9CjKly+HRmMn7IacHMr+8x88Z9zLDfffT0FtLYDVbZhGGmWUMYtZJJFk\\\n",
       "PX6krIzkpCTSHn2UhgWvUvndd/gOPp9ufn6E3jZNpg2FEJ2WBNgptNQEUfruexTNn29dpOzYkFF/\\\n",
       "5AgNeXkA1BQWUpD1F46XleHVL57eL7+EZ2goAePGkfPQQ3iGhOI3bCieISEEjBvHLaGh/NNepYG9\\\n",
       "2zA6mr+dN5zH1qwhpSHFaRw/Hzac+F/+krxdu6hauQrb2u8B6ObvJ9OHQohOSwLsFFreCNdogDle\\\n",
       "baNmj3Hdie/5gwm87FK8Bw6k4Mkn8b3wQhpLSuh+zbUUvvgifiOMy9waSkup3rSJ4GuuoeTNtzhe\\\n",
       "UUHMs38l79FHuc/Hl+Ph4bxSbNyoLzoyktS0NPp6edFv9mymrVxJXkEBAPeFh/PI9dcB4JdwIT79\\\n",
       "+wOKbn5+Z2/zXiGE6AAkwE6hpSaI0Ntuo5u/P8dt1djWfk/A+MsJ//Wv8QwNpfAf/6T+cBbBE39C\\\n",
       "6OOPkzltGsfLyqj4cCn1WdnUHy2g4XAWnn1jAajPyiLrjjvRNcZtz2cmXEi3rMP8Lzub98aNI/TL\\\n",
       "rzjyww9Ebd3G0gceYNKzzzLZy4uHJkwAFKXvvkvR/Ffo8fBDUnUJIboEaeJogWtjRENpKQXPPcfh\\\n",
       "u+6iNiPDCrfQ26bR4+GHiJo9m/KlS+3PN6uzavJmz6b+UAb4+uI9eDDVGzfScDgL5ednhFjv3gDo\\\n",
       "mho8IiPxHT4c7z69eertt/nylinEeXlTNH++0X7fN5Y4L2++/d0sfhMRSTc/f4rmzwcUEfffz3Gb\\\n",
       "rdlGDmnyEEJ0NhJgLhz/ojfXv0rffZfCf/yD3Ad/T8mbb2Fb+z0FzzzjtAlv+N13U7H8U44+9zy5\\\n",
       "D/6eoIkT6fHwQ3Tz86Vq5Sq6hYRATQ3HK437daru3dHV1fiNGkXs6wtRAQEAHLfZqNmyheqN6ZQs\\\n",
       "eps+E66kZssWY3C+vtQfzqLkrbeIiAinx8MPEXbnHXj1iydg3GV08/ejaP4rJ2wS7HguZsBKmAkh\\\n",
       "3J1MIbpwbNpw7C40qhzwGzUK5eVJ1OzZTk0ckQ/8BrPqsn3/PRXLPyXygd/YQ0JR+d0aaraUETj+\\\n",
       "crxjYjiWmkZ1ejpoTdmSD6zdEL369KGbjw81W7fiGR1t7WZ/bMU31Gdl4dU31piWtHcYZt1zD/WH\\\n",
       "MihasICo2bOp2rDB2qexuXMJnjxZducQQnQKEmAuHP+id9wayggn5dKarp2+ht52G1UbNlC9MZ2q\\\n",
       "DesJLTWe283fj5otW/EfOwbPkFCCJ0/Gb+RI8h55lOM1xgXPJv+RF+EZEkrN1q005OdTsXQpPR5+\\\n",
       "iD6vGRc6R82e7XQNWsSMGdRlZuLVuzdlS5ZQtXIVFQkJhN52G8dtNiLuv9/pXFzPUQgh3JUEmIvm\\\n",
       "mjY8Q0OJfOCBE55rNnE4BoHy9AKgemM6pe++S+QDDxB4xRVUbdiAz4ABFM2fT/WO7fglJFCflXXC\\\n",
       "e3bz8eV4tQ2/xES8+8Xjf9EIK4BiX3vNep45LXjcVk394SzKDv8H/zFjzFHYL6o2mjpcrwWT3TmE\\\n",
       "EJ2BBNiPYAZBbUYGebNn49O/v9FoERtrDycFQOW331K1chV+CQnWHZf9Ei4k7O67qN66DZ9Bg+jm\\\n",
       "50s3X18Aiua/AkB1ejoB4y/H9VLkhtJSch/8PbbvvyfsrruIuP9+zI2CK7/91ilQm6uyZH9EIURn\\\n",
       "IAHWBif7i7/gmWeoWrmKuoxMIu6/j6CJEyn74ANsm3+gNiPDacouqKyMI3X1NJSWUJeRSXV6Ot2T\\\n",
       "k6yKqDYjg7Lly2k4nIVXbGyzu96XL12K7Xv7xcp+voTeNo3ypUvxCAmxpjxbCihZAxNCdAYSYG1g\\\n",
       "Xmt13GZzmlKMmj2b7Oxs6g9l0M3fH4+QEI6lplJ/KIOCZ54h9rXXrGAxN+w1A8irX7zVdAFGtdZw\\\n",
       "OIuA8ZcTMWMGRQsWOB0HIwiP26o5Xm0DFMVvvGFcDG1vJjlVQMkamBCiM5A2+jZRTl/NdnSPkBDi\\\n",
       "3nvPug6r9N33qD+UgVe/eCJmzHBqZa9auQr/MWMIu+tO/BITqT+UQcXy5dYnmBsHR82eTdGCBVSt\\\n",
       "XEXlt986jcIzNJTQ26ZRe/AgRfPnWxsHm80kjpsPN8ec+pTpQyGEO5MKrA1Cb5tGN/+mLZpcK51u\\\n",
       "/n4cfe55Iu6/zwqQk7Wym7t1VKen0xSMTeFS/OabVK1cRcD4y096o0rzeNTs2U5rX9KkIYToCjpU\\\n",
       "gCml+gD/AqIwyomFWuuXlFJhwH+BOCAT+JnW+pxfhesaDK5Tca4B1dxjjq93DURHzb1XS8d9XAJL\\\n",
       "GjWEEJ1dh7ojs1IqGojWWv+glOoObAImAXcAJVrrZ5RSs4FQrfWjLb3Xmbwjc0s6alAUv/kmR597\\\n",
       "XvZGFEK0idyR+TRprfOBfPv3x5RSu4FewE1Akv1p7wBpQIsBdq501I4+adQQQnR2HSrAHCml4oAR\\\n",
       "wHogyh5uAEcwphg7hI4aFLIOJoTo7DpkF6JSKhD4EPid1rrC8Zg25jybnfdUSk1XSqUrpdILCwvP\\\n",
       "6hhdN/LtKNOH53Kj3tKaUhbtWERpjWwKLIQ49zpcgCmlvDDC6z2t9VL7wwX29TFznexoc6/VWi/U\\\n",
       "WidqrRMjIyPP6jgdd3fvSM7luFIOpPDCphdIOZBy1j9LCCFcdagpRKWUAt4EdmutX3A4tAy4HXjG\\\n",
       "/vXjdhiek3M1ddjWJpFzOaU5acAkp69CCHEudbQuxMuA1cB24Lj94T9grIP9D4gFDmO00Ze09F7n\\\n",
       "qgvxbJNuQiHEuSRdiKdJa70Gx6t6nV15LsfSUZytiqq0ppSUAylMGjCJUN+OsX4nRFdgqyhnZ9oK\\\n",
       "LkiagH9QcHsPx611uDUw4exsbfsk61dCtI+daStY9d4idqataO+huL0OVYGJc0fWr4Q4t8zKq9/I\\\n",
       "iwG4IGlCO4/I/UkF1kWF+oZyZ8KdZ2z6sKWWemm3F12FraKcjcs+xFZRfsIxs/I6tGk9o278aYvT\\\n",
       "hy29j2giASbOiJamJNsyXSlhJ861MxkWLU0PXpA0gcun3dmqykumGVtHphDFj1ZaU0p1QzUzhs1o\\\n",
       "dkqyLdOVZtgB3Jlw5xkcpRDNM8MCYNSNP23Ta10bMsxwai6k/IOCW/3+Lb2PaCIVmPhRSmtKeXzN\\\n",
       "4yzYugA/Tz9CfUOdqqji4uJmpyuLi4ubrbYmDZjEgyMfdAo7qcrE2dSWysiVa6VkhlRz04NtqfRa\\\n",
       "eh/RRCow4aS17fXm86obqlmdu5r4oHiS+iQBDlOGr6SQ/nE6qampDBo0yHrtvn37SE5OJvGmRA5d\\\n",
       "fAhoqrbMsHMkVZk4m5qrjFrb6t7aSslWUc4Xr7zIjnVrgRMrveLiYsLDw09n+F2aVGBdUEsVjet6\\\n",
       "1cmeaz5v89HNXBJ9CRkVGcz8diYZ5RlMGjCJfuv7sWzBMvLy8rh43MVs3L6R0ppSnl7+NElJSeTl\\\n",
       "5bFswTL6re93yqnF5qqy1p6PEK3lWCGd6TWonWkrePXf/+Gl1HV4945zOrZv3z6GDh3K3LlzT2us\\\n",
       "XZrWulP+GjlypBbNe2v7Wzrh7QT91va3TjhWUl2i39r+li6pLnF67oyvZ1iPlVSX6Pmb5+vbP79d\\\n",
       "J7ydoJ/f+Lz+ydKf6IS3E/RPlv5E//bR35obLlu/QnqE6JnzZ2rPEM8Tjt0440brvc/0+QjhqKq8\\\n",
       "TG/4+ANdVV52wrENH3+gn//ZDdbxDR9/oItysp2+ur7uu/++q5//2Q36u/++e8L7O37/h9mPWn/e\\\n",
       "o6Oj9d69e7XWWu/du1fHxMRYx+bMmdOq83Ac65kGpOsO8Hd4a37JFGIX5NhU4TplaE7hmVVNUp8k\\\n",
       "1uauZXXuah749gH8PPyIC47j/b3vMyxyGAA7inbw50v/zP9993/sz9vPN2984/x5TCLtaBov3f8S\\\n",
       "IYSQRBIppFjHP1v8Ge/+/F0euOyBH30+QrSkpYYNx+lAc1px47IPWfXeIrJ3bSdjc7r1OltFOVu+\\\n",
       "WE7Wru0AaHXi+wOsem8RCxf/lzfeX2I9lp+fT3JyMv/4+4vce+8MCkuadsWbN28ewCmrMWnyMEiA\\\n",
       "dUGhvqFMGjDJWsNasHUB1Q3V+Hn6WUFmThFuPLKRuOA41h1Zx9bCrQDkVeUB4NnN+OOTXpDOD0d/\\\n",
       "4J3r3iHlQAp7X9vL3371NxrKGpjEJGYyk5u4iXnMYw5ziCMOgBRSCIoM4nev/w6PQA9Ka0pP67q0\\\n",
       "5tbNhHDUmouIzS5C167C+poa6mtrCe8VS11tDbaKcjZ/uZx1Hy4GIH5EInFDR7L0mblcfPOtjPnp\\\n",
       "VOpqa4gbOpKIQUNY/vq/nD5nEpNIy0vjpz/7f4QQwiQmOf2D7vXXX+eBBx5odk3MVlHOxo8/5Ojh\\\n",
       "g1xx54wu3+Qha2BdQHNrRI6NEQ+OfBDAae0rqU8S8UHxrM5dTWZFJgDDIodxSc9LeOqyp3hw5IPM\\\n",
       "GTOHOy64g5E9RlJSU0JWRRYbj2xk6rip/OnffyI6Opo00sgkkzjiWMQi4ogjk0zSSMMzxJPfvf47\\\n",
       "4vrHsWDrAtnWSpw1rhcRAyesIZmNFubalxl6WkH68qUc/GED6z5YzM60FSj7HuixCcO59r5ZrP/o\\\n",
       "fTI2p7P+o/fRCtZ9sJgv5r9A0b5d/GPO48TExABY/6B7kReJI44XeZGZzGQSkwCIiYkhNTX1pA0d\\\n",
       "O9NWkL58KVnbt7Ly32+cvd8wNyEVWBfQXBef47Sb2fpuVmAAadlpZFRkMK7XOB4e9TCfZ3wOwNTB\\\n",
       "Uwn1DSU2KJbFexazp2QPm45uYtPRTby/531qGmuoP17PH8b9gTX3r+GzP37GPOaxiKZplXnMo4wy\\\n",
       "Zj45k99d8zvrcZkCFGeL65Rbc1OJO9NWkLE5nfgRiVYltuq9RYz56VTiRySSsTmd2ITh1NXWMPjS\\\n",
       "8Xj5+lrvFxQZRUjPGC6++VYOb90EQFlBHvEjErl22i8ZeuU1JCcnk5aXxk3cZP2DDrD+QRcdHX1C\\\n",
       "x25z15nZyss5evgg43/xq3Pzm9eBSYB1IidrgW9ujch12s117WtgyEDig+K5Z+g9hPiEsKNoB6tz\\\n",
       "V+Pn6UdSnySj47AiA4AQ7xDK6sqoaawBoLqhmjv+fQdrn19LCCHMYY7TOOcwh1nMYsmTS7hvwn0M\\\n",
       "GjTopFOAsmu+OBNcW+UdA6256UXHi5L7jbyYurpa6mtqaGxsYN0Hi/H28XWq5LZ+9SkABzas5Wjm\\\n",
       "IS5IuopjRYWM/8Wv8A8Kpjfw0N238+Cfnz7pP+h+OfoSwgP8ncbtGrT+QcGM/8VdZ+c3yQ1JgHUi\\\n",
       "J7teqi1rROZ7hPiEUFZbxqOrH6VPYB/WHVnHJT0vIa8yj19+/kvKassI8Q5hQOgA0gvSGRY5jOLq\\\n",
       "YoJ9gtmwfQMZz2TQUNZAEknWtKHjGlgSSaTkpXB50uXMXDiTeyfc22xALd6z2Fqju2/4fWfmN0p0\\\n",
       "eY6BZjZq1NfU4OXre8JzNi77kE2fNN3hPDSmN/1GXmwFX3jvOALDI1EKcvbu4sj+PYTG9KY0L4e9\\\n",
       "363EdqyCVZ9/ykufrWjxH3Rvf5XKwBf+ym/+9g/rmDRrtEwCrBNxrbQcqxeg2e9dQ2PSgElsPLKR\\\n",
       "1bmrAcitzCW3MpdxvcaREJHAgq0LAPD18KWsroxRPUdxee/LrWaQwPpAK7wAa3E6jTTKKGMWs5y6\\\n",
       "EAvyC3jiF08Q+EngaXchCvFjmOFQV1tjdRxee98sq0HigqQJ1NXWUF1RweFtmynNy2HHt19x8IcN\\\n",
       "lOblENQjisriQgACQ8OJH5HIxTffSt7endjKy1nx4X9ZkLaOiupaJnHdyf9BV53Ck+8t4ep7HrCm\\\n",
       "Eduy/VRXJAHWibhWWo4VmWu3odlh+ORlTzqFWKhvKE9e9iSL9yymuqEaAD9PP6YOnkpZbRkpB1LI\\\n",
       "r8qnd2BvahprOFJ5hJ6BPbku/joAlh1YRuj4UAo/LmwaBylER0fz/N+fZ+Z9M0kpTnEa9/CfDGfi\\\n",
       "hRObPaepg6c6rc0JcTpa2lnDDAlbRTkFB/eTsTmdT19+lpjzhjDimon4BwVz6ZRpbFz2IWVH8oi9\\\n",
       "cDj7N35PeUE+oTG98Q0IpOJoAQBhvfpw+bQ77J2Ch/DoHmyFF5z6H3RHCgpISkrinWef4tIbb+7y\\\n",
       "XYanIgHWiTlWZIv3LHZ6fG2ecW3XI6se4dnLnwWcqzLX6brSmlKe2/gc+VX5ABwoPwBATmUOYIRc\\\n",
       "dUM1uVW59P9ZfwArxDxDPPnlP37Jx90+JubhGLKezaK2xPgfOvEXidRcWUNadhrxwfFOn2eO2Wwc\\\n",
       "EeJ0Nde04Rhq5nPG/+JXNDbUk7V9K1nbt1JwcL9VjZkt9bl7d1NekE9Iz2j6XzSaPhcMY9kLf6Gx\\\n",
       "vp6S3Gy2fLGc9OXGlGP0wMFcO/YS/vfNSmssKaTQMyqK5W8uZ/r06aTkpTiN9Ybxl7Htkw84lpPp\\\n",
       "VAmKE0mAdWKOFZljJRPqG8qIHiNYl7+OdfnrrGrr7Z1vk1GeQVF1EQ+PehiA5zY+xz1D7+GfW/7J\\\n",
       "uvx1jIwaSWz3WL7L+w6FMlroa0sYGDKQx1Y/BkA3uhF1cxTDewznu6Xf0evhXmxX28mqyKJn357M\\\n",
       "/Wgu991yH5dOvpR//vWfpGWnkdQnybpwOi07zaoYwbhQ2rVSFKItmltLcgy1utoa1n2wmLraGmLO\\\n",
       "G0LW9q2ERMWQsTmdZS88jQKiBgzCy8eHrB1biE0YTmNjA+nLl3IgfR2N9fUAHCstJtt+cTNAeVEh\\\n",
       "o8MDqR41nE82bgEgyM+H5x78LT0aa/jsk2Vc/5Mbycszrq2cM2cOjzw4iy9eeZGMzensTFthVYet\\\n",
       "2Zuxq+lwAaaUeguYCBzVWifYHwsD/gvEAZnAz7TWsvFdG7hOL04dPJXNRzezLn8dAHuK9wDwbda3\\\n",
       "lNeVs71oOwGeAeRW5ZJzLMfqOGw43sCh8kMctR0F4Fj9Mdblr6OgqoCyujJ8PXypqK/gkuhLGDx9\\\n",
       "MNnDsokIiyDrWBbxQfFkVGRQG1bLwd0HCQ8Pt65N+zzjcxZsXWCtv80YNoMZw2aw+ehmVueuJuVA\\\n",
       "ilysLM4ox1Db8sVyAJSG4ddOxNvHl/DecXyx4AVyd+8AIGf3Di5Iugq/oGC6R0SyM+1rAMqO5NHr\\\n",
       "/ASOFRdScbSAyqJCfLsHUXOsAltpMZ4+voyP70VNVRUbMnO4d/xoPKsqWPXeImIThvO3h2fx4LMv\\\n",
       "MH36dGsHjmvvm8XmL5dTX1PjtDcjtP2WL52ZMra+6jiUUpcDlcC/HALsWaBEa/2MUmo2EKq1frSl\\\n",
       "90lMTNTp6elnf8BuyGzuMKudpD5JLN2/lD0le/jpgJ/yxNonqG401r96BfRiXO9xfHP4Gwpr7AvV\\\n",
       "XoFU1lfSw68H1/e7Hj9PP/oF9eOpDU8xJnoMn2V+xsgeI1FKkV5g/De4JPoS/nDxH0jLTnNqHlm0\\\n",
       "YxEvbHqBGcNmAJyw7gYnbzgRorXMTsPLp93ZbAA0N52Yue0HsrZvxScgkJConnj6+FohFdIzmsGX\\\n",
       "JVFdUUFBxkF0YwO2inKOFRXS6/wEIvr0pSj7MKDJ3b2ToB5RHG88TkFeLgE+3gy7+gYqCgus7amG\\\n",
       "XD2R6+6+l+LcHFb++w3G/+JXHNq03roODYztqkZcM9Ea39mqxpRSm7TWiWf8jc+CDrcTh9Z6FVDi\\\n",
       "8vBNwDv2798B+2Xr4rSYzR1p2WncmXAnadlpvL3zbQaHDealzS9R3ViNTzcfACrqKnh/7/vYGmwA\\\n",
       "+HTzobK+EoBIv0je3vk2fp5+LDu0jNLaUkpqSxjXaxybjm4ivSCd2O6xAIzoMYL44PgT7gtm7jRv\\\n",
       "TnG+vfNt9pTsYcHWBcxKm8XiPYtbdWsX2Y1etKTfyIuJH5FoXevVErPa6dG3PyE9o6mtqsQnIJDc\\\n",
       "3TvwC+yOb/fuJN9+L5dOmUZwZA+O7N9DwaEDHCsqJDAikqqSEuu6sOMNjUQPHEz88ESCe/QgwMcb\\\n",
       "gOLsw4T3iiV64GAAKrIzsVWU8+2iV8nYnM63i1617lOmFXz/oXHtmX9QsNyt2UGHm0I8iSitdb79\\\n",
       "+yNAVHsOxp00dyGwa7u9+XVt3lqrKaP2eC2hPqGU1hqhEBcch63exiOjHuHp9U+TVZmFp4cn43qN\\\n",
       "46IeF1FSU0J1QzXR/tFkV2Zzc/+bybflc/uQ2/nPnv9YXYotjc0cR0lNCevy17GpYBObCjbh5+nX\\\n",
       "4vSh3C9MmE62VnRo03qr2mmuMcJxiq7fyIvJ3rWdAaPHcvTwQcqO5NNY30DshcPI2m7sB1qck0nP\\\n",
       "AQMoLzxK94hIGuvrsZWXoTB24PANDLKmHgHy9xtT9L3OT6CqpISc3TvI2b2D2AuNDbFzdu9g85fL\\\n",
       "6dG3H1nbt3C8wbgM5YKkCWz+cjmJEydb+zDKtWFN3CXALFprrZRqdt5TKTUdmA4QGxt7TsfVUTX3\\\n",
       "l/vJduFI6pPE/333fxRUFZDUJ4mJ/Sby9x/+jtaaOWPnWF2C/+z+T55a/xTHao+xOnc1tnobm45u\\\n",
       "YlyvcXx08CMAjtqOknUsi+xj2eRW5pIQkcDUwVOdrkV7fM3j1vVm5ubC5jGzq7E1LfSyG70wnWyt\\\n",
       "6IKkCdaO8mZjhCPHUDC3lALI2r6V0Jje5O7ZwcifTKauphZbWSkx513AzrQVVqUVHBUN5WUEhIYT\\\n",
       "FBHF8cYG8vdX4BMQiIeXF7ayUoJ6RBE75EK+/3Cx0cE4agwDR42l/OhRygvyURpG3fRTinOzrHGC\\\n",
       "sa+iuZWVuQOIrIMZ3CXACpRS0VrrfKVUNHC0uSdprRcCC8FYAzuXA+yoWvrL3XUtbNKASVwZeyUv\\\n",
       "bHqBmMAYYoNiubz35ST1SbL2Qrwu/jrSstMY0WOE1SWolGLGsBlUN1TTK7AXmRWZxAXFkbU3i9zK\\\n",
       "XOuzHAMLYHXuasb1GmeFl2PQtmXXDdmNXphOVp34BwVz7X2znNa5XKs1MxQct5Dq2W8g9bW1cNFo\\\n",
       "jhzYxxF7JbV2ybv0GnQ+FyRdRe6enSTffg9bvvrE2ksxY3O6tRtHz4GDsZWVEj88keHXTuTIIeNa\\\n",
       "M29vH9Z/9L51Pdl5l45vdpzmWPoMuZB+Iy9m47IPpRvRzl0CbBlwO/CM/evH7Tsc9+H4l7vrlJ0Z\\\n",
       "Gmtz17LuyDqqG6qZOngq1Q3VVDdUW9s4Oe7M8UXGF2RUZHBJ9CXcet6tZFZk8pvhv+G1ba+xOnc1\\\n",
       "D458kMcveZyM8gwyKzKpbqhma+FW1uatJetYlhVYJtfpQ6mixI/R0s4Vrsc2f7ncap0fcc3EZsPM\\\n",
       "y9eX7z80KqAc+5Sgb2B3uodH8v2Hi4m9cBhlR/Iotl+ztTNtBTHnXQDgtBvHkf178PL2YWfaCi6+\\\n",
       "+VYAbMcqyNicTkhUDKV5ORzatJ7wXr2dPt/cLd+ve3en+5OBdCNCBwwwpdRiIAmIUErlAHMwgut/\\\n",
       "Sqm7gcPAz9pvhO7LtcpxWnM6so7NRzdbzRQvbHqBS3pewoxhM7gu/joSIhKstvv4oHjW5a9jbMxY\\\n",
       "Hr/kcRbtWGRVU+b1XNUN1azLX8eMYTMI8g6yjjtez2VWXo4VoHQairPJseoyFyKUbnnqEYwKKLxX\\\n",
       "rLUDxzH71lE9+vYnbuhFTsH33ZL3yNicTlT/gVw6ZRq2inI8fX3I27uLrO1bm3a2t69/DRh1Cf7B\\\n",
       "wc2uabmOS9a/nHW4ANNaTz3JoSvP6UA6ITOwzJCZNGCStQP9wbKD1vVWjvshju01lvjgeO4bfl+z\\\n",
       "U46lNaVUN1QzY9gMa43LbIs3W+MfHvUwo3qOOiGgHG+aaVZ4MhUozibHQBh+7USnW6LAyYPBr3t3\\\n",
       "/IODKS/IJ35EIsOv/gnHiosYMHosvc4zOgnNG11m7zAuZDYD0j8oGG8fXyu8zArs4ptvdQo/8z3M\\\n",
       "nfEPbVp/wg04ZW9EZx0uwMTZY04nmtdeAVZb+5OXPek0vej4s+vrAauhY9GORSzYuoAHRz54wlSg\\\n",
       "GVAn6yI0n3tRj4sAI1iFOJscKxjXMGguGBwDz/HuzN8seoWKowV8Mf8Fpv7lOau9fd0HTXdpHn5t\\\n",
       "0/6e5mu1gsNbN5GxOZ0+Qy484TPNzzMbTk42LmGQAOuC2nJ/sLa+l+PrkvoksfHIxmaDyXE9LuVA\\\n",
       "CqtzVzOq5yin/RCFONPaWsG4Bp65JmYqK8izuhrNXesbamrx9PWh+tgxp3U1L19fVr23iEtumcrl\\\n",
       "0+5stpnEccqyz5ALZarwFCTAOrnmrgM7E117ju97svf6PONzVueuJiEi4YSuQsf1OGngEB1VczfC\\\n",
       "NENKK2Oa0NzuyXHX+lXvLbJ2tocT168cOwhd17nMzwvv1ftcnabbkgDr5M7WRb4/9n0dQ6s1gSp3\\\n",
       "ZhYdhbePr3WbFTOsjhxy3rUeTqyiHG/b4tgKL40Zp08CrJNr6SaXp9qeqaXnNVc1ub6mpXt5tbUK\\\n",
       "lN02uraOsht7c12BrhdIO1ZtzVVRru/hWuV1lHN1BxJgnVxLN7n8MdszNRdA5nVj1Q3V3Df8vjN6\\\n",
       "gbFMM3Zt53I3dltFOVu+WG5tnusYIq7V0skuPG7JqSou2Xm+9STAupjWBkFHCwzZbaNrO5fTbDvT\\\n",
       "VliNGubWTabmmkDa2hhyqufLlGLrdbjbqZwpcjuVc0/WqURn0FIF1hW40+1UJMCEEEJY3CnAOtz9\\\n",
       "wIQQQojWkAATQgjhliTAhBBCuCUJMCGEEG5JAkwIIYRbkgATQgjhliTAhBBCuCUJMCGEEG5JAkwI\\\n",
       "IYRbkgATQgjhltwmwJRS1yql9iqlDiilZrf3eIQQQrQvtwgwpZQHMB+4DhgCTFVKDWnfUQkhhGhP\\\n",
       "bhFgwGjggNb6kNa6DngfuKmdxySEEKIduUuA9QKyHX7OsT8mhBCii3KXAGsVpdR0pVS6Uiq9sLCw\\\n",
       "vYcjhBDiLHKXAMsF+jj83Nv+mBOt9UKtdaLWOjEyMvKcDU4IIcS55y4BthEYqJSKV0p5A7cCy9p5\\\n",
       "TEIIIdqRZ3sPoDW01g1Kqd8AXwIewFta653tPCwhhBDtyC0CDEBr/RnwWXuPQwghRMfgLlOIQggh\\\n",
       "hBMJMCGEEG5JAkwIIYRbkgATQgjhliTAhBBCuCUJMCGEEG5JAkwIIYRbkgATQgjhliTAhBBCuCUJ\\\n",
       "MCGEEG5JAkwIIYRbkgATQgjhliTAhBBCuCUJMCGEEG5JAkwIIYRbkgATQgjhliTAhBBCuCUJMCGE\\\n",
       "EG5JAkwIIYRbkgATQgjhljpMgCmlpiildiqljiulEl2OPaaUOqCU2quUuqa9xiiEEKLj8GzvATjY\\\n",
       "AUwGXnN8UCk1BLgVuACIAVYopQZprRvP/RCFEEJ0FB2mAtNa79Za723m0E3A+1rrWq11BnAAGH1u\\\n",
       "RyeEEKKj6TAB1oJeQLbDzzn2x4QQQnRh53QKUSm1AujZzKHHtdYfn4H3nw5MB4iNjf2xbyeEEKID\\\n",
       "O6cBprWecBovywX6OPzc2/5Yc++/EFgIkJiYqE/js4QQQrgJd5hCXAbcqpTyUUrFAwOBDe08JiGE\\\n",
       "EO2swwSYUupmpVQOMAb4VCn1JYDWeifwP2AX8AVwv3QgCiGE6DBt9Frrj4CPTnLsSeDJczsiIYQQ\\\n",
       "HVmHqcCEEEKItpAAE0II4ZYkwIQQQrglCTAhhBBuSQJMCCHOgurKOn746jDVlXXtPZROSwJMCCHO\\\n",
       "gt1r8/l+6UF2r81v76F0Wh2mjV4IITqT88dGO31tSXVlHbvX5nP+2Gj8Ar3P9tA6DanAhBDiLPAL\\\n",
       "9Oaiq/u2KpCkWjs9UoEJIUQ7a0u1JppIgAkhRDszqzXRNjKFKIQQLeiI3YQdcUztQQJMCCFaYK5P\\\n",
       "bU/NOWlonCxQzMdLC6raFDinCihZMzPIFKIQoktz7QB0/dlcl6o+VsfGTzNpqG1k9E/6Ob22obaR\\\n",
       "jZ9mAjhNBZpBk7uvlKwdJdbx4uJiwsPDTxhLzuF8ju6to762kfRm3s8ka2YGqcCEEF2aazXj+rO5\\\n",
       "PuXp7QFA3sEyq6LalprD90sPooExk/ufECjnj41m+FV9qLU10HNAEPHDIpg7dy5Dhw5l3759Ts/d\\\n",
       "t28fF40cwR//8AQNdY3EJoQRPyyi2TG3pcOxM5MKTAjRZVVX1tFQ20jiDXEnVDWuYTQ0uTdHD1eQ\\\n",
       "taOENUv2k7WjhOFX9SE2IYxBo6MIjQo44f39Ar0pya+i4FAFALMfepyF774EQHJyMqmpqQwaNIh9\\\n",
       "+/aRnJxMYXEBnxf/i5gPQhgRfBNr2M+EO4Z0+aA6GanAhBBd1u61+Wz8NBMvHw8rJFyrG3M9CmDC\\\n",
       "HUMYdUMcodEBjLohDi9vD7J2lJCxteikn5F4fRzBkX5sLFxqhRdAXl4eycnJfPrppyQnJ5OXl2cd\\\n",
       "e/P9l1md+V+ydpSwLTWH6so6NnxyiPWfHOryjRuOJMCEEF3W+WOjGTO5P/HDIk7aNOE4pWiG2tav\\\n",
       "swEYODqqxak+gPwD5eRmH+GzlR84PT6JSdjybEycOBFbno1JTHI6/u3Gj6msKUfRFLTpn2Z2+cYN\\\n",
       "RzKFKITossxq64evDlvNFuaUndmgYYaTOaWo7a/N2VdK3sEycveUOU31Nd8EchFXTP+Ca6+/mpLy\\\n",
       "QiYxiZnM5CZuYh7zmMMc4ogDIIUUYmJi+Hz5lzQUdrc+t6G2EY00bjiSABNCuL0fu5fg+WOjrU5B\\\n",
       "831WvL3L6hw8f2y09XjsBWFsT8shf385AL4BnmTtKOGDZ9KJHxEJGBVafW0jQ5N7W6/bvRbuv/Y5\\\n",
       "5n/xMGnladzETcQRxyIWAZBJJmmkERMTY62NOZ7bhcm9nc5N9k/sQFOISqnnlFJ7lFLblFIfKaVC\\\n",
       "HI49ppQ6oJTaq5S6ph2HKYTogNpyXZTjNVau61tmJ+Hutflk7SghNiGM88dGs+lLo0Lb9OVh1i87\\\n",
       "RG1VAwDdw32psX9fUVTD1q+zydxirIeZU3/fLz3IttQc6msbmThtHI//9mnKKGMe85zGNY95lFHG\\\n",
       "I/f+hT4xcdZYV7y9q9lzMzsgt6Xm/JjfOrfWkSqwr4HHtNYNSqm/Ao8BjyqlhgC3AhcAMcAKpdQg\\\n",
       "rXVjO45VCNGBtOW6KDNUTOb3F13d17rmyvX9zFAqzq4kNCqA3D1lAMQmhFFeUE1AmDfHCms4rjVH\\\n",
       "DlTQe3Aotso6inZX0nNAEDWVdexYmUeP4Zrn33iCEEKYwxyncc1hDrOYxZxnHsanPozbH7nOCtKQ\\\n",
       "KD9rKtO69qzO+CtQndbvWOfQYSowrfVXWusG+4/rgN72728C3tda12qtM4ADwOj2GKMQomNqy3VR\\\n",
       "ZuPG+WOjnb4/2fttT82hvLCaoAhfgqP8KM6tBKDX4BD8A73J2VNKWM9Abv79SK6/dyijbohDo9m5\\\n",
       "Mo+CQxUcOVBBcW4VBWXZ3PvoVPLz80giiTjiyCSTO7mTTDKJI44kkii3FTP7b3fzzrOfEz8sgtiE\\\n",
       "MMoKqlmzZL8VXua1Z7EJYQwcHXU2fkvdQkeqwBzdBfzX/n0vjEAz5dgfE0KINjPDyXENCeCHrw6f\\\n",
       "sJ5UXVlH1q5i43Xdvdi50mh1jx4QjELRIz6I2IQwogcE88NXh4kfFkHO3lLyD5QT2TcAL29PIuOC\\\n",
       "KCku4uVPfk+5zXivFFIASCONMsqYxSySSLIeN0Ns0NAVTLhjiLUeZzaV5O4rRQFZO0rY37cATx+P\\\n",
       "LrkWdk4DTCm1AujZzKHHtdYf25/zONAAvHca7z8dmA4QGxv7I0YqhOjsHLd56tE3qNmtm7al5lCQ\\\n",
       "cQwAD89uJN4QR0NdIxlbiigvrKYo5xg1lcbEUdaOEnauzqWisAYAT29Peg0KRQPB3cMYe/4NfL7p\\\n",
       "X9Z7p5BCsH84f/z5S7z56V9JyU9xGt9142/h/Ivi2L02n8umDCRjUJHT+lyPvkGMmdyf+tpGp2nQ\\\n",
       "ruScBpjWekJLx5VSdwATgSu11ma3ai7Qx+Fpve2PNff+C4GFAImJibq55wghBDh3HkbZw8Da99Bl\\\n",
       "nal7hC894oKsrsLywmo8vbtRU9lASJQfidfHAVhdi4FhPqCx9kfsOSCIGxJvx8NTsXz9OwCEBUVy\\\n",
       "/3XPMfy8BL6470smTJhAYUkBALdedw+Xxf6M9csOkbunjPraRi6277/ouD5ntu172SuwrkY15UT7\\\n",
       "UkpdC7wAjNdaFzo8fgHwH4x1rxjgG2DgqZo4EhMTdXp6+lkcsRDC3Z1sI1/bsTq2fp3NsKv64OXt\\\n",
       "Qe6+UvL3l9N7cCiXTx3EqsX7yNlTim+AJzVVDYy6IY66ukYO/VDIseIauof7cqy4hqh+QXh6d6N7\\\n",
       "mC971h5h8Ngo3nj/H6xY/xEzrnqWqBDj3+YhUX40BJQwc97tXD3mZmbOeAQvbw+q7c0fMQODufae\\\n",
       "C1s1Rfhj2+uVUpu01oltfmE76EhrYP8EfICvlVIA67TW92qtdyql/gfswphavF86EIUQZ4LrjSTN\\\n",
       "acXgSD8AvL098PTxsK75ytlTypol+wnvE0jOnlJqqowKzAwagO7hPhwrNqcRu5G7p4ygSF8AKkvq\\\n",
       "uCz2Z9w17dcEBYVSU1nHgfSjlBVUExQZymNTXie6VxRbvs4m8YY4K4Dy9pezLTXHqsIcuQaWY5dl\\\n",
       "Z59S7DABprUe0MKxJ4Enz+FwhBBdhGMAOE4rxiaEcWFyb2qq6q21raAIX7J2lNBQ28iwq/pQnF1J\\\n",
       "zp5S/IKMoInqF4St3NiOKjjSj/FTz2Pl4r1WiA2bYFRc/r6B1nSkGYKXThnId0sUZQXVgNEef2Fy\\\n",
       "b/IPlpOzp/Sk7fKugdWVbrXSYQJMCCHag2sATLhjiNXttz01h7yDZVQU1hCbEEZodABbv84mb385\\\n",
       "MYNCiegTCBhTgEaVpjlWXIOPvyeX/b+B7FyTR/lRI5AqCmvYnpZDzp5SI/S6ezuFze61+fZKzJd+\\\n",
       "wyOtnTeu/tUFTt2SrlwDy7Wq7MwkwIQQXdrJKpb9GwqsJozeg0Pp0TeIQaOjaKhrJHNrEVu/yaK+\\\n",
       "5jgA0f2DGTO5P5nbjAuea20NbE/LsZo6AIIifEm8Po4efYNQQPywCKdgsh2ro3u4LxWFNXh6n7g7\\\n",
       "/sl0pcByJQEmhOjSXANgW2oO6Z9m0nNAEAnje1FaUEVwlB/pn2aSf7AMhaKqrGnX+qBIX6taih8W\\\n",
       "Qeq7e0Abt1HpHu7LgY1HqbU1UFFUQ/pnmdamv+YGwiZzh3vo2rtrtIUEmBBCODDD48iBCjw8jSYM\\\n",
       "3Wh0a+fuKaPngCAi+wZiK68lMMyXK28fAsD6Tw6hgF6DQkn/NJOsnSUcK66h1tZAr8EhKJR1MXJz\\\n",
       "a1X1tY001DXi5e3Bhcm9XYclm/c2QwJMCCEcmOGhgYa6RnL3lNEjLoheg0Kt26eMmdzfaTeP+tpG\\\n",
       "60LomIHBJN4QZ+2UERLlx8U39iN7Zwk9+wc7rVU57nLfXIehI8cLr+UuzQYJMCGEcOAX6M1oe5hU\\\n",
       "V9ZZzRbmdWLbUnNoqG2ktKCKNUv2k7WjhFE3xNFrcAi5e8rI219O3wsjOH9stNVBuGFZBjl7Shkz\\\n",
       "ub/T+xyxH4dTt7y73vKlq657OZIAE0J0aj9m6s11fcwv0BsvHw++X3qQgsMVZO0oofdgY7uo8VPP\\\n",
       "Y9+GAhRNu2T07B9Mzp5SwvsE0mdImFV97V6bb1Vs5i1bWjMWs0OyK7TIt4YEmBCiUzvTF/aa4RE/\\\n",
       "LIKMQUU01Day8dNMvHw8nKYBqyvrUEDiDXEMdbkZ5fljo6k+VkdRdiWXTRnY6mDtyh2HzZEAE0J0\\\n",
       "amf6wl7HEAm9OoDqyjprN3hHu9fms/HTTGva0FVJfhU5e0rJ2FpE6NUBzX6WNG60TAJMCNGpne2q\\\n",
       "5WTv31Jwbk/NsaYfHY935W2hTocEmBCiyzsblU5zwWZ+Tp19l/ue/YOdPq8rbwt1OjrMHZmFEKK9\\\n",
       "mMGxe23+SZ9TXVnHD18dprqy7qTPae3neHt7MGZyf4a6XO/leofottxpuiuSCkwI0eW1ptI5E9N5\\\n",
       "rvfyciVNGm0jASaE6PJaExxnYjpPAurMkgATQohWkPDpeGQNTAghhFuSABNCCOGWJMCEEEK4JQkw\\\n",
       "IYQQbkkCTAghhFuSABNCCOGWJMCEEEK4JaW1bu8xnBVKqULgMBABFLXzcM6UznQu0LnOR86lY+pM\\\n",
       "5wLn5nz6aq0jz/JnnBGdNsBMSql0rXVie4/jTOhM5wKd63zkXDqmznQu0PnO58eSKUQhhBBuSQJM\\\n",
       "CCGEW+oKAbawvQdwBnWmc4HOdT5yLh1TZzoX6Hzn86N0+jUwIYQQnVNXqMCEEEJ0Qp02wJRSzyml\\\n",
       "9iiltimlPlJKhTgce0wpdUAptVcpdU07DrNVlFJTlFI7lVLHlVKJLsfc6lwAlFLX2sd7QCk1u73H\\\n",
       "01ZKqbeUUkeVUjscHgtTSn2tlNpv/xranmNsLaVUH6VUqlJql/3P2Ez74253PkopX6XUBqXUVvu5\\\n",
       "zLM/Hq+UWm//8/ZfpZTb3N5YKeWhlNqslFpu/9ltz+Vs6LQBBnwNJGithwL7gMcAlFJDgFuBC4Br\\\n",
       "gVeUUh7tNsrW2QFMBlY5PuiO52If33zgOmAIMNV+Hu7kbYzfb0ezgW+01gOBb+w/u4MG4Pda6yHA\\\n",
       "JcD99v8e7ng+tcAVWuthwHDgWqXUJcBfgRe11gOAUuDu9htim80Edjv87M7ncsZ12gDTWn+ltW6w\\\n",
       "/7gO6G3//ibgfa11rdY6AzgAjG6PMbaW1nq31npvM4fc7lwwxndAa31Ia10HvI9xHm5Da70KKHF5\\\n",
       "+CbgHfv37wCTzuWYTpfWOl9r/YP9+2MYf1n2wg3PRxsq7T962X9p4ArgA/vjbnEuAEqp3sANwBv2\\\n",
       "nxVuei5nS6cNMBd3AZ/bv+8FZDscy7E/5o7c8VzcccytEaW1zrd/fwSIas/BnA6lVBwwAliPm56P\\\n",
       "fcptC3AUYxbmIFDm8I9Zd/rz9nfgEeC4/edw3PdczgrP9h7Aj6GUWgH0bObQ41rrj+3PeRxjmuS9\\\n",
       "czm2tmrNuQj3oLXWSim3au9VSgUCHwK/01pXGP/YN7jT+WitG4Hh9jXvj4DB7Tui06OUmggc1Vpv\\\n",
       "UkoltfNwOiy3DjCt9YSWjiul7gAmAlfqpusFcoE+Dk/rbX+sXZ3qXE6iQ57LKbjjmFujQCkVrbXO\\\n",
       "V0pFY1QAbkEp5YURXu9prZfaH3bb8wHQWpcppVKBMUCIUsrTXrm4y5+3S4EblVLXA75AEPAS7nku\\\n",
       "Z02nnUJUSl2LUX7fqLW2ORxaBtyqlPJRSsUDA4EN7THGM8Adz2UjMNDeTeWN0YSyrJ3HdCYsA263\\\n",
       "f3874BZVs31d5U1gt9b6BYdDbnc+SqlIs9tYKeUHXIWxppcK3GJ/mluci9b6Ma11b611HMb/I99q\\\n",
       "rafhhudyVmmtO+UvjIaGbGCL/derDscex5gb3wtc195jbcW53Iwx310LFABfuuu52Md8PUZn6EGM\\\n",
       "KdJ2H1Mbx78YyAfq7f9d7sZYn/gG2A+sAMLae5ytPJfLMBodtjn8v3K9O54PMBTYbD+XHcAT9sf7\\\n",
       "YfzD7gCwBPBp77G28bySgOWd4VzO9C/ZiUMIIYRb6rRTiEIIITo3CTAhhBBuSQJMCCGEW5IAE0II\\\n",
       "4ZYkwIQQQrglCTAhhBBuSQJMCCGEW5IAE0II4ZYkwIQQQrglCTAhhBBuSQJMCCGEW5IAE0II4ZYk\\\n",
       "wIQQQrglCTAhhBBuSQJMCCGEW5IAE0II4ZYkwIQQQrglCTAhhBBuSQJMCCGEW5IAE0II4Zb+P5hJ\\\n",
       "/M0UH9z2AAAAAElFTkSuQmCC\\\n",
       "\"\n",
       "  frames[1] = \"data:image/png;base64,iVBORw0KGgoAAAANSUhEUgAAAbAAAAEgCAYAAADVKCZpAAAAOXRFWHRTb2Z0d2FyZQBNYXRwbG90\\\n",
       "bGliIHZlcnNpb24zLjUuMiwgaHR0cHM6Ly9tYXRwbG90bGliLm9yZy8qNh9FAAAACXBIWXMAAAsT\\\n",
       "AAALEwEAmpwYAAAosUlEQVR4nO3de3xV1Z338c8PQggBISFEJAQMCpECBZVgvbUklnopjGawOjo6\\\n",
       "dahDelGHYqvVttMkPrX3R2qtowaVsdVHi0qjI7UqmlgtIgRFCiIhkMglAUJIAuRCCFnPH+dCEgIG\\\n",
       "SHLOPvm+X6+8ztlr77NZ+0WSb9baa61tzjlERES8pk+oKyAiInIyFGAiIuJJCjAREfEkBZiIiHiS\\\n",
       "AkxERDxJASYiIp6kABMREU9SgImIiCcpwERExJMUYCIi4kkKMBER8SQFmIiIeJICTEREPEkBJiIi\\\n",
       "nqQAExERT1KAiYiIJynARETEkxRgIiLiSQowERHxJAWYiIh4kgJMREQ8SQEmIiKepAATERFPUoCJ\\\n",
       "iIgnKcBERMSTFGAiIuJJCjAREfEkBZiIiHiSAkxERDxJASYiIp6kABMREU9SgImIiCcpwERExJMU\\\n",
       "YCIi4klRoa5Adxk2bJhLSUkJdTVERDxl9erVe5xziaGuR2dEbIClpKRQVFQU6mqIiHiKmX0a6jp0\\\n",
       "lroQRUTEkxRgIiLiSQowERHxJAWYiIh4kgJMREQ8KSwDzMz6mtmHZvaKf3uMmb1vZiVm9icziw51\\\n",
       "HXu7qqqqEyoXEelqYRlgwDxgQ6vtXwILnHNjgWrg1pDUKpLUVcHfH/S9nqCcnBwmT55McXFxm/Li\\\n",
       "4mImT55MTk5OF1VSROTYwi7AzCwZmAk87t824DLgBf8hTwGZIalcJFnzNLzxE9/rCcjJySE3N5fy\\\n",
       "8nIyMjKCIVZcXExGRgbl5eXk5uYqxESk24VdgAG/Be4GWvzbCUCNc67Zv70dGBmCenlb+xbXuTfD\\\n",
       "V+7zvXbmeI6EV0B5eTkZ6dNZunRpMLwCFGIi0t3CKsDMbBaw2zm3+iQ/n2VmRWZWVFlZ2cW187j2\\\n",
       "La6BCXDJPN8rQOUmeOY632sHx1dVVbFw4cI2p8wkk/qKRmbNmkV9eT2Z7RrGCxcu1D0xEek24baU\\\n",
       "1CXA1Wb2VSAGGAw8CMSZWZS/FZYM7Ojow865PCAPIC0tzfVMlT0i0NI6Vovr9R/Cptd97296/qjj\\\n",
       "ExISKCgoCLa0MslkHvO4hmvIJZdsskkhBYB88klKSqKgoICEhIRuvCgR6c3CqgXmnLvXOZfsnEsB\\\n",
       "bgDecs7dBBQAX/MfdgvwUoiq6F3tW1ztuwgv/xmMuxy+eLevHHzhteZp3zF1VaRWvkrB0iUkJSVR\\\n",
       "SCFllJFCCotYRAoplFFGIYXB8EpNTQ3NtYpIrxBWAXYcPwDuNLMSfPfEnghxfbwv0EW46ArYugqK\\\n",
       "/wKZj8K25Ue6DgPH5H8LVj4Gb/yE1LoV5OXlUUMNueS2OWUuudRQQ15ensJLRLpd2AaYc67QOTfL\\\n",
       "/36Lc+4C59xY59x1zrmDoa6fp9VVQVMdDD0b9myCl799JKgSJ8LgZFi50Pf+rAxf12LdXhh3OcV9\\\n",
       "P0dWVhZxxJFNdpvTZpNNHHFkZWUdNcReRKSrhW2ASTda8zS8/UsY/1Vft+HVj/heN70Oz/0L7NsO\\\n",
       "tdvgTzdBrL/Lcecaile8SsY/XU95eTnppAe7DecwJ9idmE76UUPsRXorTfjvXgqw3igwhP68WyDp\\\n",
       "fPjkJYg7E6JioKX5yHGHG2H9EgCqKraS8ccmyvfUAr6BGg/yIPOZTxllzGc+D/Ig+eQDBENMP6jS\\\n",
       "W2nCf/dTgPVGgQEd656Ht38Byx+CVQuhufHoY51vOl7C4V3MPdfa7Monn9ikWF555RVik2KD4RUw\\\n",
       "d+5cjUKUXkkT/nuGAqy3qquCzQWtCj7jW6FPP3LSY8iefmQZyqSEwRQUFDBz5kwKCgpISkoK7svO\\\n",
       "ztYPp/RKHU74z8jQhP9uoADrTVpPVl7zNGxf2WpnyzE/BoDzfavkXHkG2dOjSYqPoWDZ68HRhqmp\\\n",
       "qcEQU3hJb3XMCf/l9Zrw3w3CbSKzdIe6Kl9gbX4LthT6yjIfhVVPQM2nnTyJ/95YYw0537iSO9J/\\\n",
       "Q8LocW2OSE1NZe3ateo2lF5LE/57llpgkaj9JOXAfK4zJvuGxSeeA/V7YcLVvkEc2HFPB4A7fOT9\\\n",
       "GZOPCq8A/SBKb9e6N6KrJ/zvrWvisbc3s7euqRuvwDsUYJGo/bqHgVGHl3wXzs7wDdp49fu+15jB\\\n",
       "gPONQExIhX6Djn3euBTf6861wdU5TvaRLCKRpnW4pKamdsuE/+eLtvHzVz/h+aJtXVl1z1IXYiRq\\\n",
       "v+5hYNRh67IDe3zdiQfrYehZsHcLVBXDxXfA1vd998cSJ8DBfTAoEVK+COd9/ciaiWue9k2GfvuX\\\n",
       "vteMH/b4ZYqEwt66Jp4v2sZ1aaMYOjCazZUHyH5pHYcOO94v3Ut902H279rKI3cfe8L/fOaTlZV1\\\n",
       "wi2w69JGtXnt7dQCi0Tt1z3saN+l3/VNXt6x0hdeQ8/27e83EEZ/wff+UJ1vUnPTAV/rLXGc795Z\\\n",
       "8DEsga7HTnRBinjI8brqnlpeys9f/YRHC0t47O3N/CR/He+WVPF+6V4uHTuM3du3cN+3/4WdFV0/\\\n",
       "4X/owGi+Of1shg7UQ+lBLbDea2CCL4xWPgYYTPoarHsBcOD8gTT2cigr9C03tebpI6EYaM1dkAXR\\\n",
       "scde4V7Eg/bWNfG9xWso2FjJ4qJt5H09jbMTBwVbXg2HfCN2P9pey/ule5lwxiBiovrQ2NzC+HjH\\\n",
       "w3fcyuEDewGCcyMLKaSGGuYzn3TSj5rwr8FPJ8eci8ynjqSlpbmioqJQV8MbAqMUm+p9E5un/wCi\\\n",
       "Bx4JpjVP+9531KIT8bD23YEAC97YyINvlgRD6dKxw5h6ZhzvbNrDB1trSBk6gK3VDUT1MZoOH/n9\\\n",
       "GdUHFn/zYv702AP86uc/bfPv9B00lInXf59df3mIXTsr2uwLt2knZrbaOZcW6np0hroQe5NjDboI\\\n",
       "DPrA+boHL/jmkUepwLG7I0U8rqNBEQ1NvhZWY3MLMVF9GNS/Lw++WcIHW2sAKNvbQIujTXgBNLfA\\\n",
       "v+Yt56U+FzPkkhuD5YnDRzDttt9SmziZi//zd5rw34XUhdgbBFtY/kEXcKQbENoO+hiY4Ds+/1tH\\\n",
       "HnDZ+liRCDJjwnBWbKlixoThgK9F9nHFvuD+xuYWXlu/q9PnazwM0EL8pTcB0LLhTW7/zR+Y9cWp\\\n",
       "PPTWJn48awKHr/XNE5s7d67C6xQpwHqDQAtr+j2tBmC00vq+VuD4Ta/7Bnno/pZEsGUf76JgYyUX\\\n",
       "nrWLs6cP4vmibbxbsifYfQhwojdZzP+ZuEtvYkrmv/HkuoMMH7WXRXMu8B2QqAn/XUUB1hu0b2F1\\\n",
       "9fEiHtV+WPp1aaNYsaWKgo2VbUKsM/oa3HThmWSeO5I7F6+hrKqevYf7k/XFM44a9q7w6hoaxBFp\\\n",
       "At2FCh+Rk7K3ron/fPYD3i05cq84qo/R3OLoY9Di4PxRQ/hoey2B22CnxfTlqTlf4Pwz44PnuO7R\\\n",
       "5WyurCPjnMQjrS8P0CAOCZ32q3CIyAkZOjCaqWcOBeALY4Yy78vjeG3+l8g4J5EWf2DF9o/i9st8\\\n",
       "y6ldOnYYb991WTC8AufI+3oaGeck8uNZE3r8GnoLdSFGmvarcIjICbvl4hRio/u2GV7/f68/l0ff\\\n",
       "3sz6HbXkXjOJ+Njoo45p7ezEQZ5qeXmRuhBFRCRIXYgiIiLdTAEmIiKeFFYBZmYxZrbSzD4ys/Vm\\\n",
       "lusvH2Nm75tZiZn9ycy0kqWISC8XVgEGHAQuc85NAc4FrjSzC4FfAgucc2OBauDW0FVRRETCQVgF\\\n",
       "mPM54N/s5/9ywGXAC/7yp4DMnq+diIiEk7AKMAAz62tma4DdwBvAZqDGOdfsP2Q7MDJE1RMRkTAR\\\n",
       "dgHmnDvsnDsXSAYuAMZ39rNmlmVmRWZWVFlZ2V1V7DHN1dVUPfEEzdXVoa6KiEjYCbsAC3DO1QAF\\\n",
       "wEVAnJkFJl0nAzuO8Zk851yacy4tMTGxZyp6Aqqqqk6ovHbJEnb/+jfULlnSndUSEfGksAowM0s0\\\n",
       "szj/+wHAV4AN+ILsa/7DbgFeCkkFT0FOTg6TJ08+6vHhxcXFTJ48ucPHKgyZPZvT7/o+Q2bP7qFa\\\n",
       "ioh4R1gFGDACKDCztcAq4A3n3CvAD4A7zawESACe6InKdFUXXk5ODrm5ucHHhwdCrLi4mIyMDMrL\\\n",
       "y8nNzT0qxKLi40m49Vai4uM7OKuISO8WVmshOufWAud1UL4F3/2wHhXowgNIuPXkRu4HwisgEGJ5\\\n",
       "eXlkZWVRXl4e3Bc4Tg+5ExH5bOHWAgsrp9qFV1VVxcKFC9uUZZJJfXk9s2bNor68nsx2MwIWLlx4\\\n",
       "zHtiIiJyhALsOE61Cy8hIYGCggKSkpIAX3jNYx4LWEAKKSxgAfOYFwyxpKQkCgoK9LA7EZFOUIB1\\\n",
       "s9TU1GCIFVJIGWWkkMIiFpFCCmWUUUhhMLxSU1NDXWUREU9QgHWD9oM/UlNTycvLo4Yacsltc2wu\\\n",
       "udRQQ15ensJLROQEKMBOQHN1NZUPPUTlQ7/nYGlp8H37UYrt528VFxeTlZVFHHFkk93m2GyyiSOO\\\n",
       "rKyso4bYi4jIsYXVKMRwV7tkCXse/m8A6laupGHVKgBaGhpo+MdacDDi/9zHoMsuo27lSgZMncr7\\\n",
       "99/P7Icfpryigkwyg92GueSSTTYppJBOOvnl+WRkZKgbUUSkkxRgndBcXU3tkiUMmDqV2IsuInrM\\\n",
       "GA4UFPh29u9P3cqVHFy3DoBtt93GkKuuou7tv7Fr82aufvttdjf7lnHMJx+AQgqpoYb5zPeFl788\\\n",
       "MMR+7dq1GsghIvIZ1IXYCYEuwcrf/Y76995j/7I3aK6o8O08eJCDrbr+Dm0ppfqFF+kzfDiDtu/g\\\n",
       "+uRRbc6VTz6xSbG88sorxCbFBsMrYO7cuQovEZFOUAvsOAItr0GXXebb3ruX+uXvcXh3u4WCm5ra\\\n",
       "bB7etSv4/jv9+9NnwkR+9/F6gDajDQsKCoIrcQBkZ2drErOISCcpwI6j/UoczdXVtDQ2UrP4eTh0\\\n",
       "qNPn+dbhw/Q5/3wWV1S0ucfVOsTmzp2r8BIROQEKsHaaq6upfvoZwDF41iwABl12Gbt+9Wsa1q7l\\\n",
       "0M6dJxReADZwIFl1ddx4zjkk19dT9cQTDJk9m6j4eFJTU3XPS0TkJCjA2vGNNHwYgD6xsSTceitV\\\n",
       "TzzB3iefPOlzuro6AE6r2Mm2b32blpoaWuobSLzjdgCFl4jISVCAtTNk9mxa6hsAF1wDccjs2TRX\\\n",
       "7aX6hRdw+/YdOTgmBhobjz6JmW9fQ0OwqO/w4VhUFM07fI8yC0x2DrTERETkxGgUYjtR8fEk3nE7\\\n",
       "iXfcEQyWqPh4ht99F6PzHoPo6OCxsee3XTh/8OzZDJz+JXCOfqcnEvev/8qAaWmAb2BHv6QR9E0e\\\n",
       "CUBTaakeVikicgrUAvsMgZGIQ2bPpmH1amhqot+ZozntyzOIu+5r7HtlKS0NDfQZEEP8zTcDUHbT\\\n",
       "TRzaUsqhlO0k/+53VD/9DPUffED9e+8BMHD6lxh+zz0ceOstPaxSROQkmXMu1HXoFmlpaa6oqOiU\\\n",
       "z1P1xBPs/vVvjgqd43X7HSwtZdcvfsHwe+6h/5gxQNvBIfE336xuQxEJS2a22jmXFup6dIYC7DM0\\\n",
       "V1dTfs891L39N06/6/sn/WBLEREv8FKA6R7YZ4iKjyfpF784pQdbdqT9ivUiInJiFGCdcKoPtuxI\\\n",
       "+xXrRUTkxGgQR4i0HqIvIiInTgEWIoFWnYiInBx1IYqIiCcpwERExJPCKsDMbJSZFZjZx2a23szm\\\n",
       "+cuHmtkbZrbJ/6pJVCIivVxYBRjQDHzPOTcBuBC4zcwmAPcAbzrnxgFv+rdFRKQXC6sAc85VOOc+\\\n",
       "8L/fD2wARgLXAE/5D3sKyAxJBUVEJGyEVYC1ZmYpwHnA+8Bw51yFf9dOYHio6iUiIuEhLAPMzAYB\\\n",
       "LwLfdc7ta73P+da+6nD9KzPLMrMiMyuqrKzsgZqKiEiohF2AmVk/fOH1jHMusEzFLjMb4d8/Atjd\\\n",
       "0Wedc3nOuTTnXFpiYmLPVFhEREIirALMzAx4AtjgnHug1a6XgVv8728BXurpuomISHgJt5U4LgH+\\\n",
       "DfiHma3xl/0Q+AWw2MxuBT4Frg9N9UREJFyEVYA5594F7Bi7v9yTdRERkfAWVl2IIiIinaUAExER\\\n",
       "T1KAiYiIJynARETEkxRgEa66sZpF6xZR3Vgd6qqIiHQpBViEyy/J54HVD5Bfkt/pzyj0RMQLwmoY\\\n",
       "vXS9zLGZbV47IxB6AHMmzfnM46uqqkhISOh0uYhIV1ALLMLFx8QzZ9Ic4mM6/wi1zLGZ3Dn1zk6F\\\n",
       "Xk5ODpMnT6a4uLhNeXFxMZMnTyYnJ+cEaywi0jkKMDlKZ0MvJyeH3NxcysvLycjICIZYcXExGRkZ\\\n",
       "lJeXk5ubqxAT6UJVVVUnVB7JFGByUgLhFRAIsaVLlwbDK0AhJtI11OPRjnMuIr+mTp3qpHvs2bPH\\\n",
       "JSUlBR5r4wCXSaaLI84BLo44l0lmm/1JSUluz549oa66iGdlZ2e3+XnauHGjc865jRs3tvl5zM7O\\\n",
       "PqV/ByhyYfA7vDNfaoHJCUtISKCgoICkpCQAMslkHvNYwAJSSGEBC5jHPDL9D85OSkqioKBAAzpE\\\n",
       "TpJ6PDqmAJPjOtaQ+tTU1GCIFVJIGWWkkMIiFpFCCmWUUUhhMLxSU1NDdAUi3lC/r5ZVL79I/b7a\\\n",
       "NuVVVVUsXLiwTVkmmdSX1zNr1izqy+uDfywGLFy4sFfcE1OAyXE9+8mzPLD6AZ5c9+RRQZaamkpe\\\n",
       "Xh411JBLbpvP5ZJLDTXk5eUpvEQ6YX3hMv72zCLWFy5rUz6gXxQP/vgeRowYAajHozUFmBxXILD+\\\n",
       "WvrX4ITo0tpSvrPsO7y5+k2ysrKII45sstt8Lpts4ojj5m/czKp/rApF1UU8o35fLU0HG7no2huZ\\\n",
       "mD6jTWtsfeEyPi18jd/9173q8WhHAdbLddRFGAiod7e/y19K/wLAzvqdpA1PY/mO5dz33n0sW72M\\\n",
       "mZfPpLy8nHTSgz9Ec5gT/OFKJ52a3TVcPuPyo0ZNifRW9ftq+fvzz1D49JMsX/xMMKRWvPAs/WJi\\\n",
       "APjrfy8ItsYmps/gSzfN4as3fV09Hu1oJY5eqLqxmvySfDLHZna46sbPVvyMFTtX8H75+zS5JgD6\\\n",
       "9enH1v1b2V2/G3fAsfWXWzlYfRCAfPIBKKSQGmqYz3zSSQ+W1+yuISMjg7Vr1/aKbg0RIBhME9Nn\\\n",
       "EDt4SLA8EFYB/WJimJg+A4CJ6TNY9dKLlH5YxIhx4znU2EjD/v0AbCopOW6Px3zmk5WVpRaYRLbW\\\n",
       "6yO2XnWjtLaUua/NZXf9boBgeAEcajnE7vrd9KEPNsg4/bLT256TfGKTYnluyXNw+pFQC5g7d67C\\\n",
       "S3qVY93Tmpg+g9GfPxeAEePGs2nle/z5V/dRX+sbvFGx2ddbUVdTzXsvPsvbf3ycFx99iK985fLP\\\n",
       "7PFov6hApDPfsP/Ik5aW5oqKikJdjbBT3VjNs5/4/vq7cfyNgC/Q0kelc/uy29l6YOsxP5sQk8AX\\\n",
       "RnyBd7e/y5dHf5mDfz3Ir+7/FQBxp8fx+rLXWWfr+PnSn1P5QCU1u2sAyM7O7jXDekUC2rfAWm83\\\n",
       "7N/Pa4/8ll2lm2lpPhT8zODTh9Pc2Ej9vlrOuXg6w8ecxYDTk5h+xRXs3bc/eFwmmcEejzji2vR4\\\n",
       "gG8gx8n2eJjZaudc2ildfA9RgPUyi9Yt4oHVD/DtKd9mQNQAGpobeOSjRxg5cCQ76nZ06hwDowZS\\\n",
       "11zH6NNGM3blWP6w6A8k3pnIjKkzuGvaXRRuK2SSm0TmlZnMnTtX4SUCrHr5Rf72zCIuuvZGdm7Z\\\n",
       "ROmHn/H7qU9f+sfEMDjxdJ5e+hpvfLypze6kpCTy8vLIyspqMw8MTu2PRi8FmO6B9TKBBXobmht4\\\n",
       "YPUD3HDODcRFx3U6vADqmusA2Lp/K0yDN7/5Jo9vfpx3drzDtDOmBe+l6Z6XiE/Vju2UffQhUy6f\\\n",
       "ydb1/2DHJ+uIT0qmumKHb/0MOmhItBzmYH0dlZ+WcsWkVM44exx//F/foKrWow0LCgraTGbuTT0e\\\n",
       "CrBeJrBQb2ltKev2rGNTzSZqmmpO+DyD+g3iwKEDbD2wlcc3P85d0+5i2hnTyByb2WaQiIjA2398\\\n",
       "nK3r1rB/7x6qy7cDULNrJ3SyB8z69OHyiWexc/M4Pqyo5O7r/omK998l+YzhbUKst/V4hF2AmdmT\\\n",
       "wCxgt3Nukr9sKPAnIAUoA653zulpi6egcFsh7+x4hxvOuYGS6hJqm2o/8zMAw2OH079vf+694F7W\\\n",
       "7lnLyp0reWfHO0waNonvnPsd4Eg3JXTueWIikab1/S6AocmjOXyomYuvv5nli59m67o1uMPNnT6f\\\n",
       "a2lh15YSrv/ydK7rH8u+rZspemU7sUOGMO3qa0lNTe2VPR7hOArxf4Ar25XdA7zpnBsHvOnfllMQ\\\n",
       "GH0YHxNPbVMtIweNZHjscAD6Wb/gcbF9YxkfPz64nTwoma37t7KpZhM3jr+Rfn36HfPcaoFJb9V6\\\n",
       "BOL6wmWs/t8lpEw5j5HnjGfmvLuIOyPppM5bu6uCcVOmMPrzU5hy+UwO+Qd8AL0uvCAMW2DOub+Z\\\n",
       "WUq74muAdP/7p4BC4Ac9V6vIE+hKrG6sZt2edbyz4x0AxgweQ+m+Ui4ccSHjh47nk72fsKJiBQCj\\\n",
       "B41m/tT5/L387zQ0N/DkuidZUbGCC0dcyFVjrmLRukVkjs0Mnlukt2o9r6th/362ffwPks6ZyKqX\\\n",
       "X2Ri+gwy7/4Jby16lMPNh9ixYf1xzmSAo2+/aMZfMp3BCcM455LpbFn9PocaG3nvRd/k52lXX9sj\\\n",
       "1xVuwi7AjmG4c67C/34nMDyUlfGy1ven4mPiiY+J5/5L7w8Orb9qzFUUbisMTnJeUbGC0aeNJnFA\\\n",
       "Iqt3r+axtY8xadgkHvnoES4ccSEA551+HoXbCtVtKOIXO3hIMFTWFy4LjjgMvE67+lqu+/FPqd9X\\\n",
       "y4s/y2Z3aclR54hPSqa6fDvxSclc8/0fkzAyGTgymvHCr93Il26aEwzL3sgrARbknHNm1uGdTzPL\\\n",
       "ArIARo8e3aP18oqOVt6Ij4kP3r8CGDNkDODrCly1cxXv7HiHmWfNJLZfbPB+151T7yR9VHow7ALU\\\n",
       "bSjSViBgzpr6BUZN+HxwrcPAPbKzpk5jd2kJg08fzr7duxj5uYmMmjiZ8Rf7WlqBzwdab61bd61X\\\n",
       "+OiNvBJgu8xshHOuwsxGALs7Osg5lwfkgW8eWE9W0CvSR6Wzaucq0kelf+axgdZZ6xGFrVtvcCTs\\\n",
       "QC0vkY60bo21b0UBnHfFLKL7x3DW1C8EAysQTB0dP+3qa3ttl2F7Xgmwl4FbgF/4X18KbXW8KzD6\\\n",
       "cNoZ09qEz7G0v5+lkBI5de1bUe0D7njHyxFhtxKHmT2Lb8DGMGAXkA3kA4uB0cCn+IbR7z3eebQS\\\n",
       "R8fa3wMTEWnNSytxhF2AdRUFmIicrGOtJN8beCnAwnEemIhISB1rJXkJL165ByYi0mN0z8kbFGAi\\\n",
       "Iu20Hlgh4UtdiCIi4kkKMBER8SQFmIiIeJICTEREPEkBJiIinqQAExERT1KAiYiIJynARETEkxRg\\\n",
       "IiLiSQowERHxJAWYiIh4kgJMREQ8SQEmIiKepAATERFPUoCJiIgnKcBERMSTFGAiIuJJCjAREfEk\\\n",
       "BZiIiHiSZwLMzK40s41mVmJm94S6PiIiElqeCDAz6ws8DFwFTABuNLMJoa2ViIiEkicCDLgAKHHO\\\n",
       "bXHONQHPAdeEuE4iIhJCXgmwkcC2Vtvb/WUiItJLeSXAOsXMssysyMyKKisrQ10dERHpRl4JsB3A\\\n",
       "qFbbyf6yNpxzec65NOdcWmJiYo9VTkREep5XAmwVMM7MxphZNHAD8HKI6yQiIiEUFeoKdIZzrtnM\\\n",
       "bgdeA/oCTzrn1oe4WiIiEkKeCDAA59xfgL+Euh4iIhIevNKFKCIi0oYCTEREPEkBJiIinqQAExER\\\n",
       "T1KAiYiIJynARETEkxRgIiLiSQowERHxJAWYiIh4kgJMREQ8SQEmIiKepAATERFPUoCJiIgnKcBE\\\n",
       "RMSTFGAiIuJJCjAREfEkBZiIiHiSAkxERDxJASYiIp6kABMREU9SgImIiCcpwERExJMUYCIi4klh\\\n",
       "E2Bmdp2ZrTezFjNLa7fvXjMrMbONZnZFqOooIiLhIyrUFWhlHTAbeKx1oZlNAG4AJgJJwDIzS3XO\\\n",
       "He75KoqISLgImxaYc26Dc25jB7uuAZ5zzh10zpUCJcAFPVs7EREJN2ETYMcxEtjWanu7v0xERHqx\\\n",
       "Hu1CNLNlwBkd7PqRc+6lLjh/FpAFMHr06FM9nYiIhLEeDTDn3IyT+NgOYFSr7WR/WUfnzwPyANLS\\\n",
       "0txJ/FsiIuIRXuhCfBm4wcz6m9kYYBywMsR1EhGREAubADOzfzaz7cBFwFIzew3AObceWAx8DPwV\\\n",
       "uE0jEEVEJGyG0Tvn/gz8+Rj77gfu79kaiYhIOAubFpiIiMiJUICJiIgnKcBERMSTFGAiIuJJCjAR\\\n",
       "EfEkBZiIiHiSAkxERDxJASYiIp6kABMREU9SgImIiCcpwERExJMUYCIi4kkKMBER8SQFmIiIeJIC\\\n",
       "TEREPEkBJiLiQVVVVSdUHokUYCIiHpOTk8PkyZMpLi5uU15cXMzkyZPJyckJTcV6mAJMRMRDcnJy\\\n",
       "yM3Npby8nIyMjGCIFRcXk5GRQXl5Obm5ub0ixBRgIiIeEQivgECILV26NBheAb0hxBRgIiIeUFVV\\\n",
       "xcKFC9uUZZJJfXk9s2bNor68nkwy2+xfuHBhRN8TU4CJiHhAQkICBQUFjBiRBPjCax7zWMACUkhh\\\n",
       "AQuYx7xgiCUlJVFQUEBCQkIIa929FGAiIj2g4UATH7z+KQ0Hmk5oX2upqakUFhaQlJREIYWUUUYK\\\n",
       "KSxiESmkUEYZhRSSmDCcgoICUlNTu+tywkLYBJiZ/drMPjGztWb2ZzOLa7XvXjMrMbONZnZFCKsp\\\n",
       "InJSNiyv4L0lm9mwvKJNecOBJl599B+8t2Qzq1/7NFj2weufUrGlhv/9/Rqqd9UFjx+VlMLd3/op\\\n",
       "NdSQS26bc+WSSw01PProoxEfXgDmnAt1HQAws8uBt5xzzWb2SwDn3A/MbALwLHABkAQsA1Kdc4eP\\\n",
       "d760tDRXVFTU3dUWEemUhgNNbFhewZgpwyj9aA9jpgxj08pdlG+uYccnNQAMHhbDrDum8O7zm9i6\\\n",
       "bi8xg6JoPNDM6ElD+afbzwXgz08WMOeO67D6w8Huw4AyypjPfGKTYk+6BWZmq51zaV1wyd0ubFpg\\\n",
       "zrnXnXPN/s0VQLL//TXAc865g865UqAEX5iJiISt9t2CAwZFc/7lZ1K8chfvLdnMK7//iFVLy9jx\\\n",
       "SQ1RMb5fxfv2NLL092vZum4v0QP60nigmegBffl8ejIfvP4paz9cx20/vpna+irSSQ92G85hTrA7\\\n",
       "MZ30o4bYR6qoUFfgGL4B/Mn/fiS+QAvY7i8TEQlbgS5DgPMvPxPwhdrOzbUA7KtsJHl8PA4XbIEB\\\n",
       "1FY2ED2gL00Nvk6mpobD/OWRteyvq+XXL32LqprdAOSTD0AhhdRQw3zmk056sDwQYmvXro3YgRw9\\\n",
       "2gIzs2Vmtq6Dr2taHfMjoBl45iTOn2VmRWZWVFlZ2ZVVFxE5IZ+7eAQXzT6bz108Ili2YXkF2z+p\\\n",
       "Jnl8PFO+MopBQ6Op3dVw1GcD4RXgDsOgmCFccPaVbcrzycfF9uV7N/yaAWcMCIZXwNy5cyM2vKCH\\\n",
       "W2DOuRnH229m/w7MAr7sjtyc2wGManVYsr+so/PnAXnguwd2qvUVETlZgS7D1gJhNmLsEJYt+ph9\\\n",
       "lY0ndM6ZabcA8OrqPwAwJDaBu/7lQeKiR/Dw/c9w+3/dHJzM/MN7fxzxE5nDpgvRzK4E7gamO+fq\\\n",
       "W+16Gfh/ZvYAvkEc44CVIaiiiMgpGTAoms9dPIIlv14dDK8+UUZLc+f/3p49/VYAlm9Yyo9ueZj/\\\n",
       "yJ5F6Ud7+NzFIyi4tIBLL/4SaSlXcG36f3TLNYSTsAkw4PdAf+ANMwNY4Zz7lnNuvZktBj7G17V4\\\n",
       "22eNQBQRCVcblldQs6uBwYkxJIwcROlHe07o81HRfZiZdguzvngDUy4dS8zAfsGWXmpqKh+s/pDd\\\n",
       "G5vadF1GqrAJMOfc2OPsux+4vwerIyLSLQLBMmbKMBbfvwo60fg6LaE/I8+J55PlO6mrbmL0pKEM\\\n",
       "P3Mwq5aWMeC0tl2VyWeOIPnM45wsgoRNgImI9AaBe2MfvP4pzU0t9OlrtBw+kmJDk2Kpq2niYH0z\\\n",
       "ffsZhw859lcdpHxTDQAjx8cx498nABDVv2+vaGkdiwJMRKSHBCYzf+7iEW1aYh+/W86mol3UVTcx\\\n",
       "amICU684Mzjp+eN3y9myppJ9lY2MnjSUGf8+gQGDoj9z2aneQAEmItJD2s8NC3T9XXLtOPpF92XV\\\n",
       "0jKio/u2GcE44LToNuEF+FpvBw+zamlZ8Fy9kQJMRKSHBFpdHXX7fT4jucMuwdafGTAomg9e/5T3\\\n",
       "lmwmbWbKUfPMepuwWQuxq2ktRBGJRK27IQcMiu7y83tpLUS1wEREPKSjCdK9Vdgs5isiInIiFGAi\\\n",
       "IuJJCjAREfEkBZiIiHiSAkxERDxJASYiIp6kABMREU+K2InMZlYJfBrqehzHMODEnqPgTbrOyNEb\\\n",
       "rhF0nWc65xJ7ujInI2IDLNyZWZFXZrufCl1n5OgN1wi6Ti9RF6KIiHiSAkxERDxJARY6eaGuQA/R\\\n",
       "dUaO3nCNoOv0DN0DExERT1ILTEREPEkB1sPM7DozW29mLWaW1m7fvWZWYmYbzeyKUNWxK5jZlf7r\\\n",
       "KDGze0Jdn65iZk+a2W4zW9eqbKiZvWFmm/yv8aGsY1cws1FmVmBmH/u/X+f5yyPmWs0sxsxWmtlH\\\n",
       "/mvM9ZePMbP3/d+7fzKzrn/oVgiYWV8z+9DMXvFve/46FWA9bx0wG/hb60IzmwDcAEwErgT+28z6\\\n",
       "9nz1Tp2/3g8DVwETgBv91xcJ/gff/09r9wBvOufGAW/6t72uGfiec24CcCFwm///MJKu9SBwmXNu\\\n",
       "CnAucKWZXQj8EljgnBsLVAO3hq6KXWoesKHVtuevUwHWw5xzG5xzGzvYdQ3wnHPuoHOuFCgBLujZ\\\n",
       "2nWZC4AS59wW51wT8By+6/M859zfgL3tiq8BnvK/fwrI7Mk6dQfnXIVz7gP/+/34fvGNJIKu1fkc\\\n",
       "8G/283854DLgBX+5p68xwMySgZnA4/5tIwKuUwEWPkYC21ptb/eXeVEkXUtnDHfOVfjf7wSGh7Iy\\\n",
       "Xc3MUoDzgPeJsGv1d6utAXYDbwCbgRrnXLP/kEj53v0tcDfQ4t9OIAKuUwHWDcxsmZmt6+ArIloh\\\n",
       "cmzON6w3Yob2mtkg4EXgu865fa33RcK1OucOO+fOBZLx9RyMD22Nup6ZzQJ2O+dWh7ouXS0q1BWI\\\n",
       "RM65GSfxsR3AqFbbyf4yL4qka+mMXWY2wjlXYWYj8P0173lm1g9feD3jnFviL47Ia3XO1ZhZAXAR\\\n",
       "EGdmUf7WSSR8714CXG1mXwVigMHAg0TAdaoFFj5eBm4ws/5mNgYYB6wMcZ1O1ipgnH+UUzS+wSkv\\\n",
       "h7hO3ell4Bb/+1uAl0JYly7hv0fyBLDBOfdAq10Rc61mlmhmcf73A4Cv4LvXVwB8zX+Yp68RwDl3\\\n",
       "r3Mu2TmXgu9n8S3n3E1EwHVqInMPM7N/Bh4CEoEaYI1z7gr/vh8B38A3Auy7zrlXQ1XPU+X/a++3\\\n",
       "QF/gSefc/aGtUdcws2eBdHwree8CsoF8YDEwGt8TEK53zrUf6OEpZnYp8A7wD47cN/khvvtgEXGt\\\n",
       "ZjYZ3+CFvvj+mF/snLvPzM7CN/BoKPAhcLNz7mDoatp1zCwd+L5zblYkXKcCTEREPEldiCIi4kkK\\\n",
       "MBER8SQFmIiIeJICTEREPEkBJiIinqQAExERT1KAiYiIJynARETEkxRgIiLiSQowERHxJAWYiIh4\\\n",
       "kgJMREQ8SQEmIiKepAATERFPUoCJiIgnKcBERMSTFGAiIuJJCjAREfEkBZiIiHiSAkxERDzp/wNk\\\n",
       "4xrB4AJFXAAAAABJRU5ErkJggg==\\\n",
       "\"\n",
       "  frames[2] = \"data:image/png;base64,iVBORw0KGgoAAAANSUhEUgAAAbAAAAEgCAYAAADVKCZpAAAAOXRFWHRTb2Z0d2FyZQBNYXRwbG90\\\n",
       "bGliIHZlcnNpb24zLjUuMiwgaHR0cHM6Ly9tYXRwbG90bGliLm9yZy8qNh9FAAAACXBIWXMAAAsT\\\n",
       "AAALEwEAmpwYAAAZI0lEQVR4nO3df3Dkd33f8ee7PgwIhsgWN67XZyq3tiCGKKYWHigMSGAPDr7B\\\n",
       "CgXGTJJxDSM1MzBzGDqA4+mslAwUEsqRaRwaKcY1UxKbEnP2nJMmNpFKaQtGBnPBOLcc5ii2DD6v\\\n",
       "LX4pMT3z7h9aydo7Cd+dT/ruZ/V8zOzcfj+fr/benzntvfb7+X6+343MRJKk0vyTqguQJOlEGGCS\\\n",
       "pCIZYJKkIhlgkqQiGWCSpCIZYJKkIhlgkqQiGWCSpCIZYJKkIhlgkqQiGWCSpCIZYJKkIhlgkqQi\\\n",
       "GWCSpCIZYJKkIhlgkqQiGWCSpCIZYJKkIhlgkqQiGWCSpCIZYJKkIhlgkqQiGWCSpCIZYJKkIhlg\\\n",
       "kqQiGWCSpCIZYJKkIhlgkqQiGWCSpCIZYJKkIhlgkqQiGWCSpCIZYJKkIhlgkqQibau6gI3y/Oc/\\\n",
       "P/v7+6suQ5KKcvfddz+SmdurruNYdG2A9ff3Mzc3V3UZklSUiPhu1TUcK6cQdZRms3lc7ZJUhY4M\\\n",
       "sIg4JSK+FhF7W9vnRMSXI+JARNwcEadWXWO3mpiYYHBwkEaj0dbeaDQYHBxkYmKimsIk6QgdGWDA\\\n",
       "LuC+VdsfAXZn5rnAY8A7Kqmqy01MTDA5Ocn8/DwjIyMrIdZoNBgZGWF+fp7JyUlDTFJH6LgAi4gd\\\n",
       "wGXAn7a2A3gt8NnWLjcCo5UU18WWw2vZcojdfvvtK+G1zBCT1Ak6LsCAjwPvA37e2u4DFjLzcGv7\\\n",
       "AeCsCurqWs1mk+np6ba2UUZZnF9k586dLM4vMnrEZ4bp6WnPiUmqVEcFWETsBB7OzLtP8OfHI2Iu\\\n",
       "IuYOHTp0kqvrXn19fczMzFCr1YCl8NrFLnazm3762c1udrFrJcRqtRozMzP09fVVWLWkra6jAgx4\\\n",
       "JfDGiDgI3MTS1OEfAr0Rsbzkfwfw4Fo/nJlTmTmUmUPbtxdxGUPHGBgYWAmxWWY5yEH66ecGbqCf\\\n",
       "fg5ykFlmV8JrYGCg6pIlbXEdFWCZeU1m7sjMfuAK4G8z8zeAGeDNrd2uBG6tqMSuNjAwwNTUFAss\\\n",
       "MMlkW98kkyywwNTUlOElqSN0VID9Au8H3hMRB1g6J3Z9xfV0pUajwfj4OL30Uqfe1lenTi+9jI+P\\\n",
       "H7XEXpKq0LEBlpmzmbmz9fz+zLwoM8/NzLdk5uNV19dtVi+VH2Z4ZdrwKq5amU4cZvioJfaSVJXI\\\n",
       "zKpr2BBDQ0PpraSOTbPZZHBwsG2p/CijzDLLAgv00ssww+xhz0p/rVZj3759LuSQukxE3J2ZQ1XX\\\n",
       "cSw69ghMm6evr4+xsbG2tj3soafWw969e+mp9bSFF8DY2JjhJR0jb8+2MQywreKnTZj5DzDzoaXn\\\n",
       "R5iYmKBef/K81/Jqw8suu6xtiT1AvV73QmbpGHl7tg2UmV35uPDCC1Or7H1vZv15Tz7WUa/Xs1ar\\\n",
       "5f79+9va9+/fn7VaLev1+gYXKnWPer2eQAJt76vl99NyXye9r4C57ID/w4/l4TmwreL3z4XFVRd3\\\n",
       "T/xw3V2bzeaa04PrtUs62pG3Z4OlmY2pqSnGx8fbzjlD58xseA5MnefxHx3zruuFlOElHRtvz7Y5\\\n",
       "DLCt4pcvr7oCacvw9mybwynEreKnTbjnv8IFvwnP8U0ibYbl6ysX5xdXwmvZQQ5yNVfTU+vpqNuz\\\n",
       "OYWozvOcPnjlLsNL2kTenm1jGWCStEG8PdvGMsAkaQN4e7aN5zkwSTrJSr49m+fAJGkLefSnP+NP\\\n",
       "/se3efSnPwO8Pdtm2fbUu0iSVnv0pz/jX/7eHWv2/dvX/AuAlYuSly9mXv1lsDMzMyvTi9A5FzGX\\\n",
       "xgCTpOP03+a+d1TbyAu385ahs9valkNpenq6ban86hAbGxszvE6Q58Ak6TitdQT21X9/Cac/59Q1\\\n",
       "9y/p9mwlnQPzCEySjtPpzzmVgx++7Jj39/ZsG8NFHJKkIhlgkqQiGWCSpCIZYJKkIhlgkqQiGWCS\\\n",
       "pCIZYJKkInVUgEXEsyLiroj4ekTcGxGTrfZzIuLLEXEgIm6OiLWvFpQkbRkdFWDA48BrM/NXgQuA\\\n",
       "SyPi5cBHgN2ZeS7wGPCO6kqUJHWCjgqwXPKT1uYzWo8EXgt8ttV+IzC6+dVJkjpJRwUYQEScEhH3\\\n",
       "AA8DdwDfBhYy83BrlweAsyoqT5LUITouwDLzicy8ANgBXAS86Fh/NiLGI2IuIuYOHTq0USVKkjpA\\\n",
       "xwXYssxcAGaAVwC9EbF84+EdwIPr/MxUZg5l5tD27ds3vMZms3lc7ZKkk6ejAiwitkdEb+v5s4FL\\\n",
       "gPtYCrI3t3a7Eri1kgJXmZiYYHBwkEaj0dbeaDQYHBz0+30kaYN1VIABZwIzEbEP+ApwR2buBd4P\\\n",
       "vCciDgB9wPUV1sjExASTk5PMz88zMjKyEmKNRmPlW1YnJycNMUnaQB31fWCZuQ946Rrt97N0Pqxy\\\n",
       "y+G1bDnEpqamGB8fX/mKcHjyq8QNMkk6+TrtCKyjNZtNpqen29pGGWVxfpGdO3eyOL/I6BEr/Ken\\\n",
       "pz0nJkkbwAA7Dn19fczMzFCr1YCl8NrFLnazm3762c1udrFrJcRqtRozMzN+66okbQAD7DgNDAys\\\n",
       "hNgssxzkIP30cwM30E8/BznILLMr4TUwMFB1yZLUlQywEzAwMMDU1BQLLDDJZFvfJJMssMDU1JTh\\\n",
       "JUkbyAA7AY1Gg/HxcXrppU69ra9OnV56GR8fP2qJvSTp5DHAjtPqpfLDDK9MG17FVSvTicMMH7XE\\\n",
       "XpJ0ckVmVl3DhhgaGsq5ubmT+prNZpPBwcG2pfKjjDLLLAss0Esvwwyzhz0r/bVajX379rmQQ1IR\\\n",
       "IuLuzByquo5j4RHYUzj82GM0r7+ew489Rl9fH2NjY239e9hDT62HvXv30lPraQsvgLGxMcNLkjaA\\\n",
       "AbaG1aH1w1tu4eE/+Cg/vOUWYOmi5Hr9yfNey6sNL7vssrYl9gD1et2LmCVpgziFeITFe+7hu1e8\\\n",
       "bWX71AsuoPeSi/mlN72JbaedttI+MTHB9PT0UUvll8+RjY2NGV6SilPSFKIBdoQDb3gD/+/+77S1\\\n",
       "/fLf37fmvs1mc83pwfXaJanTlRRgTiEeofahD7VtP/NlL1t33/VCyvCSpI3XUTfz7QQ9F1yw7hGX\\\n",
       "JKlzeAQmSSqSASZJKpIBJkkqkgEmSSqSASZJKpIBJkkqkgEmSSqSASZJKpIBJkkqkgEmSSqSASZJ\\\n",
       "KlJHBVhEnB0RMxHxzYi4NyJ2tdpPj4g7IuJbrT9Pe6rXkiR1t44KMOAw8N7MPB94OfDOiDgf+ADw\\\n",
       "+cw8D/h8a1uStIV1VIBl5kOZ+dXW8x8D9wFnAZcDN7Z2uxEYraRASVLH6KgAWy0i+oGXAl8GzsjM\\\n",
       "h1pd3wfOqKouSVJn6MgAi4jnAn8BvDszf7S6L5e+QnrNr5GOiPGImIuIuUOHDm1CpZKkqnRcgEXE\\\n",
       "M1gKr09n5i2t5h9ExJmt/jOBh9f62cycysyhzBzavn375hQsSapERwVYRARwPXBfZn5sVddtwJWt\\\n",
       "51cCt252bZKkzrKt6gKO8Ergt4C/i4h7Wm2/A3wY+ExEvAP4LvDWasqTJHWKjgqwzPwiEOt0v24z\\\n",
       "a5EkdbaOmkKUJOlYGWCSpCIZYJKkIhlgkqQiGWCSpCIZYJKkIhlgkqQiGWD6hZrN5nG1S9JmMcC0\\\n",
       "romJCQYHB2k0Gm3tjUaDwcFBJiYmqilMkjDAtI6JiQkmJyeZn59nZGRkJcQajQYjIyPMz88zOTlp\\\n",
       "iEkV2uozJAaYjrIcXsuWQ+z2229fCa9lhphUDWdIgMzsyseFF16YOn6PPPJI1mq15e9cSyBHGc1e\\\n",
       "ehPIXnpzlNG2/lqtlo888kjVpUtbRr1eb3v/7d+/PzMz9+/f3/b+rdfrx/3awFx2wP/hx/LwCExt\\\n",
       "+vr6mJmZoVarATDKKLvYxW52008/u9nNLnYxyigAtVqNmZkZ+vr6Kqxa2jqcIXmSAaajDAwMrITY\\\n",
       "LLMc5CD99HMDN9BPPwc5yCyzK+E1MDBQdcnSltBsNpmenm5rG2WUxflFdu7cyeL84sqHy2XT09Nd\\\n",
       "e07MANOaBgYGmJqaYoEFJpls65tkkgUWmJqaMrykTeQMSTsDTGtqNBqMj4/TSy916m19der00sv4\\\n",
       "+PhRJ5AlbSxnSJ5kgOkoq5fKDzO88qa4iqtW3izDDB+1xF7S5nCGZEksLTrpPkNDQzk3N1d1GcVp\\\n",
       "NpsMDg62nQgeZZRZZllggV56GWaYPexZ6a/Vauzbt69rpymkTrP8IXNxfnFl+nDZQQ5yNVfTU+s5\\\n",
       "oSOwiLg7M4dOcskbwiMwtenr62NsbKytbQ976Kn1sHfvXnpqPW3hBTA2NmZ4SZvEGZJVql7Hv1EP\\\n",
       "rwNb36P/8Ghe97Xr8rqvXZeP/sOja+6zkdeZSDoxm3GdJl4Hpk42/jfjfOLrn+ATX/8Er7751Tz2\\\n",
       "j48dtc/ExAT1ev2oE8GrTyDX6/WuvsZE6jTOkLTzHNgW9Cs3/krb9nsufA9XveSqNfdtNptr/vKv\\\n",
       "1y7p6Vv80Q+5d/ZOXjx8MT3P+6Wj+ldfzLz6Q+bq6UXghD5klnQObFvVBWjzbWMbhzm8sj167ui6\\\n",
       "+64XUoaXtDHu/+rdfO4jS5eufOHTN3DF736Us174orZ9lkNpenp6zRmSkZERxsbGun6GxCOwLeiL\\\n",
       "D3yRd33+XTzBE7ym9hr+6JI/qrokactbPuq669bP8o8/+fFK+2m1Hbx9939e82c2YobEI7CnISI+\\\n",
       "CewEHs7Ml7TaTgduBvqBg8BbM/PoEzc6Jq/a8SruufKeqsuQtMq9s3fyhU/fwIuHL+He2TtW2l//\\\n",
       "2+9e92e2+gxJxx2BRcSrgZ8An1oVYL8PPJqZH46IDwCnZeb7f9HreAQmqSRPdd5rs5R0BNZxqxAz\\\n",
       "8wvAo0c0Xw7c2Hp+Ixxxt0pJKlzP836Jl73xX1caXqXpuABbxxmZ+VDr+feBM6osRpJUvVICbEXr\\\n",
       "Qrs15z0jYjwi5iJi7tChQ5tcmSRpM5USYD+IiDMBWn8+vNZOmTmVmUOZObR9+/ZNLVCStLlKCbDb\\\n",
       "gCtbz68Ebq2wFklSB+i4AIuIPwf+D/DCiHggIt4BfBi4JCK+BVzc2pYkbWEddx1YZr5tna7XbWoh\\\n",
       "kqSO1nFHYJIkHQsDTJJUJANMklQkA0ySVCQDTJJUJANMklQkA0ySVCQDTJJUJANMklQkA0ySVCQD\\\n",
       "TJJUJANMklQkA0ySVCQDTJJUJANMklQkA0ySVCQDTJJUJANMklQkA0ySVCQDTJJUJANMklQkA0yS\\\n",
       "VCQDTJJUJANMklSkYgIsIi6NiP0RcSAiPlB1PZKkahURYBFxCnAd8GvA+cDbIuL8aquSJFWpiAAD\\\n",
       "LgIOZOb9mfkz4Cbg8oprkiRVqJQAOwv43qrtB1ptkqQtqpQAOyYRMR4RcxExd+jQoarLkSRtoFIC\\\n",
       "7EHg7FXbO1ptbTJzKjOHMnNo+/btm1acJGnzlRJgXwHOi4hzIuJU4ArgtoprkiRVaFvVBRyLzDwc\\\n",
       "Ee8C/ho4BfhkZt5bcVmSpAoVEWAAmfmXwF9WXYckqTOUMoUoSVIbA0ySVCQDTJJUJANMklQkA0yS\\\n",
       "VCQDTJJUJANMklQkA0ySVCQDTJJUJANMklQkA0ySVCQDTJJUJANMklQkA0ySVCQDTJJUJANMklQk\\\n",
       "A0ySVCQDTJJUJANMklQkA0ySVCQDTJJUJANMklQkA0ySVCQDTJJUpI4JsIh4S0TcGxE/j4ihI/qu\\\n",
       "iYgDEbE/Il5fVY2SpM6xreoCVvkG8CbgT1Y3RsT5wBXAi4EacGdEDGTmE5tfoiSpU3TMEVhm3peZ\\\n",
       "+9fouhy4KTMfz8zvAAeAiza3OklSp+mYAPsFzgK+t2r7gVabJGkL29QpxIi4E/ina3Rdm5m3noTX\\\n",
       "HwfGAV7wghc83ZeTJHWwTQ2wzLz4BH7sQeDsVds7Wm1rvf4UMAUwNDSUJ/B3SZIKUcIU4m3AFRHx\\\n",
       "zIg4BzgPuKvimiRJFeuYAIuIX4+IB4BXALdHxF8DZOa9wGeAbwL/HXinKxAlSR2zjD4zPwd8bp2+\\\n",
       "DwIf3NyKJEmdrGOOwCRJOh4GmCSpSAaYJKlIBpgkqUgGmCSpSAaYJKlIBpgkqUgGmCSpSAaYJKlI\\\n",
       "BpgkqUgGmCSpSAaYJKlIBpgkqUgGmCSpSAaYJKlIBpgkqUgGmCSpSAaYJHWBZrN5XO3dwACTpMJN\\\n",
       "TEwwODhIo9Foa280GgwODjIxMVFNYRvMAJOkgk1MTDA5Ocn8/DwjIyMrIdZoNBgZGWF+fp7Jycmu\\\n",
       "DDEDTJIKtRxey5ZD7Pbbb18Jr2XdGGIGmCQVqNlsMj093dY2yiiL84vs3LmTxflFRhlt65+enu6q\\\n",
       "c2IGmCQVqK+vj5mZGWq1GrAUXrvYxW52008/u9nNLnathFitVmNmZoa+vr4Kqz65DDBJKtTAwMBK\\\n",
       "iM0yy0EO0k8/N3AD/fRzkIPMMrsSXgMDA1WXfFJ1TIBFxB9ExN9HxL6I+FxE9K7quyYiDkTE/oh4\\\n",
       "fYVlSlJHGRgYYGpqigUWmGSyrW+SSRZYYGpqquvCCzoowIA7gJdk5iDQAK4BiIjzgSuAFwOXAn8c\\\n",
       "EadUVqUkdZBGo8H4+Di99FKn3tZXp04vvYyPjx+1xL4bdEyAZebfZObh1uaXgB2t55cDN2Xm45n5\\\n",
       "HeAAcFEVNUpSJ1m9VH6Y4ZVpw6u4amU6cZjho5bYd4ttVRewjrcDN7een8VSoC17oNUmSVtWs9ls\\\n",
       "Wyq/hz0AzDLLAgtczdUMM7zSvhxi+/bt65qFHJt6BBYRd0bEN9Z4XL5qn2uBw8CnT+D1xyNiLiLm\\\n",
       "Dh06dDJLl6RN99D9C3zq2v/Nn01+iU9d+7946P6Flb6+vj7Gxsba9t/DHnpqPezdu5eeWs9KeC0b\\\n",
       "GxvrmvCCTT4Cy8yLf1F/RPwbYCfwuszMVvODwNmrdtvRalvr9aeAKYChoaFcax9JKsXn/uNXySee\\\n",
       "3L7zhm/yW7/3r1a2ly9MXr6YefVqw5mZmbYjtHq93nUXMnfMFGJEXAq8D3hNZi6u6roN+LOI+BhQ\\\n",
       "A84D7qqgREnaVKvDC+AF559+1D7LoTQ9Pd22VH51iI2NjXVdeAHEkwc61YqIA8AzgeXLxL+Umb/d\\\n",
       "6ruWpfNih4F3Z+ZfPdXrDQ0N5dzc3EaVK0kb7uYPfYlH/u+Tn+ff/tFX8eznnrrmvs1mc83pwfXa\\\n",
       "1xMRd2fm0PFXu/k6JsBONgNMko5fSQHWMcvoJUk6HgaYJKlIBpgkqUgGmCSpSAaYJKlIBpgkqUgG\\\n",
       "mCSpSF17HVhEHAK+u4l/5fOBRzbx7+sEjnlrcMxbw/KY/1lmbq+6mGPRtQG22SJirpSL/04Wx7w1\\\n",
       "OOatocQxO4UoSSqSASZJKpIBdvJMVV1ABRzz1uCYt4bixuw5MElSkTwCkyQVyQB7miLiLRFxb0T8\\\n",
       "PCKGjui7JiIORMT+iHh9VTVuhIi4tDWuAxHxgarr2QgR8cmIeDgivrGq7fSIuCMivtX687QqazyZ\\\n",
       "IuLsiJiJiG+2fqd3tdq7eczPioi7IuLrrTFPttrPiYgvt36/b46Itb+Eq2ARcUpEfC0i9ra2ixuz\\\n",
       "Afb0fQN4E/CF1Y0RcT5wBfBi4FLgjyPilM0v7+RrjeM64NeA84G3tcbbbf4LS/92q30A+Hxmngd8\\\n",
       "vrXdLQ4D783M84GXA+9s/bt285gfB16bmb8KXABcGhEvBz4C7M7Mc4HHgHdUV+KG2QXct2q7uDEb\\\n",
       "YE9TZt6XmfvX6LocuCkzH8/M7wAHgIs2t7oNcxFwIDPvz8yfATexNN6ukplfAB49ovly4MbW8xuB\\\n",
       "0c2saSNl5kOZ+dXW8x+z9J/bWXT3mDMzf9LafEbrkcBrgc+22rtqzAARsQO4DPjT1nZQ4JgNsI1z\\\n",
       "FvC9VdsPtNq6QTeP7amckZkPtZ5/HzijymI2SkT0Ay8FvkyXj7k1lXYP8DBwB/BtYCEzD7d26cbf\\\n",
       "748D7wN+3truo8AxG2DHICLujIhvrPHouqMOHbtcWsLbdct4I+K5wF8A787MH63u68YxZ+YTmXkB\\\n",
       "sIOl2YUXVVvRxoqIncDDmXl31bU8XduqLqAEmXnxCfzYg8DZq7Z3tNq6QTeP7an8ICLOzMyHIuJM\\\n",
       "lj61d42IeAZL4fXpzLyl1dzVY16WmQsRMQO8AuiNiG2tI5Ju+/1+JfDGiHgD8CzgecAfUuCYPQLb\\\n",
       "OLcBV0TEMyPiHOA84K6KazpZvgKc11q1dCpLi1Vuq7imzXIbcGXr+ZXArRXWclK1zoNcD9yXmR9b\\\n",
       "1dXNY94eEb2t588GLmHp3N8M8ObWbl015sy8JjN3ZGY/S+/dv83M36DAMXsh89MUEb8O/CdgO7AA\\\n",
       "3JOZr2/1XQu8naXVXe/OzL+qqs6TrfXp7ePAKcAnM/OD1VZ08kXEnwPDLN2l+wdAHdgDfAZ4AUvf\\\n",
       "dvDWzDxyoUeRIuJVwP8E/o4nz438Dkvnwbp1zIMsLVg4haUP9J/JzN+NiH/O0uKk04GvAb+ZmY9X\\\n",
       "V+nGiIhh4N9l5s4Sx2yASZKK5BSiJKlIBpgkqUgGmCSpSAaYJKlIBpgkqUgGmCSpSAaYJKlIBpgk\\\n",
       "qUgGmCSpSAaYJKlIBpgkqUgGmCSpSAaYJKlIBpgkqUgGmCSpSAaYJKlIBpgkqUgGmCSpSAaYJKlI\\\n",
       "BpgkqUj/HxZPPWJ5m/QXAAAAAElFTkSuQmCC\\\n",
       "\"\n",
       "  frames[3] = \"data:image/png;base64,iVBORw0KGgoAAAANSUhEUgAAAbAAAAEgCAYAAADVKCZpAAAAOXRFWHRTb2Z0d2FyZQBNYXRwbG90\\\n",
       "bGliIHZlcnNpb24zLjUuMiwgaHR0cHM6Ly9tYXRwbG90bGliLm9yZy8qNh9FAAAACXBIWXMAAAsT\\\n",
       "AAALEwEAmpwYAAAXiUlEQVR4nO3df4zkd33f8ee7Nj9yitKF5eR4fHbXFZ4SQzYgrywQVbtrQDi5\\\n",
       "U7yJgBqlleugXUWi1uFQgR3+mJlKSNCqHFZL1O4GHFeisREJZ+ucNDWwK1opAdaBHBjnhgsswl6D\\\n",
       "zwPbBJ3kyPDuHzs73rnbs+/s2/1+P7PPhzS67/fzmdl7f3Q79/rO5/v5ficyE0mSSvOPqi5AkqQX\\\n",
       "wgCTJBXJAJMkFckAkyQVyQCTJBXJAJMkFckAkyQVyQCTJBXJAJMkFckAkyQVyQCTJBXJAJMkFckA\\\n",
       "kyQVyQCTJBXJAJMkFckAkyQVyQCTJBXJAJMkFckAkyQVyQCTJBXJAJMkFckAkyQVyQCTJBXJAJMk\\\n",
       "FckAkyQVyQCTJBXJAJMkFckAkyQVyQCTJBXJAJMkFckAkyQVyQCTJBXJAJMkFckAkyQV6dKqC9gp\\\n",
       "r3rVq3JiYqLqMiSpKA8//PBTmbm/6jrOx8gG2MTEBCsrK1WXIUlFiYjvVV3D+XIKUUN6vd4FtUtS\\\n",
       "VWoZYBFxSUR8LSKO9fevjogvR8TJiLgvIl5adY2jqN1uMzk5SbfbHWrvdrtMTk7SbrerKUyStlHL\\\n",
       "AAMOA49u2f8ocCQzXw38GHhPJVWNsHa7TafTYW1tjZmZmUGIdbtdZmZmWFtbo9PpGGKSaqN2ARYR\\\n",
       "B4CDwB/09wO4Afhs/yn3ALOVFDeiNsNr02aIPfjgg4Pw2mSISaqL2gUY8HHgA8DP+vvjwHpmPtPf\\\n",
       "fwy4ooK6RlKv12NxcXGobZZZTq+d5tChQ5xeO83sGccLi4uLnhOTVLlaBVhEHAKezMyHX+Dr5yNi\\\n",
       "JSJWTp06dZGrG03j4+MsLS3RaDSAjfA6zGGOcIQJJjjCEQ5zeBBijUaDpaUlxsfHK6xakmoWYMCb\\\n",
       "gV+PiFXgXjamDu8CxiJic8n/AeDx7V6cmQuZOZWZU/v3F3EZQy00m81BiC2zzCqrTDDB3dzNBBOs\\\n",
       "ssoyy4PwajabVZcsSfUKsMy8MzMPZOYEcDPwxcz8LWAJeEf/abcA91dU4shqNpssLCywzjodOkN9\\\n",
       "HTqss87CwoLhJak2ahVgz+GDwO9GxEk2zol9suJ6Rk6322V+fp4xxmjRGupr0WKMMebn589aYi9J\\\n",
       "ValtgGXmcmYe6m9/JzOvz8xXZ+Y7M/PpqusbJVuXyk8zPZg2vJVbB9OJ00yftcRekqoUmVl1DTti\\\n",
       "amoqvZXU8+v1ekxOTg4tlZ9llmWWWWedMcaYZpqjHB30NxoNjh8/7kIOaQRFxMOZOVV1Heejtp/A\\\n",
       "tDvGx8eZm5sbajvKUfY19nHs2DH2NfYNhRfA3Nyc4SVdAG/RtjMMMNFut2m1nj3vtbna8ODBg0NL\\\n",
       "7AFarZYXMksXwFu07aDMHMnHddddl9qi9QvPPs71lFYrG41GnjhxYqj9xIkT2Wg0stVq7XCR0mhp\\\n",
       "tVoJJDD03tp8T2321em9BaxkDf4PP5+H58D2ivY/3rL9/875tF6vt+304LnaJW3vzFu0wcbsxsLC\\\n",
       "AvPz80PnnaE+sxueA1OxzhVShpd0/rxF2+4wwCTpIvMWbbvDKURJ2iGb11ieXjs9CK9Nq6xyO7ez\\\n",
       "r7GvVrdocwpRkuQt2naYASZJO8RbtO0sA0ySdoC3aNt5ngOTpIus5Fu0eQ5MkvYwb9G2Oy59/qdI\\\n",
       "krYzcceDg+3Vjxwc6tu8KHnzYuatXwi7tLQ0mF6E+lzEXBoDTJJ2yGYoLS4uDi2V3xpic3NzhtcL\\\n",
       "ZIBJ0g5qt9vcdtttZ00PNpvNWpzzKpkBJkkv0JnThufiLdp2hos4JElFMsAkSUUywCRJRTLAJElF\\\n",
       "MsAkSUUywCRJRTLAJElFqlWARcTLI+IrEfHXEfFIRHT67VdHxJcj4mRE3BcRL626VklStWoVYMDT\\\n",
       "wA2Z+SvA64EbI+KNwEeBI5n5auDHwHuqK1GSVAe1CrDc8JP+7kv6jwRuAD7bb78HmN396iRJdVKr\\\n",
       "AAOIiEsi4uvAk8BDwN8C65n5TP8pjwFXVFSeJKkmahdgmfnTzHw9cAC4HnjN+b42IuYjYiUiVk6d\\\n",
       "OrVTJUqSaqB2AbYpM9eBJeBNwFhEbN54+ADw+Dles5CZU5k5tX///h2tr9frXVC7JOniqlWARcT+\\\n",
       "iBjrb/8c8DbgUTaC7B39p90C3F9JgX3tdpvJyUm63e5Qe7fbZXJy0u/2kaRdUKsAAy4HliLiOPBV\\\n",
       "4KHMPAZ8EPjdiDgJjAOfrKrAdrtNp9NhbW2NmZmZQYh1u93BN6x2Oh1DTJJ2WK2+DywzjwNv2Kb9\\\n",
       "O2ycD6vUZnht2gyxhYUF5ufnB18PDs9+jbhBJkk7o26fwGqr1+uxuLg41DbLLKfXTnPo0CFOr51m\\\n",
       "9ozV/YuLi54Tk6QdYoCdp/HxcZaWlmg0GsBGeB3mMEc4wgQTHOEIhzk8CLFGo8HS0pLfuCpJO8QA\\\n",
       "uwDNZnMQYssss8oqE0xwN3czwQSrrLLM8iC8ms1m1SVL0sgywC5Qs9lkYWGBddbp0Bnq69BhnXUW\\\n",
       "FhYML0naYQbYBep2u8zPzzPGGC1aQ30tWowxxvz8/FlL7CVJF5cBdgG2LpWfZnowbXgrtw6mE6eZ\\\n",
       "PmuJvSTp4ovMrLqGHTE1NZUrKysX7ef1ej0mJyeHlsrPMssyy6yzzhhjTDPNUY4O+huNBsePH3ch\\\n",
       "h6RiRMTDmTlVdR3nw09g52l8fJy5ubmhtqMcZV9jH8eOHWNfY99QeAHMzc0ZXpK0QwywC9But2m1\\\n",
       "nj3vtbna8ODBg0NL7AFarZYXMUvSDqrVnTjq4NHX/NJg+5f+5tGz+jdDaXFxcWip/OYS+5mZGebm\\\n",
       "5gwvSdphngM7w/MF2KZer7ft9OC52iWpBJ4D2wPOFVKGlyTtDqcQz/Bcn7okSfXhJzBJUpEMMElS\\\n",
       "kQwwSVKRDDBJUpEMMElSkQwwSVKRDDBJUpEMMElSkQwwSVKRDDBJUpEMMElSkWoVYBFxZUQsRcS3\\\n",
       "IuKRiDjcb39lRDwUEd/u//mKqmuVJFWrVgEGPAO8PzOvBd4IvDcirgXuAL6QmdcAX+jvS5L2sFoF\\\n",
       "WGY+kZl/1d/+e+BR4ArgJuCe/tPuAWYrKVCSVBu1CrCtImICeAPwZeCyzHyi3/UD4LKq6pIk1UMt\\\n",
       "Aywifh74Y+B9mfl3W/ty4yukt/0a6YiYj4iViFg5derULlQqSapK7QIsIl7CRnh9OjP/pN/8w4i4\\\n",
       "vN9/OfDkdq/NzIXMnMrMqf379+9OwZKkStQqwCIigE8Cj2bmx7Z0PQDc0t++Bbh/t2uTJNXLpVUX\\\n",
       "cIY3A/8G+EZEfL3f9nvAR4DPRMR7gO8B76qmPElSXdQqwDLz/wJxju637GYtkqR6q9UUoiRJ58sA\\\n",
       "kyQVyQCTJBXJAJMkFckAkyQVyQCTJBXJAJMkFckAkyQVyQDTOfV6vQtql6TdZIBpW+12m8nJSbrd\\\n",
       "7lB7t9tlcnKSdrtdTWGSBvb6QaYBprO02206nQ5ra2vMzMwMQqzb7TIzM8Pa2hqdTscQkyrkQSaQ\\\n",
       "mSP5uO6661IXrtVqbX7f2uDRaDTy2LFj2Wg0zuprtVpVlyztOVvfp41GI0+cOJGZmSdOnBh6n76Q\\\n",
       "9yewkjX4P/x8HpUXsFMPA+zCPfXUU2eF1CyzOcZYAjnGWM4ye1a4PfXUU1WXLu0ZO32QWVKAOYWo\\\n",
       "gfHxcZaWlmg0GgDMMsthDnOEI0wwwRGOcJjDzDILQKPRYGlpifHx8QqrlvaOXq/H4uLiUNsss5xe\\\n",
       "O82hQ4c4vXZ68P7ctLi4OLLnxAwwDWk2m4MQW2aZVVaZYIK7uZsJJlhllWWWB+HVbDarLlnaMzzI\\\n",
       "HGaA6SzNZpOFhQXWWadDZ6ivQ4d11llYWDC8pAp4kPksA0xn6Xa7zM/PM8YYLVpDfS1ajDHG/Pz8\\\n",
       "WaufJO0ODzI3GGAasnWp/DTTgyO6W7l1cKQ3zfRZS+wl7R4PMjcYYBro9XqD8AI4ylHu4i5u53ZW\\\n",
       "WeV2bucu7uIoRwEGITaqJ4ilOvIg81kGmAbGx8eZm5sbajvKUfY19nHs2DH2NfYNwmvT3NzcyJ4g\\\n",
       "lurGg8xhBpiGtNttWq1npyQ2TwQfPHhwaPUTQKvV2htX+0s14UHmGaq+EG2nHl7IfG6v+8PXDR7n\\\n",
       "0mq1hq7w37R5pb934JCq4504Nh6xUe/omZqaypWVlarLqKVfvueXB9vfuOUb53xer9fb9sjtXO2S\\\n",
       "Lo7//K8ODbbff9+xbZ/TbrdZXFw8a6n85jmyubm5FzRDEhEPZ+bUBb+wApdWXYDq61whZXhJ1Wu3\\\n",
       "29x2221nvR+bzSbHjx/fE+/T2gVYRHwKOAQ8mZmv67e9ErgPmABWgXdl5o+rqrF0z/WpS1I59vpB\\\n",
       "Zu2mECPiXwA/Af7HlgD7j8CPMvMjEXEH8IrM/OBz/RynECXpwpU0hVi7VYiZ+SXgR2c03wTc09++\\\n",
       "B864W6Ukac+pXYCdw2WZ+UR/+wfAZVUWI0mqXikBNtBf5rntvGdEzEfESkSsnDp1apcrkyTtplIC\\\n",
       "7IcRcTlA/88nt3tSZi5k5lRmTu3fv39XC5Qk7a5SAuwB4Jb+9i3A/RXWIkmqgdoFWET8EfAXwD+L\\\n",
       "iMci4j3AR4C3RcS3gbf29yVJe1jtrgPLzHefo+stu1qIJKnWavcJTJKk82GASZKKZIBJkopkgEmS\\\n",
       "imSASZKKZIBJkopkgEmSimSASZKKZIBJkopkgEmSimSASZKKZIBJkopkgEmSimSASZKKZIBJkopk\\\n",
       "gEmSimSASZKKZIBJkopkgEmSimSASZKKZIBJkopkgEmSimSASZKKZIBJkopUTIBFxI0RcSIiTkbE\\\n",
       "HVXXI0mqVhEBFhGXAJ8AfhW4Fnh3RFxbbVWSpCoVEWDA9cDJzPxOZv4DcC9wU8U1SZIqVEqAXQF8\\\n",
       "f8v+Y/02SdIeVUqAnZeImI+IlYhYOXXqVNXlSJJ2UCkB9jhw5Zb9A/22IZm5kJlTmTm1f//+XStO\\\n",
       "krT7SgmwrwLXRMTVEfFS4GbggYprkiRV6NKqCzgfmflMRPw74M+BS4BPZeYjFZclSapQEQEGkJl/\\\n",
       "Cvxp1XVIkuqhlClESZKGGGCSpCIZYJKkIhlgkqQiGWCSpCIZYJKkIhlgkqQiGWCSpCIZYJKkIhlg\\\n",
       "kqQiGWCSpCIZYJKkIhlgkqQiGWCSpCIZYJKkIhlgkqQiGWCSpCIZYJKkIhlgkqQiGWCSpCIZYJKk\\\n",
       "IhlgkqQiGWCSpCIZYJKkItUmwCLinRHxSET8LCKmzui7MyJORsSJiHh7VTVKkurj0qoL2OKbwG8C\\\n",
       "/31rY0RcC9wMvBZoAJ+PiGZm/nT3S5Qk1UVtPoFl5qOZeWKbrpuAezPz6cz8LnASuH53q5Mk1U1t\\\n",
       "Auw5XAF8f8v+Y/02SdIetqtTiBHxeeAXt+n6UGbefxF+/jwwD3DVVVe92B8nSaqxXQ2wzHzrC3jZ\\\n",
       "48CVW/YP9Nu2+/kLwALA1NRUvoC/S5JUiBKmEB8Abo6Il0XE1cA1wFcqrkmSVLHaBFhE/EZEPAa8\\\n",
       "CXgwIv4cIDMfAT4DfAv4X8B7XYEoSarNMvrM/BzwuXP0fRj48O5WJEmqs9p8ApMk6UIYYJKkIhlg\\\n",
       "kqQiGWCSpCIZYJKkIhlgkqQiGWCSpCIZYJKkIhlgkqQiGWCSpCIZYJKkIhlgkqQiGWCSpCIZYJKk\\\n",
       "IhlgkqQiGWCSpCIZYJKkIhlgkjQCer3eBbWPAgNMkgrXbreZnJyk2+0OtXe7XSYnJ2m329UUtsMM\\\n",
       "MEkqWLvdptPpsLa2xszMzCDEut0uMzMzrK2t0el0RjLEDDBJKtRmeG3aDLEHH3xwEF6bRjHEDDBJ\\\n",
       "KlCv12NxcXGobZZZTq+d5tChQ5xeO80ss0P9i4uLI3VOzACTpAKNj4+ztLREo9EANsLrMIc5whEm\\\n",
       "mOAIRzjM4UGINRoNlpaWGB8fr7Dqi8sAk6RCNZvNQYgts8wqq0wwwd3czQQTrLLKMsuD8Go2m1WX\\\n",
       "fFEZYJJUsGazycLCAuus06Ez1NehwzrrLCwsjFx4QY0CLCL+U0T8TUQcj4jPRcTYlr47I+JkRJyI\\\n",
       "iLdXWKYk1Uq322V+fp4xxmjRGupr0WKMMebn589aYj8KahNgwEPA6zJzEugCdwJExLXAzcBrgRuB\\\n",
       "34+ISyqrUpJqYutS+WmmB9OGt3LrYDpxmumzltiPikurLmBTZv7vLbt/Cbyjv30TcG9mPg18NyJO\\\n",
       "AtcDf7HLJUpSbfR6vaGl8kc5CsAyy6yzzu3czjTTg/bNEDt+/PjILOSo0yewrX4b+LP+9hXA97f0\\\n",
       "PdZvk6Q9a3x8nLm5uaG2oxxlX2Mfx44dY19j3yC8Ns3NzY1MeMEufwKLiM8Dv7hN14cy8/7+cz4E\\\n",
       "PAN8+gX8/HlgHuCqq656EZVKUj184ne+ONh+73+7Yahv88LkzYuZt642XFpaGvqE1mq1Ru5C5l0N\\\n",
       "sMx863P1R8S/BQ4Bb8nM7Dc/Dly55WkH+m3b/fwFYAFgamoqt3uOJI2SzVBaXFwcWiq/NcTm5uZG\\\n",
       "LrygRufAIuJG4APAv8zM01u6HgD+Z0R8DGgA1wBfqaBESaqldrvNbbfddtb0YLPZHKlzXmeqTYAB\\\n",
       "/xV4GfBQRAD8ZWb+TmY+EhGfAb7FxtTiezPzpxXWKUm75sxpw3M5V0iNanhBjQIsM1/9HH0fBj68\\\n",
       "i+VIkmqurqsQJUl6TgaYJKlIBpgkqUgGmCSpSAaYJKlIBpgkqUjx7A0vRktEnAK+t0t/3auAp3bp\\\n",
       "76oLx7x37MVx7+Ux/5PM3F91MedjZANsN0XESmZOVV3HbnLMe8deHLdjLoNTiJKkIhlgkqQiGWAX\\\n",
       "x0LVBVTAMe8de3HcjrkAngOTJBXJT2CSpCIZYC9CRLwzIh6JiJ9FxNQZfXdGxMmIOBERb6+qxp0Q\\\n",
       "ETf2x3UyIu6oup6dEBGfiognI+KbW9peGREPRcS3+3++osoaL7aIuDIiliLiW/3f68P99pEdd0S8\\\n",
       "PCK+EhF/3R9zp99+dUR8uf87fl9EvLTqWi+2iLgkIr4WEcf6+8WN2QB7cb4J/Cbwpa2NEXEtcDPw\\\n",
       "WuBG4Pcj4pLdL+/i64/jE8CvAtcC7+6Pd9T8IRv/dlvdAXwhM68BvtDfHyXPAO/PzGuBNwLv7f/b\\\n",
       "jvK4nwZuyMxfAV4P3BgRbwQ+Chzpf83Tj4H3VFfijjkMPLplv7gxG2AvQmY+mpkntum6Cbg3M5/O\\\n",
       "zO8CJ4Hrd7e6HXM9cDIzv5OZ/wDcy8Z4R0pmfgn40RnNNwH39LfvAWZ3s6adlplPZOZf9bf/no3/\\\n",
       "3K5ghMedG37S331J/5HADcBn++0jNWaAiDgAHAT+oL8fFDhmA2xnXAF8f8v+Y/22UTDKY3s+l2Xm\\\n",
       "E/3tHwCXVVnMToqICeANwJcZ8XH3p9K+DjwJPAT8LbCemc/0nzKKv+MfBz4A/Ky/P06BYzbAnkdE\\\n",
       "fD4ivrnNY+Q+dej85cby3ZFcwhsRPw/8MfC+zPy7rX2jOO7M/Glmvh44wMYMw2uqrWhnRcQh4MnM\\\n",
       "fLjqWl6sS6suoO4y860v4GWPA1du2T/QbxsFozy25/PDiLg8M5+IiMvZOGIfKRHxEjbC69OZ+Sf9\\\n",
       "5pEfN0BmrkfEEvAmYCwiLu1/Ihm13/E3A78eEb8GvBz4BeAuChyzn8B2xgPAzRHxsoi4GrgG+ErF\\\n",
       "NV0sXwWu6a9Yeikbi1UeqLim3fIAcEt/+xbg/gpruej650E+CTyamR/b0jWy446I/REx1t/+OeBt\\\n",
       "bJz7WwLe0X/aSI05M+/MzAOZOcHG+/eLmflbFDhmL2R+ESLiN4D/AuwH1oGvZ+bb+30fAn6bjZVd\\\n",
       "78vMP6uqzoutf+T2ceAS4FOZ+eFqK7r4IuKPgGk27tD9Q6AFHAU+A1zFxjcdvCszz1zoUayI+OfA\\\n",
       "/wG+wbPnRn6PjfNgIznuiJhkY8HCJWwc0H8mM/9DRPxTNhYovRL4GvCvM/Pp6irdGRExDfz7zDxU\\\n",
       "4pgNMElSkZxClCQVyQCTJBXJAJMkFckAkyQVyQCTJBXJAJMkFckAkyQVyQCTJBXJAJMkFckAkyQV\\\n",
       "yQCTJBXJAJMkFckAkyQVyQCTJBXJAJMkFckAkyQVyQCTJBXJAJMkFckAkyQVyQCTJBXp/wPY5YBA\\\n",
       "OEn5DwAAAABJRU5ErkJggg==\\\n",
       "\"\n",
       "  frames[4] = \"data:image/png;base64,iVBORw0KGgoAAAANSUhEUgAAAbAAAAEgCAYAAADVKCZpAAAAOXRFWHRTb2Z0d2FyZQBNYXRwbG90\\\n",
       "bGliIHZlcnNpb24zLjUuMiwgaHR0cHM6Ly9tYXRwbG90bGliLm9yZy8qNh9FAAAACXBIWXMAAAsT\\\n",
       "AAALEwEAmpwYAAAXgklEQVR4nO3df4zkd33f8ee7Nj9yitqF5eR4fHbXFZ4QQzYgrywQVbtrQDi9\\\n",
       "U7yJgBqlleugXUWi1uFQgR3+mJlKSNCqHFZL1O4GHFeisREJZ+ucHzWwK1opAdaBHBjnhgsswl6D\\\n",
       "zwPbBJ3kyPDuHzs73rnbs+/s2/1+P7PPhzS67/fzmdl7f3Q79/rO5/v5ficyE0mSSvOPqi5AkqQX\\\n",
       "wgCTJBXJAJMkFckAkyQVyQCTJBXJAJMkFckAkyQVyQCTJBXJAJMkFckAkyQVyQCTJBXJAJMkFckA\\\n",
       "kyQVyQCTJBXJAJMkFckAkyQVyQCTJBXJAJMkFckAkyQVyQCTJBXJAJMkFckAkyQVyQCTJBXJAJMk\\\n",
       "FckAkyQVyQCTJBXJAJMkFckAkyQVyQCTJBXJAJMkFckAkyQVyQCTJBXJAJMkFckAkyQV6dKqC9gp\\\n",
       "r3rVq3JiYqLqMiSpKA8//PBTmbm/6jrOx8gG2MTEBCsrK1WXIUlFiYjvVV3D+XIKUUN6vd4FtUtS\\\n",
       "VWoZYBFxSUR8LSKO9fevjogvR8TJiLgvIl5adY2jqN1uMzk5SbfbHWrvdrtMTk7SbrerKUyStlHL\\\n",
       "AAMOA49u2f8ocCQzXw38GHhPJVWNsHa7TafTYW1tjZmZmUGIdbtdZmZmWFtbo9PpGGKSaqN2ARYR\\\n",
       "B4CDwO/39wO4Afhs/yn3ALOVFDeiNsNr02aIPfjgg4Pw2mSISaqL2gUY8HHgA8DP+vvjwHpmPtPf\\\n",
       "fwy4ooK6RlKv12NxcXGobZZZTq+d5tChQ5xeO83sGccLi4uLnhOTVLlaBVhEHAKezMyHX+Dr5yNi\\\n",
       "JSJWTp06dZGrG03j4+MsLS3RaDSAjfA6zGGOcIQJJjjCEQ5zeBBijUaDpaUlxsfHK6xakmoWYMCb\\\n",
       "gV+LiFXgXjamDu8CxiJic8n/AeDx7V6cmQuZOZWZU/v3F3EZQy00m81BiC2zzCqrTDDB3dzNBBOs\\\n",
       "ssoyy4PwajabVZcsSfUKsMy8MzMPZOYEcDPwxcz8TWAJeEf/abcA91dU4shqNpssLCywzjodOkN9\\\n",
       "HTqss87CwoLhJak2ahVgz+GDwO9ExEk2zol9suJ6Rk6322V+fp4xxmjRGupr0WKMMebn589aYi9J\\\n",
       "ValtgGXmcmYe6m9/JzOvz8xXZ+Y7M/PpqusbJVuXyk8zPZg2vJVbB9OJ00yftcRekqoUmVl1DTti\\\n",
       "amoqvZXU8+v1ekxOTg4tlZ9llmWWWWedMcaYZpqjHB30NxoNjh8/7kIOaQRFxMOZOVV1Heejtp/A\\\n",
       "tDvGx8eZm5sbajvKUfY19nHs2DH2NfYNhRfA3Nyc4SVdAG/RtjMMMNFut2m1nj3vtbna8ODBg0NL\\\n",
       "7AFarZYXMksXwFu07aDMHMnHddddl7owrVYrG41GnjhxYqj9xIkT2Wg0stVqVVOYVKhWq5VAAkPv\\\n",
       "rc331GZfnd5bwErW4P/w83l4DmyvaP+TLdv/75xP6/V6204Pnqtd0vbOvEUbbMxuLCwsMD8/P3Te\\\n",
       "Geozu+E5MBXrXCFleEnnz1u07Q4DTJIuMm/RtjucQpSkHbJ5jeXptdOD8Nq0yiq3czv7GvtqdYs2\\\n",
       "pxAlSd6ibYcZYJK0Q7xF284ywCRpB3iLtp3nOTBJushKvkWb58AkaQ/zFm2749Lnf4okaTsTdzw4\\\n",
       "2F79yMGhvs2LkjcvZt76hbBLS0uD6UWoz0XMpTHAJGmHbIbS4uLi0FL5rSE2NzdneL1ABpgk7aB2\\\n",
       "u81tt9121vRgs9msxTmvkhlgkvQCnTlteC7eom1nuIhDklQkA0ySVCQDTJJUJANMklQkA0ySVCQD\\\n",
       "TJJUJANMklSkWgVYRLw8Ir4SEX8dEY9ERKfffnVEfDkiTkbEfRHx0qprlSRVq1YBBjwN3JCZvwK8\\\n",
       "HrgxIt4IfBQ4kpmvBn4MvKe6EiVJdVCrAMsNP+nvvqT/SOAG4LP99nuA2d2vTpJUJ7UKMICIuCQi\\\n",
       "vg48CTwE/C2wnpnP9J/yGHBFReVJkmqidgGWmT/NzNcDB4Drgdec72sjYj4iViJi5dSpUztVoiSp\\\n",
       "BmoXYJsycx1YAt4EjEXE5o2HDwCPn+M1C5k5lZlT+/fv39H6er3eBbVLki6uWgVYROyPiLH+9s8B\\\n",
       "bwMeZSPI3tF/2i3A/ZUU2Ndut5mcnKTb7Q61d7tdJicn/W4fSdoFtQow4HJgKSKOA18FHsrMY8AH\\\n",
       "gd+JiJPAOPDJqgpst9t0Oh3W1taYmZkZhFi32x18w2qn0zHEJGmH1er7wDLzOPCGbdq/w8b5sEpt\\\n",
       "htemzRBbWFhgfn5+8PXg8OzXiBtkkrQz6vYJrLZ6vR6Li4tDbbPMcnrtNIcOHeL02mlmz1jdv7i4\\\n",
       "6DkxSdohBth5Gh8fZ2lpiUajAWyE12EOc4QjTDDBEY5wmMODEGs0GiwtLfmNq5K0QwywC9BsNgch\\\n",
       "tswyq6wywQR3czcTTLDKKsssD8Kr2WxWXbIkjSwD7AI1m00WFhZYZ50OnaG+Dh3WWWdhYcHwkqQd\\\n",
       "ZoBdoG63y/z8PGOM0aI11NeixRhjzM/Pn7XEXpJ0cRlgF2DrUvlppgfThrdy62A6cZrps5bYS5Iu\\\n",
       "vsjMqmvYEVNTU7mysnLRfl6v12NycnJoqfwssyyzzDrrjDHGNNMc5eigv9FocPz4cRdySCpGRDyc\\\n",
       "mVNV13E+/AR2nsbHx5mbmxtqO8pR9jX2cezYMfY19g2FF8Dc3JzhJUk7xAC7AO12m1br2fNem6sN\\\n",
       "Dx48OLTEHqDVankRsyTtoFrdiaMOHn3NLw22f+lvHj2rfzOUFhcXh5bKby6xn5mZYW5uzvCSpB3m\\\n",
       "ObAzPF+Aber1ettOD56rXZJK4DmwPeBcIWV4SdLucArxDM/1qUuSVB9+ApMkFckAkyQVyQCTJBXJ\\\n",
       "AJMkFckAkyQVyQCTJBXJAJMkFckAkyQVyQCTJBXJAJMkFckAkyQVqVYBFhFXRsRSRHwrIh6JiMP9\\\n",
       "9ldGxEMR8e3+n6+oulZJUrVqFWDAM8D7M/Na4I3AeyPiWuAO4AuZeQ3whf6+JGkPq1WAZeYTmflX\\\n",
       "/e2/Bx4FrgBuAu7pP+0eYLaSAiVJtVGrANsqIiaANwBfBi7LzCf6XT8ALquqLklSPdQywCLi54E/\\\n",
       "At6XmX+3tS83vkJ626+Rjoj5iFiJiJVTp07tQqWSpKrULsAi4iVshNenM/OP+80/jIjL+/2XA09u\\\n",
       "99rMXMjMqcyc2r9//+4ULEmqRK0CLCIC+CTwaGZ+bEvXA8At/e1bgPt3uzZJUr1cWnUBZ3gz8G+B\\\n",
       "b0TE1/ttvwt8BPhMRLwH+B7wrmrKkyTVRa0CLDP/LxDn6H7LbtYiSaq3Wk0hSpJ0vgwwSVKRDDBJ\\\n",
       "UpEMMElSkQwwSVKRDDBJUpEMMElSkQwwSVKRDDCdU6/Xu6B2SdpNBpi21W63mZycpNvtDrV3u10m\\\n",
       "Jydpt9vVFCZpYK8fZBpgOku73abT6bC2tsbMzMwgxLrdLjMzM6ytrdHpdAwxqUIeZAKZOZKP6667\\\n",
       "LnXhWq3W5vetDR6NRiOPHTuWjUbjrL5Wq1V1ydKes/V92mg08sSJE5mZeeLEiaH36Qt5fwIrWYP/\\\n",
       "w8/nUXkBO/UwwC7cU089dVZIzTKbY4wlkGOM5SyzZ4XbU089VXXp0p6x0weZJQWYU4gaGB8fZ2lp\\\n",
       "iUajAcAssxzmMEc4wgQTHOEIhznMLLMANBoNlpaWGB8fr7Bqae/o9XosLi4Otc0yy+m10xw6dIjT\\\n",
       "a6cH789Ni4uLI3tOzADTkGazOQixZZZZZZUJJribu5lgglVWWWZ5EF7NZrPqkqU9w4PMYQaYztJs\\\n",
       "NllYWGCddTp0hvo6dFhnnYWFBcNLqoAHmc8ywHSWbrfL/Pw8Y4zRojXU16LFGGPMz8+ftfpJ0u7w\\\n",
       "IHODAaYhW5fKTzM9OKK7lVsHR3rTTJ+1xF7S7vEgc4MBpoFerzcIL4CjHOUu7uJ2bmeVVW7ndu7i\\\n",
       "Lo5yFGAQYqN6gliqIw8yn2WAaWB8fJy5ubmhtqMcZV9jH8eOHWNfY98gvDbNzc2N7AliqW48yBxm\\\n",
       "gGlIu92m1Xp2SmLzRPDBgweHVj8BtFqtvXG1v1QTHmSeoeoL0Xbq4YXM5/a6P3jd4HEurVZr6Ar/\\\n",
       "TZtX+nsHDqk63olj4xEb9Y6eqampXFlZqbqMWvrle355sP2NW75xzuf1er1tj9zO1S7p4vgv//rQ\\\n",
       "YPv99x3b9jntdpvFxcWzlspvniObm5t7QTMkEfFwZk5d8AsrcGnVBai+zhVShpdUvXa7zW233XbW\\\n",
       "+7HZbHL8+PE98T6tXYBFxKeAQ8CTmfm6ftsrgfuACWAVeFdm/riqGkv3XJ+6JJVjrx9k1m4KMSL+\\\n",
       "BfAT4H9uCbD/BPwoMz8SEXcAr8jMDz7Xz3EKUZIuXElTiLVbhZiZXwJ+dEbzTcA9/e174Iy7VUqS\\\n",
       "9pzaBdg5XJaZT/S3fwBcVmUxkqTqlRJgA/1lntvOe0bEfESsRMTKqVOndrkySdJuKiXAfhgRlwP0\\\n",
       "/3xyuydl5kJmTmXm1P79+3e1QEnS7iolwB4Abulv3wLcX2EtkqQaqF2ARcQfAn8B/GJEPBYR7wE+\\\n",
       "ArwtIr4NvLW/L0naw2p3HVhmvvscXW/Z1UIkSbVWu09gkiSdDwNMklQkA0ySVCQDTJJUJANMklQk\\\n",
       "A0ySVCQDTJJUJANMklQkA0ySVCQDTJJUJANMklQkA0ySVCQDTJJUJANMklQkA0ySVCQDTJJUJANM\\\n",
       "klQkA0ySVCQDTJJUJANMklQkA0ySVCQDTJJUJANMklQkA0ySVKRiAiwiboyIExFxMiLuqLoeSVK1\\\n",
       "igiwiLgE+ATwq8C1wLsj4tpqq5IkVamIAAOuB05m5ncy8x+Ae4GbKq5JklShUgLsCuD7W/Yf67dJ\\\n",
       "kvaoUgLsvETEfESsRMTKqVOnqi5HkrSDSgmwx4Ert+wf6LcNycyFzJzKzKn9+/fvWnGSpN1XSoB9\\\n",
       "FbgmIq6OiJcCNwMPVFyTJKlCl1ZdwPnIzGci4t8Dfw5cAnwqMx+puCxJUoWKCDCAzPwT4E+qrkOS\\\n",
       "VA+lTCFKkjTEAJMkFckAkyQVyQCTJBXJAJMkFckAkyQVyQCTJBXJAJMkFckAkyQVyQCTJBXJAJMk\\\n",
       "FckAkyQVyQCTJBXJAJMkFckAkyQVyQCTJBXJAJMkFckAkyQVyQCTJBXJAJMkFckAkyQVyQCTJBXJ\\\n",
       "AJMkFckAkyQVqTYBFhHvjIhHIuJnETF1Rt+dEXEyIk5ExNurqlGSVB+XVl3AFt8EfgP4H1sbI+Ja\\\n",
       "4GbgtUAD+HxENDPzp7tfoiSpLmrzCSwzH83ME9t03QTcm5lPZ+Z3gZPA9btbnSSpbmoTYM/hCuD7\\\n",
       "W/Yf67dJkvawXZ1CjIjPA7+wTdeHMvP+i/Dz54F5gKuuuurF/jhJUo3taoBl5ltfwMseB67csn+g\\\n",
       "37bdz18AFgCmpqbyBfxdkqRClDCF+ABwc0S8LCKuBq4BvlJxTZKkitUmwCLi1yPiMeBNwIMR8ecA\\\n",
       "mfkI8BngW8CfAe91BaIkqTbL6DPzc8DnztH3YeDDu1uRJKnOavMJTJKkC2GASZKKZIBJkopkgEmS\\\n",
       "imSASZKKZIBJkopkgEmSimSASZKKZIBJkopkgEmSimSASZKKZIBJkopkgEmSimSASZKKZIBJkopk\\\n",
       "gEmSimSASZKKZIBJ0gjo9XoX1D4KDDBJKly73WZycpJutzvU3u12mZycpN1uV1PYDjPAJKlg7Xab\\\n",
       "TqfD2toaMzMzgxDrdrvMzMywtrZGp9MZyRAzwCSpUJvhtWkzxB588MFBeG0axRAzwCSpQL1ej8XF\\\n",
       "xaG2WWY5vXaaQ4cOcXrtNLPMDvUvLi6O1DkxA0ySCjQ+Ps7S0hKNRgPYCK/DHOYIR5hggiMc4TCH\\\n",
       "ByHWaDRYWlpifHy8wqovLgNMkgrVbDYHIbbMMqusMsEEd3M3E0ywyirLLA/Cq9lsVl3yRWWASVLB\\\n",
       "ms0mCwsLrLNOh85QX4cO66yzsLAwcuEFNQqwiPjPEfE3EXE8Ij4XEWNb+u6MiJMRcSIi3l5hmZJU\\\n",
       "K91ul/n5ecYYo0VrqK9FizHGmJ+fP2uJ/SioTYABDwGvy8xJoAvcCRAR1wI3A68FbgR+LyIuqaxK\\\n",
       "SaqJrUvlp5keTBveyq2D6cRpps9aYj8qLq26gE2Z+b+37P4l8I7+9k3AvZn5NPDdiDgJXA/8xS6X\\\n",
       "KEm10ev1hpbKH+UoAMsss846t3M700wP2jdD7Pjx4yOzkKNOn8C2+i3gT/vbVwDf39L3WL9Nkvas\\\n",
       "8fFx5ubmhtqOcpR9jX0cO3aMfY19g/DaNDc3NzLhBbv8CSwiPg/8wjZdH8rM+/vP+RDwDPDpF/Dz\\\n",
       "54F5gKuuuupFVCpJ9fCJ3/7iYPu9//2Gob7NC5M3L2beutpwaWlp6BNaq9UauQuZdzXAMvOtz9Uf\\\n",
       "Ef8OOAS8JTOz3/w4cOWWpx3ot2338xeABYCpqanc7jmSNEo2Q2lxcXFoqfzWEJubmxu58IIanQOL\\\n",
       "iBuBDwD/MjNPb+l6APhfEfExoAFcA3ylghIlqZba7Ta33XbbWdODzWZzpM55nak2AQb8N+BlwEMR\\\n",
       "AfCXmfnbmflIRHwG+BYbU4vvzcyfVlinJO2aM6cNz+VcITWq4QU1CrDMfPVz9H0Y+PAuliNJqrm6\\\n",
       "rkKUJOk5GWCSpCIZYJKkIhlgkqQiGWCSpCIZYJKkIsWzN7wYLRFxCvjeLv11rwKe2qW/qy4c896x\\\n",
       "F8e9l8f8TzNzf9XFnI+RDbDdFBErmTlVdR27yTHvHXtx3I65DE4hSpKKZIBJkopkgF0cC1UXUAHH\\\n",
       "vHfsxXE75gJ4DkySVCQ/gUmSimSAvQgR8c6IeCQifhYRU2f03RkRJyPiRES8vaoad0JE3Ngf18mI\\\n",
       "uKPqenZCRHwqIp6MiG9uaXtlRDwUEd/u//mKKmu82CLiyohYiohv9X+vD/fbR3bcEfHyiPhKRPx1\\\n",
       "f8ydfvvVEfHl/u/4fRHx0qprvdgi4pKI+FpEHOvvFzdmA+zF+SbwG8CXtjZGxLXAzcBrgRuB34uI\\\n",
       "S3a/vIuvP45PAL8KXAu8uz/eUfMHbPzbbXUH8IXMvAb4Qn9/lDwDvD8zrwXeCLy3/287yuN+Grgh\\\n",
       "M38FeD1wY0S8EfgocKT/NU8/Bt5TXYk75jDw6Jb94sZsgL0ImfloZp7Ypusm4N7MfDozvwucBK7f\\\n",
       "3ep2zPXAycz8Tmb+A3AvG+MdKZn5JeBHZzTfBNzT374HmN3NmnZaZj6RmX/V3/57Nv5zu4IRHndu\\\n",
       "+El/9yX9RwI3AJ/tt4/UmAEi4gBwEPj9/n5Q4JgNsJ1xBfD9LfuP9dtGwSiP7flclplP9Ld/AFxW\\\n",
       "ZTE7KSImgDcAX2bEx92fSvs68CTwEPC3wHpmPtN/yij+jn8c+ADws/7+OAWO2QB7HhHx+Yj45jaP\\\n",
       "kfvUofOXG8t3R3IJb0T8PPBHwPsy8++29o3iuDPzp5n5euAAGzMMr6m2op0VEYeAJzPz4aprebEu\\\n",
       "rbqAusvMt76Alz0OXLll/0C/bRSM8tiezw8j4vLMfCIiLmfjiH2kRMRL2AivT2fmH/ebR37cAJm5\\\n",
       "HhFLwJuAsYi4tP+JZNR+x98M/FpE/Cvg5cA/Bu6iwDH7CWxnPADcHBEvi4irgWuAr1Rc08XyVeCa\\\n",
       "/oqll7KxWOWBimvaLQ8At/S3bwHur7CWi65/HuSTwKOZ+bEtXSM77ojYHxFj/e2fA97Gxrm/JeAd\\\n",
       "/aeN1Jgz887MPJCZE2y8f7+Ymb9JgWP2QuYXISJ+HfivwH5gHfh6Zr693/ch4LfYWNn1vsz806rq\\\n",
       "vNj6R24fBy4BPpWZH662oosvIv4QmGbjDt0/BFrAUeAzwFVsfNPBuzLzzIUexYqIfw78H+AbPHtu\\\n",
       "5HfZOA82kuOOiEk2FixcwsYB/Wcy8z9GxD9jY4HSK4GvAf8mM5+urtKdERHTwH/IzEMljtkAkyQV\\\n",
       "ySlESVKRDDBJUpEMMElSkQwwSVKRDDBJUpEMMElSkQwwSVKRDDBJUpEMMElSkQwwSVKRDDBJUpEM\\\n",
       "MElSkQwwSVKRDDBJUpEMMElSkQwwSVKRDDBJUpEMMElSkQwwSVKRDDBJUpH+P/VyhJP76/bnAAAA\\\n",
       "AElFTkSuQmCC\\\n",
       "\"\n",
       "\n",
       "\n",
       "    /* set a timeout to make sure all the above elements are created before\n",
       "       the object is initialized. */\n",
       "    setTimeout(function() {\n",
       "        anim3aa6fad5f0004d28b67c53d966a95d87 = new Animation(frames, img_id, slider_id, 500.0,\n",
       "                                 loop_select_id);\n",
       "    }, 0);\n",
       "  })()\n",
       "</script>\n"
      ],
      "text/plain": [
       "<IPython.core.display.HTML object>"
      ]
     },
     "execution_count": 21,
     "metadata": {},
     "output_type": "execute_result"
    }
   ],
   "source": [
    "X = data.clone()\n",
    "fig,ax = plt.subplots()\n",
    "ani = FuncAnimation(fig, do_one, frames=5, interval=500, repeat=False)\n",
    "plt.close()\n",
    "HTML(ani.to_jshtml())"
   ]
  },
  {
   "cell_type": "markdown",
   "id": "1df3d1a9-5370-4364-b9ac-fe2f2aaae3d8",
   "metadata": {},
   "source": [
    "### Accelerate with GPU"
   ]
  },
  {
   "cell_type": "code",
   "execution_count": 22,
   "id": "2dbfc64f-eba7-4ccc-b06d-55a5b030d26e",
   "metadata": {},
   "outputs": [
    {
     "data": {
      "text/plain": [
       "(torch.Size([5, 2]), torch.Size([1500, 2]))"
      ]
     },
     "execution_count": 22,
     "metadata": {},
     "output_type": "execute_result"
    }
   ],
   "source": [
    "X = data.clone()\n",
    "x = X[:5]\n",
    "x.shape,X.shape"
   ]
  },
  {
   "cell_type": "code",
   "execution_count": 23,
   "id": "77833ecc-dc39-421a-b588-e78357fe864a",
   "metadata": {},
   "outputs": [
    {
     "data": {
      "text/plain": [
       "(torch.Size([5, 1, 2]), torch.Size([1, 1500, 2]))"
      ]
     },
     "execution_count": 23,
     "metadata": {},
     "output_type": "execute_result"
    }
   ],
   "source": [
    "x[:,None].shape,X[None].shape"
   ]
  },
  {
   "cell_type": "code",
   "execution_count": 24,
   "id": "7fd72627-6f2b-435d-acdc-cdc4d2fdbc32",
   "metadata": {},
   "outputs": [
    {
     "data": {
      "text/plain": [
       "(tensor([[ 0.000,  3.899,  4.834,  ..., 17.628, 22.610, 21.617],\n",
       "         [ 3.899,  0.000,  4.978,  ..., 21.499, 26.508, 25.500],\n",
       "         [ 4.834,  4.978,  0.000,  ..., 19.373, 24.757, 23.396],\n",
       "         [ 3.726,  0.185,  4.969,  ..., 21.335, 26.336, 25.333],\n",
       "         [ 6.273,  5.547,  1.615,  ..., 20.775, 26.201, 24.785]]),\n",
       " torch.Size([5, 1500]))"
      ]
     },
     "execution_count": 24,
     "metadata": {},
     "output_type": "execute_result"
    }
   ],
   "source": [
    "dist = (x[:,None]-X[None]).pow(2).sum(2).sqrt()\n",
    "dist[:8],dist.shape"
   ]
  },
  {
   "cell_type": "code",
   "execution_count": 25,
   "id": "83834ee5-b580-405c-bb66-bc13fe73723b",
   "metadata": {},
   "outputs": [
    {
     "data": {
      "text/plain": [
       "(torch.Size([5, 1500]), torch.Size([1500, 2]))"
      ]
     },
     "execution_count": 25,
     "metadata": {},
     "output_type": "execute_result"
    }
   ],
   "source": [
    "weights = gaussian(dist,2.5)\n",
    "weights.shape,X.shape"
   ]
  },
  {
   "cell_type": "code",
   "execution_count": 26,
   "id": "da3c6861-07c5-4f87-b3d2-cc2b11ffa478",
   "metadata": {},
   "outputs": [
    {
     "data": {
      "text/plain": [
       "(torch.Size([5, 1500, 1]), torch.Size([1, 1500, 2]))"
      ]
     },
     "execution_count": 26,
     "metadata": {},
     "output_type": "execute_result"
    }
   ],
   "source": [
    "weights.unsqueeze(2).shape,X.unsqueeze(0).shape"
   ]
  },
  {
   "cell_type": "code",
   "execution_count": 27,
   "id": "b19cf4bd-faf4-4111-975b-b6eb06821a78",
   "metadata": {},
   "outputs": [
    {
     "data": {
      "text/plain": [
       "tensor([[483.806, 508.394],\n",
       "        [635.136, 701.815],\n",
       "        [427.910, 435.077],\n",
       "        [643.860, 710.631],\n",
       "        [322.766, 329.867]])"
      ]
     },
     "execution_count": 27,
     "metadata": {},
     "output_type": "execute_result"
    }
   ],
   "source": [
    "(weights.unsqueeze(2) * X.unsqueeze(0)).sum(1)"
   ]
  },
  {
   "cell_type": "code",
   "execution_count": 28,
   "id": "671e43fb-d0b5-469c-abe3-cdb9d4f0bc89",
   "metadata": {},
   "outputs": [
    {
     "data": {
      "text/plain": [
       "tensor([[483.806, 508.394],\n",
       "        [635.136, 701.815],\n",
       "        [427.910, 435.077],\n",
       "        [643.860, 710.632],\n",
       "        [322.766, 329.867]])"
      ]
     },
     "execution_count": 28,
     "metadata": {},
     "output_type": "execute_result"
    }
   ],
   "source": [
    "weights@X"
   ]
  },
  {
   "cell_type": "code",
   "execution_count": 29,
   "id": "4e0150dc-43a9-422a-9ae1-0988c42247d9",
   "metadata": {},
   "outputs": [
    {
     "data": {
      "text/plain": [
       "torch.Size([5, 1])"
      ]
     },
     "execution_count": 29,
     "metadata": {},
     "output_type": "execute_result"
    }
   ],
   "source": [
    "div = weights.sum(1,keepdim=True)\n",
    "div.shape"
   ]
  },
  {
   "cell_type": "code",
   "execution_count": 30,
   "id": "b9c52330-7846-43c5-8a14-dd6f40fdb047",
   "metadata": {},
   "outputs": [
    {
     "data": {
      "text/plain": [
       "slice(0, 5, None)"
      ]
     },
     "execution_count": 30,
     "metadata": {},
     "output_type": "execute_result"
    }
   ],
   "source": [
    "slice(0,5)"
   ]
  },
  {
   "cell_type": "code",
   "execution_count": 31,
   "id": "a83ff82e-57b9-4b35-a9ef-1ce1597847e5",
   "metadata": {},
   "outputs": [],
   "source": [
    "def mean_shift(data,bs=500):\n",
    "    X = data.clone()\n",
    "    n=len(data)\n",
    "    for _ in range(5):\n",
    "        for i in range(0, n, bs):\n",
    "            s = slice(i,min(i+bs,n))\n",
    "            x = X[s]\n",
    "            dist = dist = (x[:,None]-X[None]).pow(2).sum(2).sqrt()\n",
    "            weights = gaussian(dist,2.5)\n",
    "            X[s]= (weights@X)/weights.sum(1,keepdim=True)\n",
    "    return X"
   ]
  },
  {
   "cell_type": "code",
   "execution_count": 32,
   "id": "faab0f2c-56da-430c-a646-3396c690644f",
   "metadata": {},
   "outputs": [],
   "source": [
    "data = data.cuda()"
   ]
  },
  {
   "cell_type": "code",
   "execution_count": 33,
   "id": "d9b8ecc1-dba5-46af-892f-82d33539b030",
   "metadata": {},
   "outputs": [],
   "source": [
    "X = mean_shift(data).cpu()"
   ]
  },
  {
   "cell_type": "code",
   "execution_count": 34,
   "id": "41bf7d61-9717-4613-875b-d133f21892bd",
   "metadata": {},
   "outputs": [
    {
     "name": "stdout",
     "output_type": "stream",
     "text": [
      "CPU times: user 4.21 ms, sys: 75 µs, total: 4.29 ms\n",
      "Wall time: 3.63 ms\n"
     ]
    }
   ],
   "source": [
    "%time _=mean_shift(data,1250).cpu()"
   ]
  },
  {
   "cell_type": "code",
   "execution_count": 35,
   "id": "2b4bc2e5-830c-44a5-990c-2297354a85e4",
   "metadata": {},
   "outputs": [
    {
     "data": {
      "image/png": "[encoded data removed]",
      "text/plain": [
       "<Figure size 432x288 with 1 Axes>"
      ]
     },
     "metadata": {
      "needs_background": "light"
     },
     "output_type": "display_data"
    }
   ],
   "source": [
    "plot_data(centroids+2, X, n_samples)"
   ]
  },
  {
   "cell_type": "markdown",
   "id": "64c80215-04e1-4c52-b1b5-b43818290bbf",
   "metadata": {},
   "source": [
    "### K Means"
   ]
  },
  {
   "cell_type": "code",
   "execution_count": 36,
   "id": "17c4dd76-0769-412b-8677-07612acba733",
   "metadata": {},
   "outputs": [],
   "source": [
    "data = torch.cat(([sample(m) for m in centroids]),dim=0)\n",
    "X = data.clone()"
   ]
  },
  {
   "cell_type": "code",
   "execution_count": 37,
   "id": "e41f4acf-7ef1-4a45-b906-4379b1a96170",
   "metadata": {},
   "outputs": [],
   "source": [
    "r,c = data.shape[0],data.shape[1]"
   ]
  },
  {
   "cell_type": "code",
   "execution_count": 38,
   "id": "510bef2d-a063-4976-b0a5-0ce7ca707c22",
   "metadata": {},
   "outputs": [],
   "source": [
    "R = torch.zeros(r,n_clusters)\n",
    "indices = torch.randint(low=0,high=r,size=(n_clusters,))\n",
    "clusters = X[indices]"
   ]
  },
  {
   "cell_type": "code",
   "execution_count": 39,
   "id": "ad2c89c5-9268-4178-8a90-3b3650199e0d",
   "metadata": {},
   "outputs": [
    {
     "data": {
      "text/plain": [
       "(torch.Size([5, 2]), torch.Size([6, 2]))"
      ]
     },
     "execution_count": 39,
     "metadata": {},
     "output_type": "execute_result"
    }
   ],
   "source": [
    "x = X[:5]\n",
    "x.shape,clusters.shape"
   ]
  },
  {
   "cell_type": "code",
   "execution_count": 40,
   "id": "97f3e8f2-3fe3-4b87-ab84-75125f523c23",
   "metadata": {},
   "outputs": [
    {
     "data": {
      "text/plain": [
       "(torch.Size([5, 1, 2]), torch.Size([1, 6, 2]))"
      ]
     },
     "execution_count": 40,
     "metadata": {},
     "output_type": "execute_result"
    }
   ],
   "source": [
    "x.unsqueeze(1).shape,clusters.unsqueeze(0).shape"
   ]
  },
  {
   "cell_type": "code",
   "execution_count": 41,
   "id": "7ed029c8-8b6f-4efb-a281-4403423e3c09",
   "metadata": {},
   "outputs": [
    {
     "data": {
      "text/plain": [
       "tensor([[54.304, 43.422, 36.504, 42.852,  4.511, 24.498],\n",
       "        [55.296, 41.058, 32.664, 40.139,  1.547, 25.705],\n",
       "        [49.511, 36.911, 33.553, 36.579,  7.428, 20.104],\n",
       "        [51.131, 38.909, 34.171, 38.466,  5.718, 21.533],\n",
       "        [52.258, 40.470, 34.880, 39.972,  4.806, 22.554]])"
      ]
     },
     "execution_count": 41,
     "metadata": {},
     "output_type": "execute_result"
    }
   ],
   "source": [
    "dist = (x.unsqueeze(1) - clusters.unsqueeze(0)).pow(2).sum(2).sqrt()\n",
    "dist"
   ]
  },
  {
   "cell_type": "code",
   "execution_count": 42,
   "id": "1d81fc7d-6301-47fe-925c-95b8278ef7c5",
   "metadata": {},
   "outputs": [
    {
     "data": {
      "text/plain": [
       "tensor([4, 4, 4, 4, 4])"
      ]
     },
     "execution_count": 42,
     "metadata": {},
     "output_type": "execute_result"
    }
   ],
   "source": [
    "dist.argmin(dim=1)"
   ]
  },
  {
   "cell_type": "code",
   "execution_count": 43,
   "id": "f90d3e0a-8ff4-4482-830a-f3ce06986370",
   "metadata": {},
   "outputs": [
    {
     "data": {
      "text/plain": [
       "torch.return_types.sort(\n",
       "values=tensor([[ 4.511, 24.498, 36.504, 42.852, 43.422, 54.304],\n",
       "        [ 1.547, 25.705, 32.664, 40.139, 41.058, 55.296],\n",
       "        [ 7.428, 20.104, 33.553, 36.579, 36.911, 49.511],\n",
       "        [ 5.718, 21.533, 34.171, 38.466, 38.909, 51.131],\n",
       "        [ 4.806, 22.554, 34.880, 39.972, 40.470, 52.258]]),\n",
       "indices=tensor([[4, 5, 2, 3, 1, 0],\n",
       "        [4, 5, 2, 3, 1, 0],\n",
       "        [4, 5, 2, 3, 1, 0],\n",
       "        [4, 5, 2, 3, 1, 0],\n",
       "        [4, 5, 2, 3, 1, 0]]))"
      ]
     },
     "execution_count": 43,
     "metadata": {},
     "output_type": "execute_result"
    }
   ],
   "source": [
    "dist.sort()"
   ]
  },
  {
   "cell_type": "code",
   "execution_count": 44,
   "id": "c6eeb59b-0d42-471a-be30-42d1a6f12be3",
   "metadata": {},
   "outputs": [
    {
     "data": {
      "text/plain": [
       "tensor([[0., 0., 0., 0., 0., 0.],\n",
       "        [0., 0., 0., 0., 0., 0.],\n",
       "        [0., 0., 0., 0., 0., 0.],\n",
       "        ...,\n",
       "        [0., 0., 0., 0., 0., 0.],\n",
       "        [0., 0., 0., 0., 0., 0.],\n",
       "        [0., 0., 0., 0., 0., 0.]])"
      ]
     },
     "execution_count": 44,
     "metadata": {},
     "output_type": "execute_result"
    }
   ],
   "source": [
    "R"
   ]
  },
  {
   "cell_type": "code",
   "execution_count": 45,
   "id": "39f5dcfd-e76d-4d1c-8fb6-8ed5ea512714",
   "metadata": {},
   "outputs": [
    {
     "data": {
      "text/plain": [
       "tensor([[0., 0., 0., 0., 0., 0.],\n",
       "        [0., 0., 0., 0., 0., 0.],\n",
       "        [0., 0., 0., 0., 0., 0.],\n",
       "        [0., 0., 0., 0., 0., 0.],\n",
       "        [0., 0., 0., 0., 0., 0.]])"
      ]
     },
     "execution_count": 45,
     "metadata": {},
     "output_type": "execute_result"
    }
   ],
   "source": [
    "r1 = R[:5].clone()\n",
    "r1"
   ]
  },
  {
   "cell_type": "code",
   "execution_count": 46,
   "id": "150a0eef-b5b3-43a1-9c5e-c3d44c5cc310",
   "metadata": {},
   "outputs": [
    {
     "data": {
      "text/plain": [
       "tensor([4, 4, 4, 4, 4])"
      ]
     },
     "execution_count": 46,
     "metadata": {},
     "output_type": "execute_result"
    }
   ],
   "source": [
    "indices = dist.argmin(dim=1)\n",
    "indices"
   ]
  },
  {
   "cell_type": "code",
   "execution_count": 47,
   "id": "abb90aea-b629-4583-b52b-579e1a5b2f95",
   "metadata": {},
   "outputs": [],
   "source": [
    "row_indices = torch.arange(indices.size(0))  # Creates tensor [0, 1, 2, 3, 4]\n",
    "r1[row_indices, indices] = 1"
   ]
  },
  {
   "cell_type": "code",
   "execution_count": 48,
   "id": "0e66a185-a369-433f-b247-7aec9982b1e6",
   "metadata": {},
   "outputs": [
    {
     "data": {
      "text/plain": [
       "tensor([[0., 0., 0., 0., 1., 0.],\n",
       "        [0., 0., 0., 0., 1., 0.],\n",
       "        [0., 0., 0., 0., 1., 0.],\n",
       "        [0., 0., 0., 0., 1., 0.],\n",
       "        [0., 0., 0., 0., 1., 0.]])"
      ]
     },
     "execution_count": 48,
     "metadata": {},
     "output_type": "execute_result"
    }
   ],
   "source": [
    "r1"
   ]
  },
  {
   "cell_type": "code",
   "execution_count": 49,
   "id": "3689dee5-7755-4ae9-8114-a2f074e19d78",
   "metadata": {},
   "outputs": [
    {
     "data": {
      "text/plain": [
       "(torch.Size([6, 5, 1]), torch.Size([1, 5, 2]))"
      ]
     },
     "execution_count": 49,
     "metadata": {},
     "output_type": "execute_result"
    }
   ],
   "source": [
    "r1.t().unsqueeze(2).shape,x.unsqueeze(0).shape"
   ]
  },
  {
   "cell_type": "code",
   "execution_count": 50,
   "id": "7ee90d07-ad77-4dfb-bb6d-c8de8de95c59",
   "metadata": {},
   "outputs": [
    {
     "data": {
      "text/plain": [
       "tensor([[  0.000,   0.000],\n",
       "        [  0.000,   0.000],\n",
       "        [  0.000,   0.000],\n",
       "        [  0.000,   0.000],\n",
       "        [156.261, 167.190],\n",
       "        [  0.000,   0.000]])"
      ]
     },
     "execution_count": 50,
     "metadata": {},
     "output_type": "execute_result"
    }
   ],
   "source": [
    "# updating the clusters\n",
    "(r1.t().unsqueeze(2) * x.unsqueeze(0)).sum(1)"
   ]
  },
  {
   "cell_type": "code",
   "execution_count": 51,
   "id": "0a25263c-7754-43fb-95e2-b2fd84752d73",
   "metadata": {},
   "outputs": [
    {
     "data": {
      "text/plain": [
       "tensor([[  0.000,   0.000],\n",
       "        [  0.000,   0.000],\n",
       "        [  0.000,   0.000],\n",
       "        [  0.000,   0.000],\n",
       "        [156.261, 167.190],\n",
       "        [  0.000,   0.000]])"
      ]
     },
     "execution_count": 51,
     "metadata": {},
     "output_type": "execute_result"
    }
   ],
   "source": [
    "r1.t()@x"
   ]
  },
  {
   "cell_type": "code",
   "execution_count": 52,
   "id": "4bb6dc1d-ecba-4fcb-9064-b08ca06b1d5e",
   "metadata": {},
   "outputs": [
    {
     "data": {
      "text/plain": [
       "(torch.Size([6, 5]), torch.Size([5, 2]))"
      ]
     },
     "execution_count": 52,
     "metadata": {},
     "output_type": "execute_result"
    }
   ],
   "source": [
    "r1.t().shape,x.shape"
   ]
  },
  {
   "cell_type": "code",
   "execution_count": 53,
   "id": "02edd080-8097-4c5c-81a3-9dbfe6ed4252",
   "metadata": {},
   "outputs": [
    {
     "data": {
      "text/plain": [
       "torch.Size([6, 1])"
      ]
     },
     "execution_count": 53,
     "metadata": {},
     "output_type": "execute_result"
    }
   ],
   "source": [
    "r1.t().sum(1,keepdim=True).shape"
   ]
  },
  {
   "cell_type": "code",
   "execution_count": 105,
   "id": "f462f35d-362e-4378-9c0c-43334b7be9bf",
   "metadata": {},
   "outputs": [],
   "source": [
    "def k_means(data, clusters, max_iter=100, epsilon=1e-12):\n",
    "    n_clusters = clusters.shape[0]  # Number of clusters\n",
    "    r, c = data.shape  # Number of data points and features\n",
    "    \n",
    "    previous_cluster = torch.zeros_like(clusters)  \n",
    "    cur_iter = 0\n",
    "    X = data.clone()\n",
    "    \n",
    "    while torch.norm(previous_cluster - clusters) >= epsilon and cur_iter < max_iter:\n",
    "        previous_cluster = clusters.clone()  # Clone to prevent reference issues\n",
    "\n",
    "        # Step 1: Compute distances\n",
    "        dist = (X.unsqueeze(1) - clusters.unsqueeze(0)).pow(2).sum(2).sqrt()\n",
    "        \n",
    "        # Step 2: Assign each data point to the closest cluster\n",
    "        indices = dist.argmin(dim=1)  # Cluster assignment\n",
    "        R = torch.zeros(r, n_clusters, device=data.device)  # One-hot cluster assignment\n",
    "        R[torch.arange(r), indices] = 1\n",
    "\n",
    "        # Step 3: Compute new cluster centroids\n",
    "        div = R.T.sum(1, keepdim=True)  # Sum of points in each cluster\n",
    "        clusters = (R.T @ X) / div  # Update centroids correctly\n",
    "\n",
    "        cur_iter += 1\n",
    "\n",
    "    return clusters\n"
   ]
  },
  {
   "cell_type": "code",
   "execution_count": 77,
   "id": "cb7a0c32-8640-48ae-92ed-f8a3f74d8a97",
   "metadata": {},
   "outputs": [
    {
     "name": "stdout",
     "output_type": "stream",
     "text": [
      "CPU times: user 1.9 ms, sys: 0 ns, total: 1.9 ms\n",
      "Wall time: 1.78 ms\n"
     ]
    }
   ],
   "source": [
    "indices = torch.randperm(r)[:n_clusters]  # Selects n_clusters unique indices\n",
    "clusters = X[indices]  # Picks those points as initial cluster centers\n",
    "%time clusters = k_means(data,clusters)"
   ]
  },
  {
   "cell_type": "code",
   "execution_count": 78,
   "id": "6d359d98-93a7-4db5-b399-065abcaff87c",
   "metadata": {},
   "outputs": [],
   "source": [
    "def plot_data(centroids,clusters, data, n_samples, ax=None):\n",
    "    if ax is None: \n",
    "        _,ax = plt.subplots()\n",
    "    for i,centroid in enumerate(centroids):\n",
    "        samples = data[i*n_samples:(i+1)*n_samples]\n",
    "        ax.scatter(samples[:,0],samples[:,1],s=1)\n",
    "        ax.plot(*centroid, markersize=10, marker=\"x\", color='k', mew=5)\n",
    "        ax.plot(*centroid, markersize=5, marker=\"x\", color='m', mew=2)\n",
    "        ax.plot(*clusters[i], markersize=10, marker=\"o\", color='k', mew=5)\n",
    "        ax.plot(*clusters[i], markersize=5, marker=\"o\", color='m', mew=2)\n",
    "        "
   ]
  },
  {
   "cell_type": "code",
   "execution_count": 79,
   "id": "d5819e9f-1cbd-424a-8b10-4f25d115062f",
   "metadata": {},
   "outputs": [
    {
     "data": {
      "image/png": "[encoded data removed]",
      "text/plain": [
       "<Figure size 432x288 with 1 Axes>"
      ]
     },
     "metadata": {
      "needs_background": "light"
     },
     "output_type": "display_data"
    }
   ],
   "source": [
    "plot_data(centroids,clusters, data, n_samples)"
   ]
  },
  {
   "cell_type": "code",
   "execution_count": 101,
   "id": "2b6afcc6-aa09-4b2c-933c-153cacae1b98",
   "metadata": {},
   "outputs": [
    {
     "name": "stdout",
     "output_type": "stream",
     "text": [
      "CPU times: user 606 µs, sys: 213 µs, total: 819 µs\n",
      "Wall time: 615 µs\n"
     ]
    }
   ],
   "source": [
    "data1 = data.cuda()\n",
    "clusters1 = clusters.cuda()\n",
    "%time clusters = k_means(data1,clusters1)"
   ]
  },
  {
   "cell_type": "code",
   "execution_count": 102,
   "id": "85145bd3-7c64-4520-8a91-928d515d49c7",
   "metadata": {},
   "outputs": [
    {
     "data": {
      "image/png": "[encoded data removed]",
      "text/plain": [
       "<Figure size 432x288 with 1 Axes>"
      ]
     },
     "metadata": {
      "needs_background": "light"
     },
     "output_type": "display_data"
    }
   ],
   "source": [
    "plot_data(centroids,clusters.cpu(), data, n_samples)"
   ]
  },
  {
   "cell_type": "code",
   "execution_count": null,
   "id": "0f968747-a24a-43bc-bd51-e09ca7b2acc6",
   "metadata": {},
   "outputs": [],
   "source": []
  }
 ],
 "metadata": {
  "kernelspec": {
   "display_name": "Python 3 (ipykernel)",
   "language": "python",
   "name": "python3"
  },
  "language_info": {
   "codemirror_mode": {
    "name": "ipython",
    "version": 3
   },
   "file_extension": ".py",
   "mimetype": "text/x-python",
   "name": "python",
   "nbconvert_exporter": "python",
   "pygments_lexer": "ipython3",
   "version": "3.9.13"
  }
 },
 "nbformat": 4,
 "nbformat_minor": 5
}
